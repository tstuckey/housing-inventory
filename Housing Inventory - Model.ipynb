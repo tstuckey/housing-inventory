{
 "cells": [
  {
   "cell_type": "code",
   "execution_count": 2,
   "metadata": {},
   "outputs": [],
   "source": [
    "%matplotlib inline"
   ]
  },
  {
   "cell_type": "markdown",
   "metadata": {},
   "source": [
    "# Housing Inventory - Model\n",
    "\n",
    "Let's get the data staged in our dataframe, again."
   ]
  },
  {
   "cell_type": "code",
   "execution_count": 3,
   "metadata": {
    "pycharm": {
     "name": "#%%\n"
    }
   },
   "outputs": [],
   "source": [
    "import sqlite3\n",
    "import pandas as pd\n",
    "import numpy as np\n",
    "import matplotlib.pyplot as plt\n",
    "import scipy.stats as stats\n",
    "import random\n",
    "import patsy\n",
    "import sklearn.linear_model as linear\n",
    "import seaborn as sns\n",
    "import math\n",
    "from tabulate import tabulate\n",
    "from typing import Callable\n",
    "\n",
    "sns.set(style=\"whitegrid\")\n",
    "\n",
    "def create_connection(db_file: str) -> list:\n",
    "    \"\"\"\n",
    "    Create a database connection to the SQLite database specified by db_file\n",
    "    :param db_file: database file\n",
    "    :return: Connection object or None\n",
    "    \"\"\"\n",
    "    conn = None\n",
    "    cur = None\n",
    "    try:\n",
    "        conn = sqlite3.connect(db_file)\n",
    "        cur = conn.cursor()\n",
    "    except sqlite3.Error as e:\n",
    "        print(e)\n",
    "    return [conn, cur]\n",
    "\n",
    "\n",
    "def close_connection(db_conn: sqlite3.Connection) -> None:\n",
    "    return db_conn.close()\n",
    "\n",
    "\n",
    "db_file = 'housing_inventory.db'\n",
    "db_con, db_cur = create_connection(db_file)\n",
    "\n",
    "query = \"\"\"\n",
    "WITH mortgage_monthly(year_month, mortgage_rate) AS (\n",
    "    SELECT year_month, avg(mortgage_rate) from mortgage_rates\n",
    "    group by year_month\n",
    ")\n",
    "SELECT  hi.total_listing_count as 'housing_inventory', bp.total_units as 'housing_permits',\n",
    "        mm.mortgage_rate, pr.prime_rate, rc.credit, hi.cbsa_code, mm.year_month\n",
    "FROM housing_inventory as hi\n",
    "INNER JOIN building_permits bp\n",
    "    on hi.year_month = bp.year_month and hi.cbsa_code = bp.cbsa_code\n",
    "INNER JOIN mortgage_monthly mm\n",
    "    on hi.year_month = mm.year_month\n",
    "INNER JOIN prime_rates pr\n",
    "    on hi.year_month = pr.year_month\n",
    "INNER JOIN revolving_credit rc\n",
    "    on hi.year_month = rc.year_month\n",
    "\"\"\"\n",
    "result2 = list(db_con.execute(query))\n",
    "df = pd.read_sql_query(sql=query,con=db_con)\n",
    "close_connection(db_con)"
   ]
  },
  {
   "cell_type": "markdown",
   "metadata": {
    "pycharm": {
     "name": "#%% md\n"
    }
   },
   "source": [
    "**Linear Model Helper Functions**"
   ]
  },
  {
   "cell_type": "code",
   "execution_count": 4,
   "metadata": {
    "pycharm": {
     "name": "#%%\n"
    }
   },
   "outputs": [],
   "source": [
    "ALGORITHMS = {\n",
    "    \"linear\": linear.LinearRegression,\n",
    "    \"ridge\": linear.Ridge,\n",
    "    \"lasso\": linear.Lasso\n",
    "}\n",
    "\n",
    "\n",
    "def freeman_diaconis(data):\n",
    "    quartiles = stats.mstats.mquantiles(data, [0.25, 0.5, 0.75])\n",
    "    iqr = quartiles[2] - quartiles[0]\n",
    "    n = len(data)\n",
    "    h = 2.0 * (iqr / n ** (1.0 / 3.0))\n",
    "    return int(h)\n",
    "\n",
    "\n",
    "def plot_hist_numeric(df: pd.DataFrame, my_col: str, backup_step=2):\n",
    "    t_col = df[my_col]\n",
    "    mn = int(t_col.min())\n",
    "    mx = int(t_col.max())\n",
    "    h = freeman_diaconis(t_col)\n",
    "    if h == 0: h = backup_step\n",
    "    bins = [i for i in range(mn, mx, h)]\n",
    "\n",
    "    figure = plt.figure(figsize=(10, 6))\n",
    "\n",
    "    axes = figure.add_subplot(1, 1, 1)\n",
    "    axes.hist(t_col, bins=bins, color=\"darkslategray\")\n",
    "    axes.set_title(' '.join([my_col.title(), 'Distribution\\n (Freeman Diaconis)']))\n",
    "    axes.set_xlabel(my_col.title())\n",
    "\n",
    "    plt.show()\n",
    "    plt.close()\n",
    "    return\n",
    "\n",
    "\n",
    "def plot_hist_categorical(df: pd.DataFrame, t_col: str, do_normalize: bool):\n",
    "    data = df[t_col].value_counts(normalize=do_normalize)\n",
    "    x = list(data.index.sort_values())\n",
    "    width = 1 / 1.5\n",
    "    figure = plt.figure(figsize=(8, 6))\n",
    "\n",
    "    axes = figure.add_subplot(1, 1, 1)\n",
    "    axes.bar(x, data, width, align=\"center\", color=\"darkslategray\")\n",
    "    axes.set_xticks(x)\n",
    "    axes.set_xticklabels(data.axes[0])\n",
    "    axes.set_title(' '.join(['Distribution of', t_col.title()]))\n",
    "    axes.set_xlabel(t_col.title())\n",
    "    axes.set_ylabel('Percent' if do_normalize else 'Count')\n",
    "    axes.xaxis.grid(False)\n",
    "\n",
    "    plt.show()\n",
    "    plt.close()\n",
    "    return\n",
    "\n",
    "\n",
    "def get_correlations_en_masse(data, y, xs: list) -> pd.DataFrame:\n",
    "    rs = []\n",
    "    rhos = []\n",
    "    for x in xs:\n",
    "        r = stats.pearsonr(data[y], data[x])[0]\n",
    "        rs.append(r)\n",
    "        rho = stats.spearmanr(data[y], data[x])[0]\n",
    "        rhos.append(rho)\n",
    "    return pd.DataFrame({\"feature\": xs, \"r\": rs, \"rho\": rhos})\n",
    "\n",
    "\n",
    "def get_correlations(df: pd.DataFrame, colA: str, colB: str) -> dict:\n",
    "    results = {}\n",
    "    results['pearson'] = stats.pearsonr(df[colA], df[colB])[0]\n",
    "    results['spearman'] = stats.spearmanr(df[colA], df[colB])[0]\n",
    "    return results\n",
    "\n",
    "\n",
    "def describe_by_category(my_data: pd.DataFrame, numeric: str, categorical: str, transpose=False):\n",
    "    t_grouped = my_data.groupby(categorical)\n",
    "    t_grouped_y = t_grouped[numeric].describe()\n",
    "    if transpose:\n",
    "        print(t_grouped_y.transpose())\n",
    "    else:\n",
    "        print(t_grouped_y)\n",
    "    return t_grouped\n",
    "\n",
    "\n",
    "def plot_scatter(my_data: pd.DataFrame, y_col: str, x_col: str):\n",
    "    figure = plt.figure(figsize=(8, 6))\n",
    "    axes = figure.add_subplot(1, 1, 1)\n",
    "    axes.scatter(y=my_data[y_col], x=my_data[x_col], marker='o', color='darkslategray')\n",
    "    axes.set_ylabel(y_col.title())\n",
    "    axes.set_xlabel(x_col.title())\n",
    "    axes.set_title(' '.join([y_col, 'vs.', x_col]))\n",
    "\n",
    "    plt.show()\n",
    "    plt.close()\n",
    "\n",
    "\n",
    "def plot_by_category(my_data: pd.DataFrame, response_col: str, explanatory_col: str, relative: bool):\n",
    "    n_cols = 3\n",
    "    h = freeman_diaconis(my_data[response_col])\n",
    "    grouped = my_data.groupby(explanatory_col)\n",
    "    figure = plt.figure(figsize=(20, 6))\n",
    "\n",
    "    n_rows = math.ceil(grouped.ngroups / n_cols)\n",
    "\n",
    "    for plot_index, k in enumerate(grouped.groups.keys()):\n",
    "        axes = figure.add_subplot(n_rows, n_cols, plot_index + 1)\n",
    "        axes.hist(grouped[response_col].get_group(k), bins=h, color=\"darkslategray\", density=relative, range=(0, 40))\n",
    "        axes.set_title(\n",
    "            ' '.join([str(k), explanatory_col.title(), '-', response_col.title(), '\\ndistribution - Freeman Diaconis']))\n",
    "        axes.set_xlabel(response_col)\n",
    "\n",
    "    figure.tight_layout()\n",
    "    plt.show()\n",
    "    plt.close()\n",
    "    return\n",
    "\n",
    "\n",
    "def linear_regression(formula, data=None, style=\"linear\", params={}):\n",
    "    if data is None:\n",
    "        raise ValueError(\"The parameter 'data' must be assigned a non-nil reference to a Pandas DataFrame\")\n",
    "\n",
    "    params[\"fit_intercept\"] = False\n",
    "\n",
    "    y, X = patsy.dmatrices(formula, data, return_type=\"matrix\")\n",
    "    algorithm = ALGORITHMS[style]\n",
    "    algo = algorithm(**params)\n",
    "    model = algo.fit(X, y)\n",
    "\n",
    "    result = summarize(formula, X, y, model, style)\n",
    "\n",
    "    return result\n",
    "\n",
    "\n",
    "def bootstrap_linear_regression(formula, data=None, samples=100, style=\"linear\", params={}):\n",
    "    if data is None:\n",
    "        raise ValueError(\"The parameter 'data' must be assigned a non-nil reference to a Pandas DataFrame\")\n",
    "\n",
    "    bootstrap_results = {}\n",
    "    bootstrap_results[\"formula\"] = formula\n",
    "\n",
    "    variables = [x.strip() for x in formula.split(\"~\")[1].split(\"+\")]\n",
    "    variables = [\"intercept\"] + variables\n",
    "    bootstrap_results[\"variables\"] = variables\n",
    "\n",
    "    coeffs = []\n",
    "    sigmas = []\n",
    "    rs = []\n",
    "\n",
    "    n = len(data)\n",
    "    bootstrap_results[\"n\"] = n\n",
    "\n",
    "    for i in range(samples):\n",
    "        sampling = data.sample(len(data), replace=True)\n",
    "        results = linear_regression(formula, data=sampling, style=style, params=params)\n",
    "        coeffs.append(results[\"coefficients\"])\n",
    "        sigmas.append(results[\"sigma\"])\n",
    "        rs.append(results[\"r_squared\"])\n",
    "\n",
    "    coeffs = pd.DataFrame(coeffs, columns=variables)\n",
    "    sigmas = pd.Series(sigmas, name=\"sigma\")\n",
    "    rs = pd.Series(rs, name=\"r_squared\")\n",
    "\n",
    "    bootstrap_results[\"resampled_coefficients\"] = coeffs\n",
    "    bootstrap_results[\"resampled_sigma\"] = sigmas\n",
    "    bootstrap_results[\"resampled_r^2\"] = rs\n",
    "\n",
    "    result = linear_regression(formula, data=data)\n",
    "\n",
    "    bootstrap_results[\"residuals\"] = result[\"residuals\"]\n",
    "    bootstrap_results[\"coefficients\"] = result[\"coefficients\"]\n",
    "    bootstrap_results[\"sigma\"] = result[\"sigma\"]\n",
    "    bootstrap_results[\"r_squared\"] = result[\"r_squared\"]\n",
    "    bootstrap_results[\"model\"] = result[\"model\"]\n",
    "    bootstrap_results[\"y\"] = result[\"y\"]\n",
    "    bootstrap_results[\"y_hat\"] = result[\"y_hat\"]\n",
    "    return bootstrap_results\n",
    "\n",
    "def fmt(n, sd=2):\n",
    "    return (r\"{0:.\" + str(sd) + \"f}\").format(n)\n",
    "\n",
    "\n",
    "def boldify(xs, format):\n",
    "    if format == \"html\":\n",
    "        return [\"<strong>\" + x + \"</strong>\" if x != \"\" else \"\" for x in xs]\n",
    "    if format == \"markdown\":\n",
    "        return [\"**\" + x + \"**\" if x != \"\" else \"\" for x in xs]\n",
    "    # latex\n",
    "    return [\"\\\\textbf{\" + x + \"}\" if x != \"\" else \"\" for x in xs]\n",
    "\n",
    "\n",
    "def results_table(fit, sd=2, bootstrap=False, is_logistic=False, format=\"html\"):\n",
    "    result = {}\n",
    "    result[\"model\"] = [fit[\"formula\"]]\n",
    "\n",
    "    variables = [v.strip() for v in [\"\"] + fit[\"formula\"].split(\"~\")[1].split(\"+\")]\n",
    "    if format == 'latex':\n",
    "        variables = [v.replace(\"_\", \"\\\\_\") for v in variables]\n",
    "    coefficients = []\n",
    "\n",
    "    if bootstrap:\n",
    "        bounds = fit[\"resampled_coefficients\"].quantile([0.025, 0.975])\n",
    "        bounds = bounds.transpose()\n",
    "        bounds = bounds.values.tolist()\n",
    "        for i, b in enumerate(zip(variables, fit[\"coefficients\"], bounds)):\n",
    "            coefficient = [b[0], f\"$\\\\beta_{{{i}}}$\", fmt(b[1], sd), fmt(b[2][0], sd), fmt(b[2][1], sd)]\n",
    "            if is_logistic:\n",
    "                if i == 0:\n",
    "                    pass\n",
    "                else:\n",
    "                    coefficient.append(fmt(b[1] / 4, sd))\n",
    "            coefficients.append(coefficient)\n",
    "    else:\n",
    "        for i, b in enumerate(zip(variables, fit[\"coefficients\"])):\n",
    "            coefficients.append([b[0], f\"$\\\\beta_{{{i}}}$\", fmt(b[1], sd)])\n",
    "    result[\"coefficients\"] = coefficients\n",
    "\n",
    "    error = r\"$\\sigma$\"\n",
    "    r_label = r\"$R^2$\"\n",
    "    if is_logistic:\n",
    "        error = \"Error (%)\"\n",
    "        r_label = r\"Efron's $R^2$\"\n",
    "    if bootstrap:\n",
    "        sigma_bounds = stats.mstats.mquantiles(fit[\"resampled_sigma\"], [0.025, 0.975])\n",
    "        r_bounds = stats.mstats.mquantiles(fit[\"resampled_r^2\"], [0.025, 0.975])\n",
    "        metrics = [\n",
    "            [error, fmt(fit[\"sigma\"], sd), fmt(sigma_bounds[0], sd), fmt(sigma_bounds[1], sd)],\n",
    "            [r_label, fmt(fit[\"r_squared\"], sd), fmt(r_bounds[0], sd), fmt(r_bounds[1], sd)]]\n",
    "    else:\n",
    "        metrics = [\n",
    "            [error, fmt(fit[\"sigma\"], sd)],\n",
    "            [r_label, fmt(fit[\"r_squared\"], sd)]]\n",
    "\n",
    "    result[\"metrics\"] = metrics\n",
    "\n",
    "    title = f\"Model: {result['model'][0]}\"\n",
    "    rows = []\n",
    "    if bootstrap:\n",
    "        rows.append(boldify([\"\", \"\", \"\", \"95% BCI\"], format))\n",
    "    if is_logistic:\n",
    "        if bootstrap:\n",
    "            header = boldify([\"Coefficients\", \"\", \"Mean\", \"Lo\", \"Hi\", \"P(y=1)\"], format)\n",
    "        else:\n",
    "            header = boldify([\"Coefficients\", \"\", \"Value\"], format)\n",
    "    else:\n",
    "        if bootstrap:\n",
    "            header = boldify([\"Coefficients\", \"\", \"Mean\", \"Lo\", \"Hi\"], format)\n",
    "        else:\n",
    "            header = boldify([\"Coefficients\", \"\", \"Value\"], format)\n",
    "    rows.append(header)\n",
    "\n",
    "    for row in result[\"coefficients\"]:\n",
    "        rows.append(row)\n",
    "\n",
    "    rows.append([])\n",
    "\n",
    "    if bootstrap:\n",
    "        rows.append(boldify([\"Metrics\", \"Mean\", \"Lo\", \"Hi\"], format))\n",
    "    else:\n",
    "        rows.append(boldify([\"Metrics\", \"Value\"], format))\n",
    "    for row in result[\"metrics\"]:\n",
    "        rows.append(row)\n",
    "\n",
    "    return title, rows\n",
    "\n",
    "\n",
    "\n",
    "class ResultsWrapper(object):\n",
    "    def __init__(self, fit, sd=2, bootstrap=False, is_logistic=False):\n",
    "        self.fit = fit\n",
    "        self.sd = sd\n",
    "        self.bootstrap = bootstrap\n",
    "        self.is_logistic = is_logistic\n",
    "\n",
    "    def _repr_markdown_(self):\n",
    "        title, table = results_table(self.fit, self.sd, self.bootstrap, self.is_logistic, format=\"markdown\")\n",
    "        table = tabulate(table, tablefmt=\"github\")\n",
    "        markdown = title + \"\\n\" + table\n",
    "        return markdown\n",
    "\n",
    "    def _repr_html_(self):\n",
    "        title, table = results_table(self.fit, self.sd, self.bootstrap, self.is_logistic, format=\"html\")\n",
    "        table = tabulate(table, tablefmt=\"html\")\n",
    "        table = table.replace(\"&lt;strong&gt;\", \"<strong>\").replace(\"&lt;/strong&gt;\", \"</strong\")\n",
    "        return f\"<p><strong>{title}</strong><br/>{table}</p>\"\n",
    "\n",
    "    def _repr_latex_(self):\n",
    "        title, table = results_table(self.fit, self.sd, self.bootstrap, self.is_logistic, format=\"latex\")\n",
    "\n",
    "        title = title.replace(\"~\", \"$\\\\sim$\").replace(\"_\", \"\\\\_\")\n",
    "\n",
    "        table = tabulate(table, tablefmt=\"latex_booktabs\")\n",
    "        table = table.replace(\"textbackslash{}\", \"\").replace(\"\\^{}\", \"^\").replace(\"\\_\", \"_\")\n",
    "        table = table.replace(\"\\\\$\", \"$\").replace(\"\\\\{\", \"{\").replace(\"\\\\}\", \"}\")\n",
    "        latex = \"\\\\textbf{\" + title + \"}\\n\\n\" + table\n",
    "        return latex\n",
    "\n",
    "def describe_bootstrap_lr(fit, sd=2):\n",
    "    return ResultsWrapper(fit, sd, True, False)\n",
    "\n",
    "\n",
    "def simple_describe_lr(fit, sd=2):\n",
    "    return ResultsWrapper(fit, sd)\n",
    "\n",
    "\n",
    "def summarize(formula, X, y, model, style='linear'):\n",
    "    result = {}\n",
    "    result[\"formula\"] = formula\n",
    "    result[\"n\"] = len(y)\n",
    "    result[\"model\"] = model\n",
    "    # I think this is a bug in Scikit Learn\n",
    "    # because lasso should work with multiple targets.\n",
    "    if style == \"lasso\":\n",
    "        result[\"coefficients\"] = model.coef_\n",
    "    else:\n",
    "        result[\"coefficients\"] = model.coef_[0]\n",
    "    result[\"r_squared\"] = model.score(X, y)\n",
    "    y_hat = model.predict(X)\n",
    "    result[\"residuals\"] = y - y_hat\n",
    "    result[\"y_hat\"] = y_hat\n",
    "    result[\"y\"] = y\n",
    "    sum_squared_error = sum([e ** 2 for e in result[\"residuals\"]])[0]\n",
    "\n",
    "    n = len(result[\"residuals\"])\n",
    "    k = len(result[\"coefficients\"])\n",
    "\n",
    "    result[\"sigma\"] = np.sqrt(sum_squared_error / (n - k))\n",
    "    return result\n",
    "\n",
    "\n",
    "def correlations(data, y, xs):\n",
    "    rs = []\n",
    "    rhos = []\n",
    "    for x in xs:\n",
    "        r = stats.pearsonr(data[y], data[x])[0]\n",
    "        rs.append(r)\n",
    "        rho = stats.spearmanr(data[y], data[x])[0]\n",
    "        rhos.append(rho)\n",
    "    return pd.DataFrame({\"feature\": xs, \"r\": rs, \"rho\": rhos})\n",
    "\n",
    "\n",
    "def plot_residuals(data, result, variables):\n",
    "    figure = plt.figure(figsize=(20, 8))\n",
    "\n",
    "    plots = len(variables)\n",
    "    rows = (plots // 3) + 1\n",
    "\n",
    "    residuals = np.array([r[0] for r in result['residuals']])\n",
    "    limits = max(np.abs(residuals.min()), residuals.max())\n",
    "\n",
    "    n = result[\"n\"]\n",
    "    for i, variable in enumerate(variables):\n",
    "        axes = figure.add_subplot(rows, 3, i + 1)\n",
    "\n",
    "        keyed_values = sorted(zip(data[variable].values, residuals), key=lambda x: x[0])\n",
    "        ordered_residuals = [x[1] for x in keyed_values]\n",
    "\n",
    "        axes.plot(list(range(0, n)), ordered_residuals, '.', color='dimgray', alpha=0.75)\n",
    "        axes.axhline(y=0.0, xmin=0, xmax=n, c='firebrick', alpha=0.5)\n",
    "        axes.set_ylim((-limits, limits))\n",
    "        axes.set_ylabel('residuals')\n",
    "        axes.set_xlabel(variable)\n",
    "\n",
    "    figure.tight_layout(pad=2.0)\n",
    "    plt.show()\n",
    "    plt.close()\n",
    "    return residuals\n",
    "\n",
    "def sse(results):\n",
    "    errors = results['residuals']\n",
    "    n = len(errors)\n",
    "    squared_error = np.sum([e ** 2 for e in errors])\n",
    "    return np.sqrt((1.0 / n) * squared_error)\n",
    "\n",
    "\n",
    "def r2(results):\n",
    "    return np.mean(results['r_squared'])\n",
    "\n",
    "\n",
    "def sigma(results):\n",
    "    return np.mean(results['sigma'])\n",
    "\n",
    "\n",
    "def chunk(xs, n):\n",
    "    k, m = divmod(len(xs), n)\n",
    "    return [xs[i * k + min(i, m):(i + 1) * k + min(i + 1, m)] for i in range(n)]\n",
    "\n",
    "def resample(data):\n",
    "    n = len(data)\n",
    "    return [data[i] for i in [stats.randint.rvs(0, n - 1) for _ in range(0, n)]]\n",
    "\n",
    "def cross_validation(algorithm: Callable, formula: str, data: pd.DataFrame,\n",
    "                     fold_count=10, repetitions=3) -> dict:\n",
    "    indices = list(range(len(data)))\n",
    "    metrics = {'sse_metric': [], 'r2_metric': [], 'sigma_metric': []}\n",
    "    for _ in range(repetitions):\n",
    "        random.shuffle(indices)\n",
    "        folds = chunk(indices, fold_count)\n",
    "        for fold in folds:\n",
    "            test_data = data.iloc[fold]\n",
    "            train_indices = [idx not in fold for idx in indices]\n",
    "            train_data = data.iloc[train_indices]\n",
    "            result = algorithm(formula, data=train_data)\n",
    "            t_model = result[\"model\"]\n",
    "            y, X = patsy.dmatrices(formula, test_data, return_type=\"matrix\")\n",
    "            results = summarize(formula, X, y, t_model)\n",
    "            metrics['sse_metric'].append(sse(results))\n",
    "            metrics['r2_metric'].append(r2(results))\n",
    "            metrics['sigma_metric'].append(sigma(results))\n",
    "    return metrics\n",
    "\n"
   ]
  },
  {
   "cell_type": "markdown",
   "metadata": {
    "pycharm": {
     "name": "#%% md\n"
    }
   },
   "source": [
    "# 1. Build the Casual Loop Diagram\n",
    "\n",
    "Based on our EDA correlations, let's recap and stage a CLD table lookup to facilitate our analysis:\n",
    "\n",
    "$$\n",
    "\\begin{aligned}\n",
    "\\begin{array}{ccc}\n",
    "\\text{Variable Name} & \\text{Expected CLD sign to Housing Inventory} & \\text{comment}\\\\\n",
    "\\hline\n",
    "\\text{housing permits} & \\text{positive} & \\text{More building permits mean more higher inventory} \\\\\n",
    "\\text{mortgage rate} & \\text{positive} & \\text{Higher mortgage rates should yield higher inventory} \\\\\n",
    "\\text{credit} & \\text{negative} & \\text{Higher credit showed a slight decrease in inventory} \\\\\n",
    "\\text{prime rate} & \\text{positive} & \\text{Slight increase in prime rate increased inventory} \\\\\n",
    "\\text{cbsa code} & \\text{N/A} & \\text{categorical variable for car origin}\\\\\n",
    "\\hline\n",
    "\\end{array}\n",
    "\\end{aligned}\n",
    "$$"
   ]
  },
  {
   "cell_type": "markdown",
   "metadata": {
    "pycharm": {
     "name": "#%% md\n"
    }
   },
   "source": [
    "More detailed discussions of the signs of each of these is available in [Housing Inventory - Explore](Housing%20Inventory%20-%20Explore.ipynb)."
   ]
  },
  {
   "cell_type": "markdown",
   "metadata": {
    "pycharm": {
     "name": "#%% md\n"
    }
   },
   "source": [
    "# 2. Null-Model\n",
    "\n",
    "Recapping the single variable EDA, our null model for the housing inventory looks like the following."
   ]
  },
  {
   "cell_type": "code",
   "execution_count": 5,
   "metadata": {
    "pycharm": {
     "name": "#%%\n"
    }
   },
   "outputs": [
    {
     "data": {
      "text/plain": [
       "count     18534.000000\n",
       "mean       3634.159599\n",
       "std        8178.636988\n",
       "min         118.000000\n",
       "25%         657.000000\n",
       "50%        1318.500000\n",
       "75%        2963.000000\n",
       "max      108702.000000\n",
       "Name: housing_inventory, dtype: float64"
      ]
     },
     "execution_count": 5,
     "metadata": {},
     "output_type": "execute_result"
    }
   ],
   "source": [
    "df['housing_inventory'].describe()"
   ]
  },
  {
   "cell_type": "markdown",
   "metadata": {
    "pycharm": {
     "name": "#%% md\n"
    }
   },
   "source": [
    "From the empirical normal distribution, with a 95% error bounds, we would expect 95% of our values to fall in the range $\\mu \\pm 1.96 \\sigma$."
   ]
  },
  {
   "cell_type": "code",
   "execution_count": 6,
   "metadata": {
    "pycharm": {
     "name": "#%%\n"
    }
   },
   "outputs": [
    {
     "name": "stdout",
     "output_type": "stream",
     "text": [
      "For our null model we expect 95% of the values to fall within the range -12395.54 <= 3634.16 <= 10757.11\n"
     ]
    }
   ],
   "source": [
    "null_mu = np.mean(df['housing_inventory'])\n",
    "null_sd = np.std(df['housing_inventory'])\n",
    "print('For our null model we expect 95% of the values to fall within the range {a} <= {b} <= {c}'.format(a = round(null_mu - 1.96 * null_sd, 2), b = round(null_mu,2), c = round(null_mu + 1.96 * null_mu,2) ))"
   ]
  },
  {
   "cell_type": "markdown",
   "metadata": {
    "pycharm": {
     "name": "#%% md\n"
    }
   },
   "source": [
    "Obviously, we cannot have negative housing inventory, so a more pragmatic null model with 95% error bounds would be 0 <= 3634.16<= 10757.11\n",
    "And to summarize for our null model:\n",
    "- expected value: 3634.16\n",
    "- error: 81878.64"
   ]
  },
  {
   "cell_type": "markdown",
   "metadata": {
    "pycharm": {
     "name": "#%% md\n"
    }
   },
   "source": [
    "# 3. Linear Model Development\n",
    "\n",
    "Now let's start building our linear model. First let's do some setup for categorical variable encoding."
   ]
  },
  {
   "cell_type": "code",
   "execution_count": 7,
   "metadata": {
    "pycharm": {
     "name": "#%%\n"
    }
   },
   "outputs": [],
   "source": [
    "df = pd.concat([df, pd.get_dummies(df['cbsa_code'], prefix='cbsa_encoded')], axis=1)"
   ]
  },
  {
   "cell_type": "markdown",
   "metadata": {
    "pycharm": {
     "name": "#%% md\n"
    }
   },
   "source": [
    "Now, although is a repeat of our EDA, let's get the correlations en-masse for our numeric variables (thus, excluding the hundreds of cbsa regions)."
   ]
  },
  {
   "cell_type": "code",
   "execution_count": 8,
   "metadata": {
    "pycharm": {
     "name": "#%%\n"
    }
   },
   "outputs": [
    {
     "data": {
      "text/html": [
       "<div>\n",
       "<style scoped>\n",
       "    .dataframe tbody tr th:only-of-type {\n",
       "        vertical-align: middle;\n",
       "    }\n",
       "\n",
       "    .dataframe tbody tr th {\n",
       "        vertical-align: top;\n",
       "    }\n",
       "\n",
       "    .dataframe thead th {\n",
       "        text-align: right;\n",
       "    }\n",
       "</style>\n",
       "<table border=\"1\" class=\"dataframe\">\n",
       "  <thead>\n",
       "    <tr style=\"text-align: right;\">\n",
       "      <th></th>\n",
       "      <th>feature</th>\n",
       "      <th>r</th>\n",
       "      <th>rho</th>\n",
       "    </tr>\n",
       "  </thead>\n",
       "  <tbody>\n",
       "    <tr>\n",
       "      <th>0</th>\n",
       "      <td>housing_permits</td>\n",
       "      <td>0.771859</td>\n",
       "      <td>0.788558</td>\n",
       "    </tr>\n",
       "    <tr>\n",
       "      <th>1</th>\n",
       "      <td>mortgage_rate</td>\n",
       "      <td>0.013516</td>\n",
       "      <td>0.026773</td>\n",
       "    </tr>\n",
       "    <tr>\n",
       "      <th>2</th>\n",
       "      <td>prime_rate</td>\n",
       "      <td>0.009512</td>\n",
       "      <td>0.030447</td>\n",
       "    </tr>\n",
       "    <tr>\n",
       "      <th>3</th>\n",
       "      <td>credit</td>\n",
       "      <td>-0.003588</td>\n",
       "      <td>-0.029388</td>\n",
       "    </tr>\n",
       "  </tbody>\n",
       "</table>\n",
       "</div>"
      ],
      "text/plain": [
       "           feature         r       rho\n",
       "0  housing_permits  0.771859  0.788558\n",
       "1    mortgage_rate  0.013516  0.026773\n",
       "2       prime_rate  0.009512  0.030447\n",
       "3           credit -0.003588 -0.029388"
      ]
     },
     "execution_count": 8,
     "metadata": {},
     "output_type": "execute_result"
    }
   ],
   "source": [
    "get_correlations_en_masse(data=df, y = 'housing_inventory', xs = ['housing_permits', 'mortgage_rate', 'prime_rate', 'credit'])"
   ]
  },
  {
   "cell_type": "markdown",
   "metadata": {
    "pycharm": {
     "name": "#%% md\n"
    }
   },
   "source": [
    "Again, this is just portion repetition of the EDA steps. For more detailed discussion, please see [Housing Iventory - Explore](Housing%20Inventory%20-%20Explore.ipynb)."
   ]
  },
  {
   "cell_type": "markdown",
   "metadata": {
    "pycharm": {
     "name": "#%% md\n"
    }
   },
   "source": [
    "## 3.1a Linear Model Development\n",
    "\n",
    "Let's first try with all the variables."
   ]
  },
  {
   "cell_type": "code",
   "execution_count": 9,
   "metadata": {
    "pycharm": {
     "name": "#%%\n"
    }
   },
   "outputs": [],
   "source": [
    "cbsa_mask = ['cbsa' in x for x in df.columns]\n",
    "cbsa_cols = [b for a,b in zip(cbsa_mask, df.columns) if a]\n",
    "\n",
    "# cut-out the org cbsa_code and the last one\n",
    "cbsa_cols = cbsa_cols[1:-1]\n",
    "cbsa_cols = ' + '.join(cbsa_cols)"
   ]
  },
  {
   "cell_type": "code",
   "execution_count": 10,
   "metadata": {
    "pycharm": {
     "name": "#%%\n"
    }
   },
   "outputs": [
    {
     "data": {
      "text/html": [
       "<p><strong>Model: housing_inventory ~ housing_permits + mortgage_rate + credit+ prime_rate +cbsa_encoded_10180 + cbsa_encoded_10420 + cbsa_encoded_10500 + cbsa_encoded_10540 + cbsa_encoded_10580 + cbsa_encoded_10740 + cbsa_encoded_10780 + cbsa_encoded_10900 + cbsa_encoded_11020 + cbsa_encoded_11100 + cbsa_encoded_11180 + cbsa_encoded_11260 + cbsa_encoded_11460 + cbsa_encoded_11500 + cbsa_encoded_11540 + cbsa_encoded_11700 + cbsa_encoded_12020 + cbsa_encoded_12060 + cbsa_encoded_12100 + cbsa_encoded_12220 + cbsa_encoded_12260 + cbsa_encoded_12420 + cbsa_encoded_12540 + cbsa_encoded_12580 + cbsa_encoded_12620 + cbsa_encoded_12700 + cbsa_encoded_12940 + cbsa_encoded_12980 + cbsa_encoded_13020 + cbsa_encoded_13140 + cbsa_encoded_13220 + cbsa_encoded_13380 + cbsa_encoded_13460 + cbsa_encoded_13740 + cbsa_encoded_13780 + cbsa_encoded_13820 + cbsa_encoded_13900 + cbsa_encoded_13980 + cbsa_encoded_14010 + cbsa_encoded_14020 + cbsa_encoded_14100 + cbsa_encoded_14260 + cbsa_encoded_14460 + cbsa_encoded_14500 + cbsa_encoded_14540 + cbsa_encoded_14740 + cbsa_encoded_14860 + cbsa_encoded_15180 + cbsa_encoded_15260 + cbsa_encoded_15380 + cbsa_encoded_15500 + cbsa_encoded_15540 + cbsa_encoded_15680 + cbsa_encoded_15940 + cbsa_encoded_15980 + cbsa_encoded_16020 + cbsa_encoded_16060 + cbsa_encoded_16180 + cbsa_encoded_16220 + cbsa_encoded_16300 + cbsa_encoded_16540 + cbsa_encoded_16580 + cbsa_encoded_16620 + cbsa_encoded_16700 + cbsa_encoded_16740 + cbsa_encoded_16820 + cbsa_encoded_16860 + cbsa_encoded_16940 + cbsa_encoded_16980 + cbsa_encoded_17020 + cbsa_encoded_17140 + cbsa_encoded_17300 + cbsa_encoded_17420 + cbsa_encoded_17460 + cbsa_encoded_17660 + cbsa_encoded_17780 + cbsa_encoded_17820 + cbsa_encoded_17860 + cbsa_encoded_17900 + cbsa_encoded_17980 + cbsa_encoded_18020 + cbsa_encoded_18140 + cbsa_encoded_18580 + cbsa_encoded_18700 + cbsa_encoded_18880 + cbsa_encoded_19060 + cbsa_encoded_19100 + cbsa_encoded_19140 + cbsa_encoded_19180 + cbsa_encoded_19300 + cbsa_encoded_19340 + cbsa_encoded_19380 + cbsa_encoded_19460 + cbsa_encoded_19500 + cbsa_encoded_19660 + cbsa_encoded_19740 + cbsa_encoded_19780 + cbsa_encoded_19820 + cbsa_encoded_20020 + cbsa_encoded_20100 + cbsa_encoded_20220 + cbsa_encoded_20260 + cbsa_encoded_20500 + cbsa_encoded_20700 + cbsa_encoded_20740 + cbsa_encoded_20940 + cbsa_encoded_21060 + cbsa_encoded_21140 + cbsa_encoded_21300 + cbsa_encoded_21340 + cbsa_encoded_21420 + cbsa_encoded_21500 + cbsa_encoded_21660 + cbsa_encoded_21780 + cbsa_encoded_21820 + cbsa_encoded_22020 + cbsa_encoded_22140 + cbsa_encoded_22180 + cbsa_encoded_22220 + cbsa_encoded_22380 + cbsa_encoded_22420 + cbsa_encoded_22500 + cbsa_encoded_22520 + cbsa_encoded_22540 + cbsa_encoded_22660 + cbsa_encoded_22900 + cbsa_encoded_23060 + cbsa_encoded_23420 + cbsa_encoded_23460 + cbsa_encoded_23540 + cbsa_encoded_23580 + cbsa_encoded_23900 + cbsa_encoded_24020 + cbsa_encoded_24140 + cbsa_encoded_24220 + cbsa_encoded_24260 + cbsa_encoded_24300 + cbsa_encoded_24340 + cbsa_encoded_24420 + cbsa_encoded_24500 + cbsa_encoded_24540 + cbsa_encoded_24580 + cbsa_encoded_24660 + cbsa_encoded_24780 + cbsa_encoded_24860 + cbsa_encoded_25060 + cbsa_encoded_25180 + cbsa_encoded_25220 + cbsa_encoded_25260 + cbsa_encoded_25420 + cbsa_encoded_25500 + cbsa_encoded_25540 + cbsa_encoded_25620 + cbsa_encoded_25860 + cbsa_encoded_25940 + cbsa_encoded_25980 + cbsa_encoded_26140 + cbsa_encoded_26300 + cbsa_encoded_26380 + cbsa_encoded_26420 + cbsa_encoded_26580 + cbsa_encoded_26620 + cbsa_encoded_26820 + cbsa_encoded_26900 + cbsa_encoded_26980 + cbsa_encoded_27060 + cbsa_encoded_27100 + cbsa_encoded_27140 + cbsa_encoded_27180 + cbsa_encoded_27260 + cbsa_encoded_27340 + cbsa_encoded_27500 + cbsa_encoded_27620 + cbsa_encoded_27740 + cbsa_encoded_27780 + cbsa_encoded_27860 + cbsa_encoded_27900 + cbsa_encoded_27980 + cbsa_encoded_28020 + cbsa_encoded_28100 + cbsa_encoded_28140 + cbsa_encoded_28420 + cbsa_encoded_28660 + cbsa_encoded_28700 + cbsa_encoded_28740 + cbsa_encoded_28940 + cbsa_encoded_29020 + cbsa_encoded_29100 + cbsa_encoded_29180 + cbsa_encoded_29200 + cbsa_encoded_29340 + cbsa_encoded_29420 + cbsa_encoded_29460 + cbsa_encoded_29540 + cbsa_encoded_29620 + cbsa_encoded_29700 + cbsa_encoded_29740 + cbsa_encoded_29820 + cbsa_encoded_29940 + cbsa_encoded_30020 + cbsa_encoded_30140 + cbsa_encoded_30300 + cbsa_encoded_30340 + cbsa_encoded_30460 + cbsa_encoded_30620 + cbsa_encoded_30700 + cbsa_encoded_30780 + cbsa_encoded_30860 + cbsa_encoded_30980 + cbsa_encoded_31020 + cbsa_encoded_31080 + cbsa_encoded_31140 + cbsa_encoded_31180 + cbsa_encoded_31340 + cbsa_encoded_31420 + cbsa_encoded_31460 + cbsa_encoded_31540 + cbsa_encoded_31700 + cbsa_encoded_31740 + cbsa_encoded_31860 + cbsa_encoded_31900 + cbsa_encoded_32580 + cbsa_encoded_32780 + cbsa_encoded_32820 + cbsa_encoded_32900 + cbsa_encoded_33100 + cbsa_encoded_33140 + cbsa_encoded_33220 + cbsa_encoded_33260 + cbsa_encoded_33340 + cbsa_encoded_33460 + cbsa_encoded_33540 + cbsa_encoded_33660 + cbsa_encoded_33700 + cbsa_encoded_33740 + cbsa_encoded_33780 + cbsa_encoded_33860 + cbsa_encoded_34060 + cbsa_encoded_34100 + cbsa_encoded_34580 + cbsa_encoded_34620 + cbsa_encoded_34740 + cbsa_encoded_34820 + cbsa_encoded_34900 + cbsa_encoded_34940 + cbsa_encoded_34980 + cbsa_encoded_35100 + cbsa_encoded_35300 + cbsa_encoded_35380 + cbsa_encoded_35620 + cbsa_encoded_35660 + cbsa_encoded_35840 + cbsa_encoded_35980 + cbsa_encoded_36100 + cbsa_encoded_36140 + cbsa_encoded_36220 + cbsa_encoded_36260 + cbsa_encoded_36420 + cbsa_encoded_36500 + cbsa_encoded_36540 + cbsa_encoded_36740 + cbsa_encoded_36780 + cbsa_encoded_36980 + cbsa_encoded_37100 + cbsa_encoded_37340 + cbsa_encoded_37460 + cbsa_encoded_37620 + cbsa_encoded_37860 + cbsa_encoded_37900 + cbsa_encoded_37980 + cbsa_encoded_38060 + cbsa_encoded_38220 + cbsa_encoded_38300 + cbsa_encoded_38340 + cbsa_encoded_38540 + cbsa_encoded_38860 + cbsa_encoded_38900 + cbsa_encoded_38940 + cbsa_encoded_39140 + cbsa_encoded_39300 + cbsa_encoded_39340 + cbsa_encoded_39380 + cbsa_encoded_39460 + cbsa_encoded_39540 + cbsa_encoded_39580 + cbsa_encoded_39660 + cbsa_encoded_39740 + cbsa_encoded_39820 + cbsa_encoded_39900 + cbsa_encoded_40060 + cbsa_encoded_40140 + cbsa_encoded_40220 + cbsa_encoded_40340 + cbsa_encoded_40380 + cbsa_encoded_40420 + cbsa_encoded_40580 + cbsa_encoded_40660 + cbsa_encoded_40900 + cbsa_encoded_40980 + cbsa_encoded_41060 + cbsa_encoded_41100 + cbsa_encoded_41140 + cbsa_encoded_41180 + cbsa_encoded_41420 + cbsa_encoded_41500 + cbsa_encoded_41540 + cbsa_encoded_41620 + cbsa_encoded_41660 + cbsa_encoded_41700 + cbsa_encoded_41740 + cbsa_encoded_41860 + cbsa_encoded_41940 + cbsa_encoded_42020 + cbsa_encoded_42100 + cbsa_encoded_42140 + cbsa_encoded_42200 + cbsa_encoded_42220 + cbsa_encoded_42340 + cbsa_encoded_42540 + cbsa_encoded_42660 + cbsa_encoded_42680 + cbsa_encoded_42700 + cbsa_encoded_43100 + cbsa_encoded_43300 + cbsa_encoded_43340 + cbsa_encoded_43420 + cbsa_encoded_43580 + cbsa_encoded_43620 + cbsa_encoded_43780 + cbsa_encoded_43900 + cbsa_encoded_44060 + cbsa_encoded_44100 + cbsa_encoded_44140 + cbsa_encoded_44180 + cbsa_encoded_44220 + cbsa_encoded_44300 + cbsa_encoded_44420 + cbsa_encoded_44700 + cbsa_encoded_44940 + cbsa_encoded_45060 + cbsa_encoded_45220 + cbsa_encoded_45300 + cbsa_encoded_45460 + cbsa_encoded_45500 + cbsa_encoded_45540 + cbsa_encoded_45780 + cbsa_encoded_45820 + cbsa_encoded_45940 + cbsa_encoded_46060 + cbsa_encoded_46140 + cbsa_encoded_46220 + cbsa_encoded_46300 + cbsa_encoded_46340 + cbsa_encoded_46520 + cbsa_encoded_46540 + cbsa_encoded_46660 + cbsa_encoded_46700 + cbsa_encoded_47020 + cbsa_encoded_47220 + cbsa_encoded_47260 + cbsa_encoded_47300 + cbsa_encoded_47380 + cbsa_encoded_47460 + cbsa_encoded_47580 + cbsa_encoded_47900 + cbsa_encoded_47940 + cbsa_encoded_48060 + cbsa_encoded_48140 + cbsa_encoded_48260 + cbsa_encoded_48300 + cbsa_encoded_48540 + cbsa_encoded_48620 + cbsa_encoded_48660 + cbsa_encoded_48700 + cbsa_encoded_48900 + cbsa_encoded_49020 + cbsa_encoded_49180 + cbsa_encoded_49340 + cbsa_encoded_49420 + cbsa_encoded_49620 + cbsa_encoded_49660 + cbsa_encoded_49700</strong><br/><table>\n",
       "<tbody>\n",
       "<tr><td>                             </td><td>                     </td><td>                     </td><td><strong>95% BCI</strong</td><td>                   </td></tr>\n",
       "<tr><td><strong>Coefficients</strong</td><td>                     </td><td><strong>Mean</strong</td><td><strong>Lo</strong     </td><td><strong>Hi</strong</td></tr>\n",
       "<tr><td>                             </td><td>$\\beta_{0}$          </td><td>2905.93              </td><td>1985.96                 </td><td>3797.89            </td></tr>\n",
       "<tr><td>housing_permits              </td><td>$\\beta_{1}$          </td><td>-1.19                </td><td>-1.99                   </td><td>-0.51              </td></tr>\n",
       "<tr><td>mortgage_rate                </td><td>$\\beta_{2}$          </td><td>-26.44               </td><td>-97.29                  </td><td>56.41              </td></tr>\n",
       "<tr><td>credit                       </td><td>$\\beta_{3}$          </td><td>-0.00                </td><td>-0.00                   </td><td>-0.00              </td></tr>\n",
       "<tr><td>prime_rate                   </td><td>$\\beta_{4}$          </td><td>288.52               </td><td>224.53                  </td><td>349.47             </td></tr>\n",
       "<tr><td>cbsa_encoded_10180           </td><td>$\\beta_{5}$          </td><td>17.00                </td><td>-77.28                  </td><td>105.51             </td></tr>\n",
       "<tr><td>cbsa_encoded_10420           </td><td>$\\beta_{6}$          </td><td>1843.81              </td><td>1708.19                 </td><td>2014.07            </td></tr>\n",
       "<tr><td>cbsa_encoded_10500           </td><td>$\\beta_{7}$          </td><td>-353.94              </td><td>-434.04                 </td><td>-263.51            </td></tr>\n",
       "<tr><td>cbsa_encoded_10540           </td><td>$\\beta_{8}$          </td><td>-146.85              </td><td>-250.83                 </td><td>-39.90             </td></tr>\n",
       "<tr><td>cbsa_encoded_10580           </td><td>$\\beta_{9}$          </td><td>5046.21              </td><td>4781.73                 </td><td>5289.01            </td></tr>\n",
       "<tr><td>cbsa_encoded_10740           </td><td>$\\beta_{10}$         </td><td>3270.77              </td><td>3113.09                 </td><td>3531.70            </td></tr>\n",
       "<tr><td>cbsa_encoded_10780           </td><td>$\\beta_{11}$         </td><td>-279.27              </td><td>-357.50                 </td><td>-204.23            </td></tr>\n",
       "<tr><td>cbsa_encoded_10900           </td><td>$\\beta_{12}$         </td><td>3151.49              </td><td>2860.29                 </td><td>3421.66            </td></tr>\n",
       "<tr><td>cbsa_encoded_11020           </td><td>$\\beta_{13}$         </td><td>-532.05              </td><td>-617.22                 </td><td>-453.35            </td></tr>\n",
       "<tr><td>cbsa_encoded_11100           </td><td>$\\beta_{14}$         </td><td>540.31               </td><td>479.78                  </td><td>614.74             </td></tr>\n",
       "<tr><td>cbsa_encoded_11180           </td><td>$\\beta_{15}$         </td><td>-362.40              </td><td>-445.57                 </td><td>-287.96            </td></tr>\n",
       "<tr><td>cbsa_encoded_11260           </td><td>$\\beta_{16}$         </td><td>822.44               </td><td>718.47                  </td><td>926.12             </td></tr>\n",
       "<tr><td>cbsa_encoded_11460           </td><td>$\\beta_{17}$         </td><td>591.22               </td><td>506.96                  </td><td>697.16             </td></tr>\n",
       "<tr><td>cbsa_encoded_11500           </td><td>$\\beta_{18}$         </td><td>-289.09              </td><td>-378.07                 </td><td>-219.02            </td></tr>\n",
       "<tr><td>cbsa_encoded_11540           </td><td>$\\beta_{19}$         </td><td>81.62                </td><td>17.42                   </td><td>143.54             </td></tr>\n",
       "<tr><td>cbsa_encoded_11700           </td><td>$\\beta_{20}$         </td><td>2812.14              </td><td>2637.37                 </td><td>3004.92            </td></tr>\n",
       "<tr><td>cbsa_encoded_12020           </td><td>$\\beta_{21}$         </td><td>653.07               </td><td>586.19                  </td><td>708.83             </td></tr>\n",
       "<tr><td>cbsa_encoded_12060           </td><td>$\\beta_{22}$         </td><td>59698.46             </td><td>56732.56                </td><td>62309.57           </td></tr>\n",
       "<tr><td>cbsa_encoded_12100           </td><td>$\\beta_{23}$         </td><td>2584.84              </td><td>2457.08                 </td><td>2730.91            </td></tr>\n",
       "<tr><td>cbsa_encoded_12220           </td><td>$\\beta_{24}$         </td><td>54.11                </td><td>-18.78                  </td><td>110.73             </td></tr>\n",
       "<tr><td>cbsa_encoded_12260           </td><td>$\\beta_{25}$         </td><td>2649.26              </td><td>2492.81                 </td><td>2815.06            </td></tr>\n",
       "<tr><td>cbsa_encoded_12420           </td><td>$\\beta_{26}$         </td><td>12952.94             </td><td>11139.81                </td><td>15334.99           </td></tr>\n",
       "<tr><td>cbsa_encoded_12540           </td><td>$\\beta_{27}$         </td><td>2645.62              </td><td>2429.30                 </td><td>2837.07            </td></tr>\n",
       "<tr><td>cbsa_encoded_12580           </td><td>$\\beta_{28}$         </td><td>11199.64             </td><td>10470.67                </td><td>11995.57           </td></tr>\n",
       "<tr><td>cbsa_encoded_12620           </td><td>$\\beta_{29}$         </td><td>7.36                 </td><td>-86.43                  </td><td>87.47              </td></tr>\n",
       "<tr><td>cbsa_encoded_12700           </td><td>$\\beta_{30}$         </td><td>2993.60              </td><td>2817.11                 </td><td>3158.38            </td></tr>\n",
       "<tr><td>cbsa_encoded_12940           </td><td>$\\beta_{31}$         </td><td>3249.05              </td><td>2942.17                 </td><td>3559.25            </td></tr>\n",
       "<tr><td>cbsa_encoded_12980           </td><td>$\\beta_{32}$         </td><td>-460.49              </td><td>-545.29                 </td><td>-366.72            </td></tr>\n",
       "<tr><td>cbsa_encoded_13020           </td><td>$\\beta_{33}$         </td><td>-352.47              </td><td>-430.66                 </td><td>-273.87            </td></tr>\n",
       "<tr><td>cbsa_encoded_13140           </td><td>$\\beta_{34}$         </td><td>985.18               </td><td>899.06                  </td><td>1052.79            </td></tr>\n",
       "<tr><td>cbsa_encoded_13220           </td><td>$\\beta_{35}$         </td><td>-227.84              </td><td>-312.06                 </td><td>-147.48            </td></tr>\n",
       "<tr><td>cbsa_encoded_13380           </td><td>$\\beta_{36}$         </td><td>35.45                </td><td>-47.10                  </td><td>128.52             </td></tr>\n",
       "<tr><td>cbsa_encoded_13460           </td><td>$\\beta_{37}$         </td><td>1173.40              </td><td>984.97                  </td><td>1333.98            </td></tr>\n",
       "<tr><td>cbsa_encoded_13740           </td><td>$\\beta_{38}$         </td><td>429.08               </td><td>362.61                  </td><td>505.98             </td></tr>\n",
       "<tr><td>cbsa_encoded_13780           </td><td>$\\beta_{39}$         </td><td>577.29               </td><td>485.98                  </td><td>683.35             </td></tr>\n",
       "<tr><td>cbsa_encoded_13820           </td><td>$\\beta_{40}$         </td><td>5902.68              </td><td>5650.50                 </td><td>6251.07            </td></tr>\n",
       "<tr><td>cbsa_encoded_13900           </td><td>$\\beta_{41}$         </td><td>-164.57              </td><td>-252.44                 </td><td>-105.89            </td></tr>\n",
       "<tr><td>cbsa_encoded_13980           </td><td>$\\beta_{42}$         </td><td>-2.75                </td><td>-73.73                  </td><td>56.72              </td></tr>\n",
       "<tr><td>cbsa_encoded_14010           </td><td>$\\beta_{43}$         </td><td>374.91               </td><td>302.27                  </td><td>448.29             </td></tr>\n",
       "<tr><td>cbsa_encoded_14020           </td><td>$\\beta_{44}$         </td><td>-73.70               </td><td>-145.09                 </td><td>-14.53             </td></tr>\n",
       "<tr><td>cbsa_encoded_14100           </td><td>$\\beta_{45}$         </td><td>-493.65              </td><td>-564.44                 </td><td>-423.47            </td></tr>\n",
       "<tr><td>cbsa_encoded_14260           </td><td>$\\beta_{46}$         </td><td>2985.84              </td><td>2575.51                 </td><td>3522.37            </td></tr>\n",
       "<tr><td>cbsa_encoded_14460           </td><td>$\\beta_{47}$         </td><td>12148.88             </td><td>11194.28                </td><td>13042.45           </td></tr>\n",
       "<tr><td>cbsa_encoded_14500           </td><td>$\\beta_{48}$         </td><td>1231.66              </td><td>1060.05                 </td><td>1403.40            </td></tr>\n",
       "<tr><td>cbsa_encoded_14540           </td><td>$\\beta_{49}$         </td><td>71.08                </td><td>-0.96                   </td><td>137.44             </td></tr>\n",
       "<tr><td>cbsa_encoded_14740           </td><td>$\\beta_{50}$         </td><td>35.68                </td><td>-53.09                  </td><td>116.30             </td></tr>\n",
       "<tr><td>cbsa_encoded_14860           </td><td>$\\beta_{51}$         </td><td>6971.64              </td><td>6635.83                 </td><td>7335.96            </td></tr>\n",
       "<tr><td>cbsa_encoded_15180           </td><td>$\\beta_{52}$         </td><td>1218.64              </td><td>1147.47                 </td><td>1311.78            </td></tr>\n",
       "<tr><td>cbsa_encoded_15260           </td><td>$\\beta_{53}$         </td><td>370.12               </td><td>303.26                  </td><td>443.23             </td></tr>\n",
       "<tr><td>cbsa_encoded_15380           </td><td>$\\beta_{54}$         </td><td>1864.51              </td><td>1617.79                 </td><td>2078.51            </td></tr>\n",
       "<tr><td>cbsa_encoded_15500           </td><td>$\\beta_{55}$         </td><td>258.97               </td><td>151.13                  </td><td>334.19             </td></tr>\n",
       "<tr><td>cbsa_encoded_15540           </td><td>$\\beta_{56}$         </td><td>197.86               </td><td>117.05                  </td><td>262.22             </td></tr>\n",
       "<tr><td>cbsa_encoded_15680           </td><td>$\\beta_{57}$         </td><td>-248.81              </td><td>-302.68                 </td><td>-186.53            </td></tr>\n",
       "<tr><td>cbsa_encoded_15940           </td><td>$\\beta_{58}$         </td><td>670.73               </td><td>562.17                  </td><td>788.68             </td></tr>\n",
       "<tr><td>cbsa_encoded_15980           </td><td>$\\beta_{59}$         </td><td>11820.03             </td><td>11283.77                </td><td>12574.72           </td></tr>\n",
       "<tr><td>cbsa_encoded_16020           </td><td>$\\beta_{60}$         </td><td>-302.52              </td><td>-381.41                 </td><td>-238.20            </td></tr>\n",
       "<tr><td>cbsa_encoded_16060           </td><td>$\\beta_{61}$         </td><td>266.47               </td><td>141.13                  </td><td>396.54             </td></tr>\n",
       "<tr><td>cbsa_encoded_16180           </td><td>$\\beta_{62}$         </td><td>-651.22              </td><td>-728.04                 </td><td>-575.52            </td></tr>\n",
       "<tr><td>cbsa_encoded_16220           </td><td>$\\beta_{63}$         </td><td>-515.99              </td><td>-582.28                 </td><td>-437.84            </td></tr>\n",
       "<tr><td>cbsa_encoded_16300           </td><td>$\\beta_{64}$         </td><td>324.33               </td><td>237.59                  </td><td>412.88             </td></tr>\n",
       "<tr><td>cbsa_encoded_16540           </td><td>$\\beta_{65}$         </td><td>-229.31              </td><td>-310.10                 </td><td>-165.73            </td></tr>\n",
       "<tr><td>cbsa_encoded_16580           </td><td>$\\beta_{66}$         </td><td>627.11               </td><td>563.57                  </td><td>712.46             </td></tr>\n",
       "<tr><td>cbsa_encoded_16620           </td><td>$\\beta_{67}$         </td><td>455.10               </td><td>385.07                  </td><td>552.15             </td></tr>\n",
       "<tr><td>cbsa_encoded_16700           </td><td>$\\beta_{68}$         </td><td>6441.66              </td><td>6036.38                 </td><td>6996.74            </td></tr>\n",
       "<tr><td>cbsa_encoded_16740           </td><td>$\\beta_{69}$         </td><td>14199.00             </td><td>12610.63                </td><td>15943.06           </td></tr>\n",
       "<tr><td>cbsa_encoded_16820           </td><td>$\\beta_{70}$         </td><td>1552.98              </td><td>1444.28                 </td><td>1692.54            </td></tr>\n",
       "<tr><td>cbsa_encoded_16860           </td><td>$\\beta_{71}$         </td><td>1831.20              </td><td>1713.59                 </td><td>1998.87            </td></tr>\n",
       "<tr><td>cbsa_encoded_16940           </td><td>$\\beta_{72}$         </td><td>-196.47              </td><td>-283.01                 </td><td>-121.01            </td></tr>\n",
       "<tr><td>cbsa_encoded_16980           </td><td>$\\beta_{73}$         </td><td>55849.24             </td><td>52756.22                </td><td>58436.81           </td></tr>\n",
       "<tr><td>cbsa_encoded_17020           </td><td>$\\beta_{74}$         </td><td>-56.43               </td><td>-133.66                 </td><td>5.59               </td></tr>\n",
       "<tr><td>cbsa_encoded_17140           </td><td>$\\beta_{75}$         </td><td>10742.17             </td><td>10003.39                </td><td>11304.62           </td></tr>\n",
       "<tr><td>cbsa_encoded_17300           </td><td>$\\beta_{76}$         </td><td>1227.42              </td><td>1104.97                 </td><td>1364.30            </td></tr>\n",
       "<tr><td>cbsa_encoded_17420           </td><td>$\\beta_{77}$         </td><td>-30.62               </td><td>-106.21                 </td><td>47.46              </td></tr>\n",
       "<tr><td>cbsa_encoded_17460           </td><td>$\\beta_{78}$         </td><td>9333.27              </td><td>8592.66                 </td><td>9903.00            </td></tr>\n",
       "<tr><td>cbsa_encoded_17660           </td><td>$\\beta_{79}$         </td><td>655.24               </td><td>572.10                  </td><td>770.18             </td></tr>\n",
       "<tr><td>cbsa_encoded_17780           </td><td>$\\beta_{80}$         </td><td>833.24               </td><td>698.06                  </td><td>964.17             </td></tr>\n",
       "<tr><td>cbsa_encoded_17820           </td><td>$\\beta_{81}$         </td><td>3000.84              </td><td>2612.53                 </td><td>3327.39            </td></tr>\n",
       "<tr><td>cbsa_encoded_17860           </td><td>$\\beta_{82}$         </td><td>-121.54              </td><td>-182.67                 </td><td>-68.53             </td></tr>\n",
       "<tr><td>cbsa_encoded_17900           </td><td>$\\beta_{83}$         </td><td>2992.31              </td><td>2700.73                 </td><td>3372.63            </td></tr>\n",
       "<tr><td>cbsa_encoded_17980           </td><td>$\\beta_{84}$         </td><td>791.86               </td><td>704.12                  </td><td>918.24             </td></tr>\n",
       "<tr><td>cbsa_encoded_18020           </td><td>$\\beta_{85}$         </td><td>-483.67              </td><td>-578.13                 </td><td>-404.81            </td></tr>\n",
       "<tr><td>cbsa_encoded_18140           </td><td>$\\beta_{86}$         </td><td>7352.67              </td><td>6809.57                 </td><td>8061.21            </td></tr>\n",
       "<tr><td>cbsa_encoded_18580           </td><td>$\\beta_{87}$         </td><td>2744.89              </td><td>2638.68                 </td><td>2888.74            </td></tr>\n",
       "<tr><td>cbsa_encoded_18700           </td><td>$\\beta_{88}$         </td><td>-628.90              </td><td>-711.56                 </td><td>-558.04            </td></tr>\n",
       "<tr><td>cbsa_encoded_18880           </td><td>$\\beta_{89}$         </td><td>2413.16              </td><td>2245.68                 </td><td>2592.47            </td></tr>\n",
       "<tr><td>cbsa_encoded_19060           </td><td>$\\beta_{90}$         </td><td>-384.28              </td><td>-459.48                 </td><td>-321.07            </td></tr>\n",
       "<tr><td>cbsa_encoded_19100           </td><td>$\\beta_{91}$         </td><td>35672.30             </td><td>32312.93                </td><td>39856.76           </td></tr>\n",
       "<tr><td>cbsa_encoded_19140           </td><td>$\\beta_{92}$         </td><td>-436.17              </td><td>-511.56                 </td><td>-356.07            </td></tr>\n",
       "<tr><td>cbsa_encoded_19180           </td><td>$\\beta_{93}$         </td><td>-488.54              </td><td>-566.08                 </td><td>-408.53            </td></tr>\n",
       "<tr><td>cbsa_encoded_19300           </td><td>$\\beta_{94}$         </td><td>2825.05              </td><td>2648.41                 </td><td>3000.13            </td></tr>\n",
       "<tr><td>cbsa_encoded_19340           </td><td>$\\beta_{95}$         </td><td>1559.03              </td><td>1341.31                 </td><td>1765.65            </td></tr>\n",
       "<tr><td>cbsa_encoded_19380           </td><td>$\\beta_{96}$         </td><td>4502.59              </td><td>4159.22                 </td><td>4854.70            </td></tr>\n",
       "<tr><td>cbsa_encoded_19460           </td><td>$\\beta_{97}$         </td><td>-334.56              </td><td>-411.90                 </td><td>-252.61            </td></tr>\n",
       "<tr><td>cbsa_encoded_19500           </td><td>$\\beta_{98}$         </td><td>-246.87              </td><td>-341.73                 </td><td>-149.96            </td></tr>\n",
       "<tr><td>cbsa_encoded_19660           </td><td>$\\beta_{99}$         </td><td>6871.84              </td><td>6645.97                 </td><td>7134.94            </td></tr>\n",
       "<tr><td>cbsa_encoded_19740           </td><td>$\\beta_{100}$        </td><td>10401.67             </td><td>9352.23                 </td><td>11836.60           </td></tr>\n",
       "<tr><td>cbsa_encoded_19780           </td><td>$\\beta_{101}$        </td><td>4856.56              </td><td>4571.99                 </td><td>5308.70            </td></tr>\n",
       "<tr><td>cbsa_encoded_19820           </td><td>$\\beta_{102}$        </td><td>13084.21             </td><td>12416.27                </td><td>13916.34           </td></tr>\n",
       "<tr><td>cbsa_encoded_20020           </td><td>$\\beta_{103}$        </td><td>17.37                </td><td>-55.38                  </td><td>80.63              </td></tr>\n",
       "<tr><td>cbsa_encoded_20100           </td><td>$\\beta_{104}$        </td><td>350.42               </td><td>211.60                  </td><td>455.13             </td></tr>\n",
       "<tr><td>cbsa_encoded_20220           </td><td>$\\beta_{105}$        </td><td>-556.53              </td><td>-637.43                 </td><td>-487.79            </td></tr>\n",
       "<tr><td>cbsa_encoded_20260           </td><td>$\\beta_{106}$        </td><td>1439.50              </td><td>1284.00                 </td><td>1599.09            </td></tr>\n",
       "<tr><td>cbsa_encoded_20500           </td><td>$\\beta_{107}$        </td><td>1779.63              </td><td>1511.27                 </td><td>2082.75            </td></tr>\n",
       "<tr><td>cbsa_encoded_20700           </td><td>$\\beta_{108}$        </td><td>1041.08              </td><td>909.15                  </td><td>1122.34            </td></tr>\n",
       "<tr><td>cbsa_encoded_20740           </td><td>$\\beta_{109}$        </td><td>-54.86               </td><td>-135.39                 </td><td>14.74              </td></tr>\n",
       "<tr><td>cbsa_encoded_20940           </td><td>$\\beta_{110}$        </td><td>-579.30              </td><td>-656.37                 </td><td>-506.07            </td></tr>\n",
       "<tr><td>cbsa_encoded_21060           </td><td>$\\beta_{111}$        </td><td>17.81                </td><td>-56.13                  </td><td>87.46              </td></tr>\n",
       "<tr><td>cbsa_encoded_21140           </td><td>$\\beta_{112}$        </td><td>-457.87              </td><td>-534.10                 </td><td>-399.37            </td></tr>\n",
       "<tr><td>cbsa_encoded_21300           </td><td>$\\beta_{113}$        </td><td>-423.06              </td><td>-506.10                 </td><td>-346.94            </td></tr>\n",
       "<tr><td>cbsa_encoded_21340           </td><td>$\\beta_{114}$        </td><td>3532.44              </td><td>3126.31                 </td><td>4015.71            </td></tr>\n",
       "<tr><td>cbsa_encoded_21420           </td><td>$\\beta_{115}$        </td><td>-594.61              </td><td>-672.15                 </td><td>-520.22            </td></tr>\n",
       "<tr><td>cbsa_encoded_21500           </td><td>$\\beta_{116}$        </td><td>545.81               </td><td>452.40                  </td><td>627.41             </td></tr>\n",
       "<tr><td>cbsa_encoded_21660           </td><td>$\\beta_{117}$        </td><td>164.18               </td><td>75.00                   </td><td>283.10             </td></tr>\n",
       "<tr><td>cbsa_encoded_21780           </td><td>$\\beta_{118}$        </td><td>109.39               </td><td>43.90                   </td><td>171.58             </td></tr>\n",
       "<tr><td>cbsa_encoded_21820           </td><td>$\\beta_{119}$        </td><td>-568.15              </td><td>-650.33                 </td><td>-502.60            </td></tr>\n",
       "<tr><td>cbsa_encoded_22020           </td><td>$\\beta_{120}$        </td><td>404.70               </td><td>316.55                  </td><td>490.53             </td></tr>\n",
       "<tr><td>cbsa_encoded_22140           </td><td>$\\beta_{121}$        </td><td>-416.53              </td><td>-497.20                 </td><td>-324.74            </td></tr>\n",
       "<tr><td>cbsa_encoded_22180           </td><td>$\\beta_{122}$        </td><td>2054.76              </td><td>1879.66                 </td><td>2237.40            </td></tr>\n",
       "<tr><td>cbsa_encoded_22220           </td><td>$\\beta_{123}$        </td><td>3550.04              </td><td>3201.29                 </td><td>3957.22            </td></tr>\n",
       "<tr><td>cbsa_encoded_22380           </td><td>$\\beta_{124}$        </td><td>-322.56              </td><td>-391.60                 </td><td>-257.26            </td></tr>\n",
       "<tr><td>cbsa_encoded_22420           </td><td>$\\beta_{125}$        </td><td>568.45               </td><td>471.74                  </td><td>645.70             </td></tr>\n",
       "<tr><td>cbsa_encoded_22500           </td><td>$\\beta_{126}$        </td><td>62.39                </td><td>12.18                   </td><td>128.37             </td></tr>\n",
       "<tr><td>cbsa_encoded_22520           </td><td>$\\beta_{127}$        </td><td>-130.13              </td><td>-200.58                 </td><td>-49.99             </td></tr>\n",
       "<tr><td>cbsa_encoded_22540           </td><td>$\\beta_{128}$        </td><td>-363.08              </td><td>-454.42                 </td><td>-293.78            </td></tr>\n",
       "<tr><td>cbsa_encoded_22660           </td><td>$\\beta_{129}$        </td><td>1546.52              </td><td>1381.58                 </td><td>1714.02            </td></tr>\n",
       "<tr><td>cbsa_encoded_22900           </td><td>$\\beta_{130}$        </td><td>443.34               </td><td>362.17                  </td><td>518.93             </td></tr>\n",
       "<tr><td>cbsa_encoded_23060           </td><td>$\\beta_{131}$        </td><td>215.62               </td><td>134.90                  </td><td>299.80             </td></tr>\n",
       "<tr><td>cbsa_encoded_23420           </td><td>$\\beta_{132}$        </td><td>1383.28              </td><td>1223.63                 </td><td>1510.50            </td></tr>\n",
       "<tr><td>cbsa_encoded_23460           </td><td>$\\beta_{133}$        </td><td>-357.39              </td><td>-457.69                 </td><td>-275.87            </td></tr>\n",
       "<tr><td>cbsa_encoded_23540           </td><td>$\\beta_{134}$        </td><td>535.65               </td><td>443.53                  </td><td>653.20             </td></tr>\n",
       "<tr><td>cbsa_encoded_23580           </td><td>$\\beta_{135}$        </td><td>1491.26              </td><td>1379.90                 </td><td>1629.17            </td></tr>\n",
       "<tr><td>cbsa_encoded_23900           </td><td>$\\beta_{136}$        </td><td>-410.80              </td><td>-482.46                 </td><td>-339.40            </td></tr>\n",
       "<tr><td>cbsa_encoded_24020           </td><td>$\\beta_{137}$        </td><td>913.64               </td><td>825.41                  </td><td>1006.28            </td></tr>\n",
       "<tr><td>cbsa_encoded_24140           </td><td>$\\beta_{138}$        </td><td>-416.44              </td><td>-482.72                 </td><td>-342.70            </td></tr>\n",
       "<tr><td>cbsa_encoded_24220           </td><td>$\\beta_{139}$        </td><td>-360.36              </td><td>-442.55                 </td><td>-254.08            </td></tr>\n",
       "<tr><td>cbsa_encoded_24260           </td><td>$\\beta_{140}$        </td><td>-703.28              </td><td>-780.12                 </td><td>-618.96            </td></tr>\n",
       "<tr><td>cbsa_encoded_24300           </td><td>$\\beta_{141}$        </td><td>491.95               </td><td>413.41                  </td><td>565.63             </td></tr>\n",
       "<tr><td>cbsa_encoded_24340           </td><td>$\\beta_{142}$        </td><td>1864.39              </td><td>1567.76                 </td><td>2120.79            </td></tr>\n",
       "<tr><td>cbsa_encoded_24420           </td><td>$\\beta_{143}$        </td><td>-451.50              </td><td>-519.02                 </td><td>-382.91            </td></tr>\n",
       "<tr><td>cbsa_encoded_24500           </td><td>$\\beta_{144}$        </td><td>-478.51              </td><td>-571.41                 </td><td>-388.32            </td></tr>\n",
       "<tr><td>cbsa_encoded_24540           </td><td>$\\beta_{145}$        </td><td>1537.81              </td><td>1308.51                 </td><td>1763.50            </td></tr>\n",
       "<tr><td>cbsa_encoded_24580           </td><td>$\\beta_{146}$        </td><td>732.03               </td><td>660.04                  </td><td>818.68             </td></tr>\n",
       "<tr><td>cbsa_encoded_24660           </td><td>$\\beta_{147}$        </td><td>2485.51              </td><td>2294.03                 </td><td>2692.17            </td></tr>\n",
       "<tr><td>cbsa_encoded_24780           </td><td>$\\beta_{148}$        </td><td>97.64                </td><td>12.21                   </td><td>187.06             </td></tr>\n",
       "<tr><td>cbsa_encoded_24860           </td><td>$\\beta_{149}$        </td><td>5767.65              </td><td>5314.86                 </td><td>6169.23            </td></tr>\n",
       "<tr><td>cbsa_encoded_25060           </td><td>$\\beta_{150}$        </td><td>1897.14              </td><td>1764.97                 </td><td>2000.97            </td></tr>\n",
       "<tr><td>cbsa_encoded_25180           </td><td>$\\beta_{151}$        </td><td>669.54               </td><td>568.39                  </td><td>762.52             </td></tr>\n",
       "<tr><td>cbsa_encoded_25220           </td><td>$\\beta_{152}$        </td><td>-42.79               </td><td>-92.39                  </td><td>30.12              </td></tr>\n",
       "<tr><td>cbsa_encoded_25260           </td><td>$\\beta_{153}$        </td><td>-413.97              </td><td>-488.88                 </td><td>-349.01            </td></tr>\n",
       "<tr><td>cbsa_encoded_25420           </td><td>$\\beta_{154}$        </td><td>1722.06              </td><td>1393.92                 </td><td>2073.45            </td></tr>\n",
       "<tr><td>cbsa_encoded_25500           </td><td>$\\beta_{155}$        </td><td>-359.19              </td><td>-441.23                 </td><td>-265.23            </td></tr>\n",
       "<tr><td>cbsa_encoded_25540           </td><td>$\\beta_{156}$        </td><td>5353.77              </td><td>5026.69                 </td><td>5766.83            </td></tr>\n",
       "<tr><td>cbsa_encoded_25620           </td><td>$\\beta_{157}$        </td><td>-120.40              </td><td>-196.74                 </td><td>-44.61             </td></tr>\n",
       "<tr><td>cbsa_encoded_25860           </td><td>$\\beta_{158}$        </td><td>822.62               </td><td>684.39                  </td><td>963.15             </td></tr>\n",
       "<tr><td>cbsa_encoded_25940           </td><td>$\\beta_{159}$        </td><td>3185.98              </td><td>3010.91                 </td><td>3404.68            </td></tr>\n",
       "<tr><td>cbsa_encoded_25980           </td><td>$\\beta_{160}$        </td><td>-135.69              </td><td>-196.59                 </td><td>-90.51             </td></tr>\n",
       "<tr><td>cbsa_encoded_26140           </td><td>$\\beta_{161}$        </td><td>833.89               </td><td>765.26                  </td><td>925.02             </td></tr>\n",
       "<tr><td>cbsa_encoded_26300           </td><td>$\\beta_{162}$        </td><td>744.07               </td><td>647.06                  </td><td>853.20             </td></tr>\n",
       "<tr><td>cbsa_encoded_26380           </td><td>$\\beta_{163}$        </td><td>107.82               </td><td>52.15                   </td><td>177.02             </td></tr>\n",
       "<tr><td>cbsa_encoded_26420           </td><td>$\\beta_{164}$        </td><td>43614.12             </td><td>39047.87                </td><td>48611.54           </td></tr>\n",
       "<tr><td>cbsa_encoded_26580           </td><td>$\\beta_{165}$        </td><td>1268.31              </td><td>1189.06                 </td><td>1374.06            </td></tr>\n",
       "<tr><td>cbsa_encoded_26620           </td><td>$\\beta_{166}$        </td><td>1620.65              </td><td>1409.29                 </td><td>1875.79            </td></tr>\n",
       "<tr><td>cbsa_encoded_26820           </td><td>$\\beta_{167}$        </td><td>-403.04              </td><td>-468.00                 </td><td>-345.54            </td></tr>\n",
       "<tr><td>cbsa_encoded_26900           </td><td>$\\beta_{168}$        </td><td>10152.27             </td><td>9467.25                 </td><td>10902.19           </td></tr>\n",
       "<tr><td>cbsa_encoded_26980           </td><td>$\\beta_{169}$        </td><td>533.80               </td><td>452.39                  </td><td>639.66             </td></tr>\n",
       "<tr><td>cbsa_encoded_27060           </td><td>$\\beta_{170}$        </td><td>-483.44              </td><td>-541.49                 </td><td>-413.27            </td></tr>\n",
       "<tr><td>cbsa_encoded_27100           </td><td>$\\beta_{171}$        </td><td>-43.07               </td><td>-120.03                 </td><td>46.80              </td></tr>\n",
       "<tr><td>cbsa_encoded_27140           </td><td>$\\beta_{172}$        </td><td>2162.64              </td><td>2005.38                 </td><td>2296.77            </td></tr>\n",
       "<tr><td>cbsa_encoded_27180           </td><td>$\\beta_{173}$        </td><td>-236.27              </td><td>-315.40                 </td><td>-151.67            </td></tr>\n",
       "<tr><td>cbsa_encoded_27260           </td><td>$\\beta_{174}$        </td><td>14697.95             </td><td>13574.47                </td><td>15856.37           </td></tr>\n",
       "<tr><td>cbsa_encoded_27340           </td><td>$\\beta_{175}$        </td><td>1482.44              </td><td>1370.10                 </td><td>1583.92            </td></tr>\n",
       "<tr><td>cbsa_encoded_27500           </td><td>$\\beta_{176}$        </td><td>-192.36              </td><td>-274.20                 </td><td>-131.72            </td></tr>\n",
       "<tr><td>cbsa_encoded_27620           </td><td>$\\beta_{177}$        </td><td>-335.52              </td><td>-418.51                 </td><td>-278.48            </td></tr>\n",
       "<tr><td>cbsa_encoded_27740           </td><td>$\\beta_{178}$        </td><td>280.77               </td><td>206.95                  </td><td>362.72             </td></tr>\n",
       "<tr><td>cbsa_encoded_27780           </td><td>$\\beta_{179}$        </td><td>-306.68              </td><td>-386.90                 </td><td>-235.37            </td></tr>\n",
       "<tr><td>cbsa_encoded_27860           </td><td>$\\beta_{180}$        </td><td>-40.72               </td><td>-87.71                  </td><td>12.31              </td></tr>\n",
       "<tr><td>cbsa_encoded_27900           </td><td>$\\beta_{181}$        </td><td>323.10               </td><td>244.00                  </td><td>430.17             </td></tr>\n",
       "<tr><td>cbsa_encoded_27980           </td><td>$\\beta_{182}$        </td><td>515.96               </td><td>442.71                  </td><td>576.07             </td></tr>\n",
       "<tr><td>cbsa_encoded_28020           </td><td>$\\beta_{183}$        </td><td>248.12               </td><td>133.48                  </td><td>340.93             </td></tr>\n",
       "<tr><td>cbsa_encoded_28100           </td><td>$\\beta_{184}$        </td><td>-324.24              </td><td>-408.81                 </td><td>-245.97            </td></tr>\n",
       "<tr><td>cbsa_encoded_28140           </td><td>$\\beta_{185}$        </td><td>8801.68              </td><td>8161.56                 </td><td>9497.13            </td></tr>\n",
       "<tr><td>cbsa_encoded_28420           </td><td>$\\beta_{186}$        </td><td>122.83               </td><td>31.56                   </td><td>231.96             </td></tr>\n",
       "<tr><td>cbsa_encoded_28660           </td><td>$\\beta_{187}$        </td><td>2110.03              </td><td>1986.02                 </td><td>2319.89            </td></tr>\n",
       "<tr><td>cbsa_encoded_28700           </td><td>$\\beta_{188}$        </td><td>1237.09              </td><td>1119.63                 </td><td>1379.61            </td></tr>\n",
       "<tr><td>cbsa_encoded_28740           </td><td>$\\beta_{189}$        </td><td>929.61               </td><td>825.23                  </td><td>1034.58            </td></tr>\n",
       "<tr><td>cbsa_encoded_28940           </td><td>$\\beta_{190}$        </td><td>5577.60              </td><td>5189.23                 </td><td>6074.41            </td></tr>\n",
       "<tr><td>cbsa_encoded_29020           </td><td>$\\beta_{191}$        </td><td>-553.38              </td><td>-626.15                 </td><td>-470.00            </td></tr>\n",
       "<tr><td>cbsa_encoded_29100           </td><td>$\\beta_{192}$        </td><td>-461.61              </td><td>-527.33                 </td><td>-399.65            </td></tr>\n",
       "<tr><td>cbsa_encoded_29180           </td><td>$\\beta_{193}$        </td><td>1932.09              </td><td>1829.69                 </td><td>2065.43            </td></tr>\n",
       "<tr><td>cbsa_encoded_29200           </td><td>$\\beta_{194}$        </td><td>-309.97              </td><td>-367.63                 </td><td>-246.42            </td></tr>\n",
       "<tr><td>cbsa_encoded_29340           </td><td>$\\beta_{195}$        </td><td>237.29               </td><td>167.60                  </td><td>324.86             </td></tr>\n",
       "<tr><td>cbsa_encoded_29420           </td><td>$\\beta_{196}$        </td><td>838.26               </td><td>746.04                  </td><td>909.73             </td></tr>\n",
       "<tr><td>cbsa_encoded_29460           </td><td>$\\beta_{197}$        </td><td>4701.21              </td><td>4303.91                 </td><td>5016.91            </td></tr>\n",
       "<tr><td>cbsa_encoded_29540           </td><td>$\\beta_{198}$        </td><td>721.96               </td><td>578.04                  </td><td>845.51             </td></tr>\n",
       "<tr><td>cbsa_encoded_29620           </td><td>$\\beta_{199}$        </td><td>1114.48              </td><td>1021.08                 </td><td>1193.83            </td></tr>\n",
       "<tr><td>cbsa_encoded_29700           </td><td>$\\beta_{200}$        </td><td>-207.39              </td><td>-265.15                 </td><td>-145.49            </td></tr>\n",
       "<tr><td>cbsa_encoded_29740           </td><td>$\\beta_{201}$        </td><td>158.23               </td><td>90.96                   </td><td>246.24             </td></tr>\n",
       "<tr><td>cbsa_encoded_29820           </td><td>$\\beta_{202}$        </td><td>12326.85             </td><td>11389.69                </td><td>13558.10           </td></tr>\n",
       "<tr><td>cbsa_encoded_29940           </td><td>$\\beta_{203}$        </td><td>-426.59              </td><td>-500.56                 </td><td>-363.69            </td></tr>\n",
       "<tr><td>cbsa_encoded_30020           </td><td>$\\beta_{204}$        </td><td>-235.00              </td><td>-319.43                 </td><td>-154.41            </td></tr>\n",
       "<tr><td>cbsa_encoded_30140           </td><td>$\\beta_{205}$        </td><td>-175.23              </td><td>-281.90                 </td><td>-64.76             </td></tr>\n",
       "<tr><td>cbsa_encoded_30300           </td><td>$\\beta_{206}$        </td><td>-622.86              </td><td>-696.35                 </td><td>-544.79            </td></tr>\n",
       "<tr><td>cbsa_encoded_30340           </td><td>$\\beta_{207}$        </td><td>-520.57              </td><td>-603.12                 </td><td>-440.76            </td></tr>\n",
       "<tr><td>cbsa_encoded_30460           </td><td>$\\beta_{208}$        </td><td>2407.57              </td><td>2239.94                 </td><td>2650.38            </td></tr>\n",
       "<tr><td>cbsa_encoded_30620           </td><td>$\\beta_{209}$        </td><td>-458.60              </td><td>-547.26                 </td><td>-380.67            </td></tr>\n",
       "<tr><td>cbsa_encoded_30700           </td><td>$\\beta_{210}$        </td><td>771.50               </td><td>652.17                  </td><td>915.59             </td></tr>\n",
       "<tr><td>cbsa_encoded_30780           </td><td>$\\beta_{211}$        </td><td>3188.36              </td><td>2949.79                 </td><td>3417.91            </td></tr>\n",
       "<tr><td>cbsa_encoded_30860           </td><td>$\\beta_{212}$        </td><td>-244.27              </td><td>-308.57                 </td><td>-187.02            </td></tr>\n",
       "<tr><td>cbsa_encoded_30980           </td><td>$\\beta_{213}$        </td><td>526.27               </td><td>442.66                  </td><td>620.53             </td></tr>\n",
       "<tr><td>cbsa_encoded_31020           </td><td>$\\beta_{214}$        </td><td>-449.18              </td><td>-540.26                 </td><td>-366.42            </td></tr>\n",
       "<tr><td>cbsa_encoded_31080           </td><td>$\\beta_{215}$        </td><td>31957.27             </td><td>30191.21                </td><td>33598.17           </td></tr>\n",
       "<tr><td>cbsa_encoded_31140           </td><td>$\\beta_{216}$        </td><td>5902.06              </td><td>5417.74                 </td><td>6300.50            </td></tr>\n",
       "<tr><td>cbsa_encoded_31180           </td><td>$\\beta_{217}$        </td><td>839.18               </td><td>713.59                  </td><td>937.40             </td></tr>\n",
       "<tr><td>cbsa_encoded_31340           </td><td>$\\beta_{218}$        </td><td>1124.75              </td><td>1032.53                 </td><td>1203.88            </td></tr>\n",
       "<tr><td>cbsa_encoded_31420           </td><td>$\\beta_{219}$        </td><td>498.65               </td><td>421.16                  </td><td>575.90             </td></tr>\n",
       "<tr><td>cbsa_encoded_31460           </td><td>$\\beta_{220}$        </td><td>-1.33                </td><td>-64.05                  </td><td>74.35              </td></tr>\n",
       "<tr><td>cbsa_encoded_31540           </td><td>$\\beta_{221}$        </td><td>2193.15              </td><td>1994.42                 </td><td>2420.91            </td></tr>\n",
       "<tr><td>cbsa_encoded_31700           </td><td>$\\beta_{222}$        </td><td>914.46               </td><td>755.30                  </td><td>1048.19            </td></tr>\n",
       "<tr><td>cbsa_encoded_31740           </td><td>$\\beta_{223}$        </td><td>-382.57              </td><td>-468.95                 </td><td>-308.22            </td></tr>\n",
       "<tr><td>cbsa_encoded_31860           </td><td>$\\beta_{224}$        </td><td>-356.01              </td><td>-425.98                 </td><td>-293.88            </td></tr>\n",
       "<tr><td>cbsa_encoded_31900           </td><td>$\\beta_{225}$        </td><td>-524.96              </td><td>-618.02                 </td><td>-425.87            </td></tr>\n",
       "<tr><td>cbsa_encoded_32580           </td><td>$\\beta_{226}$        </td><td>1500.32              </td><td>1327.22                 </td><td>1740.83            </td></tr>\n",
       "<tr><td>cbsa_encoded_32780           </td><td>$\\beta_{227}$        </td><td>137.77               </td><td>54.48                   </td><td>205.11             </td></tr>\n",
       "<tr><td>cbsa_encoded_32820           </td><td>$\\beta_{228}$        </td><td>5277.22              </td><td>4978.73                 </td><td>5675.13            </td></tr>\n",
       "<tr><td>cbsa_encoded_32900           </td><td>$\\beta_{229}$        </td><td>273.44               </td><td>172.22                  </td><td>389.81             </td></tr>\n",
       "<tr><td>cbsa_encoded_33100           </td><td>$\\beta_{230}$        </td><td>65625.89             </td><td>63842.59                </td><td>68544.86           </td></tr>\n",
       "<tr><td>cbsa_encoded_33140           </td><td>$\\beta_{231}$        </td><td>-390.82              </td><td>-484.65                 </td><td>-318.93            </td></tr>\n",
       "<tr><td>cbsa_encoded_33220           </td><td>$\\beta_{232}$        </td><td>-448.89              </td><td>-546.47                 </td><td>-379.36            </td></tr>\n",
       "<tr><td>cbsa_encoded_33260           </td><td>$\\beta_{233}$        </td><td>-44.56               </td><td>-128.39                 </td><td>38.60              </td></tr>\n",
       "<tr><td>cbsa_encoded_33340           </td><td>$\\beta_{234}$        </td><td>4823.98              </td><td>4444.50                 </td><td>5192.72            </td></tr>\n",
       "<tr><td>cbsa_encoded_33460           </td><td>$\\beta_{235}$        </td><td>18126.31             </td><td>16783.54                </td><td>19637.94           </td></tr>\n",
       "<tr><td>cbsa_encoded_33540           </td><td>$\\beta_{236}$        </td><td>-95.65               </td><td>-156.07                 </td><td>-35.11             </td></tr>\n",
       "<tr><td>cbsa_encoded_33660           </td><td>$\\beta_{237}$        </td><td>1067.82              </td><td>951.08                  </td><td>1177.07            </td></tr>\n",
       "<tr><td>cbsa_encoded_33700           </td><td>$\\beta_{238}$        </td><td>834.31               </td><td>730.72                  </td><td>994.52             </td></tr>\n",
       "<tr><td>cbsa_encoded_33740           </td><td>$\\beta_{239}$        </td><td>-22.09               </td><td>-84.10                  </td><td>30.83              </td></tr>\n",
       "<tr><td>cbsa_encoded_33780           </td><td>$\\beta_{240}$        </td><td>-189.83              </td><td>-267.73                 </td><td>-89.29             </td></tr>\n",
       "<tr><td>cbsa_encoded_33860           </td><td>$\\beta_{241}$        </td><td>1479.63              </td><td>1383.82                 </td><td>1555.59            </td></tr>\n",
       "<tr><td>cbsa_encoded_34060           </td><td>$\\beta_{242}$        </td><td>-133.65              </td><td>-216.02                 </td><td>-72.22             </td></tr>\n",
       "<tr><td>cbsa_encoded_34100           </td><td>$\\beta_{243}$        </td><td>213.22               </td><td>130.96                  </td><td>302.59             </td></tr>\n",
       "<tr><td>cbsa_encoded_34580           </td><td>$\\beta_{244}$        </td><td>-377.24              </td><td>-451.93                 </td><td>-315.24            </td></tr>\n",
       "<tr><td>cbsa_encoded_34620           </td><td>$\\beta_{245}$        </td><td>-399.32              </td><td>-475.89                 </td><td>-333.23            </td></tr>\n",
       "<tr><td>cbsa_encoded_34740           </td><td>$\\beta_{246}$        </td><td>-388.77              </td><td>-481.14                 </td><td>-298.38            </td></tr>\n",
       "<tr><td>cbsa_encoded_34820           </td><td>$\\beta_{247}$        </td><td>10952.33             </td><td>10332.77                </td><td>11681.98           </td></tr>\n",
       "<tr><td>cbsa_encoded_34900           </td><td>$\\beta_{248}$        </td><td>-403.22              </td><td>-480.33                 </td><td>-319.04            </td></tr>\n",
       "<tr><td>cbsa_encoded_34940           </td><td>$\\beta_{249}$        </td><td>8303.52              </td><td>7920.09                 </td><td>8657.00            </td></tr>\n",
       "<tr><td>cbsa_encoded_34980           </td><td>$\\beta_{250}$        </td><td>10608.33             </td><td>9227.12                 </td><td>11860.13           </td></tr>\n",
       "<tr><td>cbsa_encoded_35100           </td><td>$\\beta_{251}$        </td><td>253.00               </td><td>148.47                  </td><td>329.80             </td></tr>\n",
       "<tr><td>cbsa_encoded_35300           </td><td>$\\beta_{252}$        </td><td>3757.07              </td><td>3472.50                 </td><td>4049.77            </td></tr>\n",
       "<tr><td>cbsa_encoded_35380           </td><td>$\\beta_{253}$        </td><td>5926.05              </td><td>5697.25                 </td><td>6143.82            </td></tr>\n",
       "<tr><td>cbsa_encoded_35620           </td><td>$\\beta_{254}$        </td><td>90753.57             </td><td>87779.83                </td><td>95290.34           </td></tr>\n",
       "<tr><td>cbsa_encoded_35660           </td><td>$\\beta_{255}$        </td><td>80.25                </td><td>-41.12                  </td><td>196.22             </td></tr>\n",
       "<tr><td>cbsa_encoded_35840           </td><td>$\\beta_{256}$        </td><td>10421.78             </td><td>9758.91                 </td><td>11253.09           </td></tr>\n",
       "<tr><td>cbsa_encoded_35980           </td><td>$\\beta_{257}$        </td><td>829.17               </td><td>720.72                  </td><td>932.29             </td></tr>\n",
       "<tr><td>cbsa_encoded_36100           </td><td>$\\beta_{258}$        </td><td>2677.10              </td><td>2336.56                 </td><td>2965.53            </td></tr>\n",
       "<tr><td>cbsa_encoded_36140           </td><td>$\\beta_{259}$        </td><td>1913.62              </td><td>1676.91                 </td><td>2108.12            </td></tr>\n",
       "<tr><td>cbsa_encoded_36220           </td><td>$\\beta_{260}$        </td><td>-295.55              </td><td>-394.57                 </td><td>-217.61            </td></tr>\n",
       "<tr><td>cbsa_encoded_36260           </td><td>$\\beta_{261}$        </td><td>2327.74              </td><td>2097.26                 </td><td>2690.31            </td></tr>\n",
       "<tr><td>cbsa_encoded_36420           </td><td>$\\beta_{262}$        </td><td>5515.40              </td><td>5129.78                 </td><td>5906.93            </td></tr>\n",
       "<tr><td>cbsa_encoded_36500           </td><td>$\\beta_{263}$        </td><td>49.98                </td><td>-48.27                  </td><td>160.57             </td></tr>\n",
       "<tr><td>cbsa_encoded_36540           </td><td>$\\beta_{264}$        </td><td>3887.10              </td><td>3390.79                 </td><td>4293.32            </td></tr>\n",
       "<tr><td>cbsa_encoded_36740           </td><td>$\\beta_{265}$        </td><td>17771.12             </td><td>16188.46                </td><td>19168.76           </td></tr>\n",
       "<tr><td>cbsa_encoded_36780           </td><td>$\\beta_{266}$        </td><td>-122.11              </td><td>-190.13                 </td><td>-57.77             </td></tr>\n",
       "<tr><td>cbsa_encoded_36980           </td><td>$\\beta_{267}$        </td><td>-404.67              </td><td>-471.19                 </td><td>-339.10            </td></tr>\n",
       "<tr><td>cbsa_encoded_37100           </td><td>$\\beta_{268}$        </td><td>2107.86              </td><td>1969.19                 </td><td>2288.38            </td></tr>\n",
       "<tr><td>cbsa_encoded_37340           </td><td>$\\beta_{269}$        </td><td>4491.61              </td><td>4275.17                 </td><td>4860.62            </td></tr>\n",
       "<tr><td>cbsa_encoded_37460           </td><td>$\\beta_{270}$        </td><td>1685.20              </td><td>1555.78                 </td><td>1801.40            </td></tr>\n",
       "<tr><td>cbsa_encoded_37620           </td><td>$\\beta_{271}$        </td><td>-511.09              </td><td>-597.45                 </td><td>-441.80            </td></tr>\n",
       "<tr><td>cbsa_encoded_37860           </td><td>$\\beta_{272}$        </td><td>2071.52              </td><td>1878.24                 </td><td>2263.84            </td></tr>\n",
       "<tr><td>cbsa_encoded_37900           </td><td>$\\beta_{273}$        </td><td>1939.20              </td><td>1786.74                 </td><td>2080.54            </td></tr>\n",
       "<tr><td>cbsa_encoded_37980           </td><td>$\\beta_{274}$        </td><td>28955.93             </td><td>26394.14                </td><td>31936.78           </td></tr>\n",
       "<tr><td>cbsa_encoded_38060           </td><td>$\\beta_{275}$        </td><td>25247.83             </td><td>23228.72                </td><td>27863.93           </td></tr>\n",
       "<tr><td>cbsa_encoded_38220           </td><td>$\\beta_{276}$        </td><td>-651.51              </td><td>-734.46                 </td><td>-571.70            </td></tr>\n",
       "<tr><td>cbsa_encoded_38300           </td><td>$\\beta_{277}$        </td><td>11769.16             </td><td>11107.91                </td><td>12518.05           </td></tr>\n",
       "<tr><td>cbsa_encoded_38340           </td><td>$\\beta_{278}$        </td><td>426.89               </td><td>344.87                  </td><td>534.66             </td></tr>\n",
       "<tr><td>cbsa_encoded_38540           </td><td>$\\beta_{279}$        </td><td>-491.47              </td><td>-563.08                 </td><td>-407.14            </td></tr>\n",
       "<tr><td>cbsa_encoded_38860           </td><td>$\\beta_{280}$        </td><td>2319.06              </td><td>2143.16                 </td><td>2584.01            </td></tr>\n",
       "<tr><td>cbsa_encoded_38900           </td><td>$\\beta_{281}$        </td><td>8059.25              </td><td>7030.04                 </td><td>8999.12            </td></tr>\n",
       "<tr><td>cbsa_encoded_38940           </td><td>$\\beta_{282}$        </td><td>5038.90              </td><td>4736.56                 </td><td>5376.51            </td></tr>\n",
       "<tr><td>cbsa_encoded_39140           </td><td>$\\beta_{283}$        </td><td>1667.42              </td><td>1525.01                 </td><td>1867.58            </td></tr>\n",
       "<tr><td>cbsa_encoded_39300           </td><td>$\\beta_{284}$        </td><td>6018.43              </td><td>5526.57                 </td><td>6488.58            </td></tr>\n",
       "<tr><td>cbsa_encoded_39340           </td><td>$\\beta_{285}$        </td><td>3489.74              </td><td>3140.94                 </td><td>3930.01            </td></tr>\n",
       "<tr><td>cbsa_encoded_39380           </td><td>$\\beta_{286}$        </td><td>-310.18              </td><td>-386.53                 </td><td>-239.19            </td></tr>\n",
       "<tr><td>cbsa_encoded_39460           </td><td>$\\beta_{287}$        </td><td>2279.78              </td><td>2161.45                 </td><td>2435.74            </td></tr>\n",
       "<tr><td>cbsa_encoded_39540           </td><td>$\\beta_{288}$        </td><td>-27.04               </td><td>-120.44                 </td><td>57.68              </td></tr>\n",
       "<tr><td>cbsa_encoded_39580           </td><td>$\\beta_{289}$        </td><td>7114.44              </td><td>6332.99                 </td><td>8116.69            </td></tr>\n",
       "<tr><td>cbsa_encoded_39660           </td><td>$\\beta_{290}$        </td><td>167.39               </td><td>106.57                  </td><td>219.77             </td></tr>\n",
       "<tr><td>cbsa_encoded_39740           </td><td>$\\beta_{291}$        </td><td>865.96               </td><td>665.22                  </td><td>1095.52            </td></tr>\n",
       "<tr><td>cbsa_encoded_39820           </td><td>$\\beta_{292}$        </td><td>-186.14              </td><td>-255.07                 </td><td>-117.68            </td></tr>\n",
       "<tr><td>cbsa_encoded_39900           </td><td>$\\beta_{293}$        </td><td>2059.02              </td><td>1841.02                 </td><td>2296.76            </td></tr>\n",
       "<tr><td>cbsa_encoded_40060           </td><td>$\\beta_{294}$        </td><td>7443.52              </td><td>6785.41                 </td><td>8145.10            </td></tr>\n",
       "<tr><td>cbsa_encoded_40140           </td><td>$\\beta_{295}$        </td><td>21287.80             </td><td>20230.55                </td><td>22284.43           </td></tr>\n",
       "<tr><td>cbsa_encoded_40220           </td><td>$\\beta_{296}$        </td><td>918.05               </td><td>842.36                  </td><td>995.28             </td></tr>\n",
       "<tr><td>cbsa_encoded_40340           </td><td>$\\beta_{297}$        </td><td>412.78               </td><td>339.69                  </td><td>492.38             </td></tr>\n",
       "<tr><td>cbsa_encoded_40380           </td><td>$\\beta_{298}$        </td><td>1905.30              </td><td>1713.24                 </td><td>2133.05            </td></tr>\n",
       "<tr><td>cbsa_encoded_40420           </td><td>$\\beta_{299}$        </td><td>1215.59              </td><td>1112.36                 </td><td>1342.48            </td></tr>\n",
       "<tr><td>cbsa_encoded_40580           </td><td>$\\beta_{300}$        </td><td>-168.18              </td><td>-259.05                 </td><td>-101.84            </td></tr>\n",
       "<tr><td>cbsa_encoded_40660           </td><td>$\\beta_{301}$        </td><td>-247.64              </td><td>-329.67                 </td><td>-177.68            </td></tr>\n",
       "<tr><td>cbsa_encoded_40900           </td><td>$\\beta_{302}$        </td><td>8809.08              </td><td>8195.57                 </td><td>9514.47            </td></tr>\n",
       "<tr><td>cbsa_encoded_40980           </td><td>$\\beta_{303}$        </td><td>-77.05               </td><td>-146.75                 </td><td>-12.43             </td></tr>\n",
       "<tr><td>cbsa_encoded_41060           </td><td>$\\beta_{304}$        </td><td>182.12               </td><td>91.23                   </td><td>267.95             </td></tr>\n",
       "<tr><td>cbsa_encoded_41100           </td><td>$\\beta_{305}$        </td><td>972.42               </td><td>845.00                  </td><td>1113.42            </td></tr>\n",
       "<tr><td>cbsa_encoded_41140           </td><td>$\\beta_{306}$        </td><td>-272.31              </td><td>-373.60                 </td><td>-195.91            </td></tr>\n",
       "<tr><td>cbsa_encoded_41180           </td><td>$\\beta_{307}$        </td><td>14825.78             </td><td>14048.41                </td><td>15843.27           </td></tr>\n",
       "<tr><td>cbsa_encoded_41420           </td><td>$\\beta_{308}$        </td><td>1289.65              </td><td>1170.39                 </td><td>1414.01            </td></tr>\n",
       "<tr><td>cbsa_encoded_41500           </td><td>$\\beta_{309}$        </td><td>253.85               </td><td>175.98                  </td><td>339.76             </td></tr>\n",
       "<tr><td>cbsa_encoded_41540           </td><td>$\\beta_{310}$        </td><td>4606.85              </td><td>4210.24                 </td><td>4997.50            </td></tr>\n",
       "<tr><td>cbsa_encoded_41620           </td><td>$\\beta_{311}$        </td><td>5268.85              </td><td>4586.80                 </td><td>6011.95            </td></tr>\n",
       "<tr><td>cbsa_encoded_41660           </td><td>$\\beta_{312}$        </td><td>-323.17              </td><td>-391.61                 </td><td>-246.14            </td></tr>\n",
       "<tr><td>cbsa_encoded_41700           </td><td>$\\beta_{313}$        </td><td>15070.95             </td><td>14145.54                </td><td>16214.69           </td></tr>\n",
       "<tr><td>cbsa_encoded_41740           </td><td>$\\beta_{314}$        </td><td>7212.88              </td><td>6590.88                 </td><td>7914.00            </td></tr>\n",
       "<tr><td>cbsa_encoded_41860           </td><td>$\\beta_{315}$        </td><td>9651.49              </td><td>8615.92                 </td><td>10646.72           </td></tr>\n",
       "<tr><td>cbsa_encoded_41940           </td><td>$\\beta_{316}$        </td><td>2699.27              </td><td>2339.89                 </td><td>3125.08            </td></tr>\n",
       "<tr><td>cbsa_encoded_42020           </td><td>$\\beta_{317}$        </td><td>363.91               </td><td>283.53                  </td><td>442.55             </td></tr>\n",
       "<tr><td>cbsa_encoded_42100           </td><td>$\\beta_{318}$        </td><td>-192.40              </td><td>-280.76                 </td><td>-108.26            </td></tr>\n",
       "<tr><td>cbsa_encoded_42140           </td><td>$\\beta_{319}$        </td><td>329.09               </td><td>231.78                  </td><td>415.47             </td></tr>\n",
       "<tr><td>cbsa_encoded_42200           </td><td>$\\beta_{320}$        </td><td>753.12               </td><td>682.03                  </td><td>829.85             </td></tr>\n",
       "<tr><td>cbsa_encoded_42220           </td><td>$\\beta_{321}$        </td><td>440.97               </td><td>348.55                  </td><td>535.68             </td></tr>\n",
       "<tr><td>cbsa_encoded_42340           </td><td>$\\beta_{322}$        </td><td>3190.94              </td><td>3002.87                 </td><td>3427.03            </td></tr>\n",
       "<tr><td>cbsa_encoded_42540           </td><td>$\\beta_{323}$        </td><td>1801.97              </td><td>1615.66                 </td><td>1954.35            </td></tr>\n",
       "<tr><td>cbsa_encoded_42660           </td><td>$\\beta_{324}$        </td><td>10371.18             </td><td>9079.53                 </td><td>12181.42           </td></tr>\n",
       "<tr><td>cbsa_encoded_42680           </td><td>$\\beta_{325}$        </td><td>1717.46              </td><td>1606.90                 </td><td>1830.54            </td></tr>\n",
       "<tr><td>cbsa_encoded_42700           </td><td>$\\beta_{326}$        </td><td>-39.28               </td><td>-116.92                 </td><td>50.69              </td></tr>\n",
       "<tr><td>cbsa_encoded_43100           </td><td>$\\beta_{327}$        </td><td>-415.39              </td><td>-479.88                 </td><td>-351.73            </td></tr>\n",
       "<tr><td>cbsa_encoded_43300           </td><td>$\\beta_{328}$        </td><td>-22.46               </td><td>-87.55                  </td><td>43.28              </td></tr>\n",
       "<tr><td>cbsa_encoded_43340           </td><td>$\\beta_{329}$        </td><td>1432.08              </td><td>1326.20                 </td><td>1592.17            </td></tr>\n",
       "<tr><td>cbsa_encoded_43420           </td><td>$\\beta_{330}$        </td><td>-57.91               </td><td>-136.44                 </td><td>12.43              </td></tr>\n",
       "<tr><td>cbsa_encoded_43580           </td><td>$\\beta_{331}$        </td><td>-394.72              </td><td>-458.08                 </td><td>-337.93            </td></tr>\n",
       "<tr><td>cbsa_encoded_43620           </td><td>$\\beta_{332}$        </td><td>592.82               </td><td>453.64                  </td><td>782.23             </td></tr>\n",
       "<tr><td>cbsa_encoded_43780           </td><td>$\\beta_{333}$        </td><td>244.73               </td><td>157.72                  </td><td>316.79             </td></tr>\n",
       "<tr><td>cbsa_encoded_43900           </td><td>$\\beta_{334}$        </td><td>2011.80              </td><td>1865.26                 </td><td>2174.05            </td></tr>\n",
       "<tr><td>cbsa_encoded_44060           </td><td>$\\beta_{335}$        </td><td>2668.29              </td><td>2380.04                 </td><td>3028.18            </td></tr>\n",
       "<tr><td>cbsa_encoded_44100           </td><td>$\\beta_{336}$        </td><td>500.59               </td><td>318.38                  </td><td>654.67             </td></tr>\n",
       "<tr><td>cbsa_encoded_44140           </td><td>$\\beta_{337}$        </td><td>852.83               </td><td>756.08                  </td><td>960.33             </td></tr>\n",
       "<tr><td>cbsa_encoded_44180           </td><td>$\\beta_{338}$        </td><td>1964.16              </td><td>1807.93                 </td><td>2112.13            </td></tr>\n",
       "<tr><td>cbsa_encoded_44220           </td><td>$\\beta_{339}$        </td><td>-74.13               </td><td>-162.43                 </td><td>24.32              </td></tr>\n",
       "<tr><td>cbsa_encoded_44300           </td><td>$\\beta_{340}$        </td><td>-385.01              </td><td>-458.48                 </td><td>-310.25            </td></tr>\n",
       "<tr><td>cbsa_encoded_44420           </td><td>$\\beta_{341}$        </td><td>-105.92              </td><td>-181.65                 </td><td>-16.67             </td></tr>\n",
       "<tr><td>cbsa_encoded_44700           </td><td>$\\beta_{342}$        </td><td>1835.53              </td><td>1666.31                 </td><td>2058.91            </td></tr>\n",
       "<tr><td>cbsa_encoded_44940           </td><td>$\\beta_{343}$        </td><td>-224.03              </td><td>-302.83                 </td><td>-140.94            </td></tr>\n",
       "<tr><td>cbsa_encoded_45060           </td><td>$\\beta_{344}$        </td><td>1867.23              </td><td>1709.74                 </td><td>2041.27            </td></tr>\n",
       "<tr><td>cbsa_encoded_45220           </td><td>$\\beta_{345}$        </td><td>1419.51              </td><td>1305.39                 </td><td>1573.26            </td></tr>\n",
       "<tr><td>cbsa_encoded_45300           </td><td>$\\beta_{346}$        </td><td>24310.56             </td><td>22734.35                </td><td>26094.15           </td></tr>\n",
       "<tr><td>cbsa_encoded_45460           </td><td>$\\beta_{347}$        </td><td>-195.57              </td><td>-282.97                 </td><td>-121.72            </td></tr>\n",
       "<tr><td>cbsa_encoded_45500           </td><td>$\\beta_{348}$        </td><td>-365.35              </td><td>-450.17                 </td><td>-284.18            </td></tr>\n",
       "<tr><td>cbsa_encoded_45540           </td><td>$\\beta_{349}$        </td><td>81.59                </td><td>-29.36                  </td><td>176.72             </td></tr>\n",
       "<tr><td>cbsa_encoded_45780           </td><td>$\\beta_{350}$        </td><td>1662.34              </td><td>1484.51                 </td><td>1826.81            </td></tr>\n",
       "<tr><td>cbsa_encoded_45820           </td><td>$\\beta_{351}$        </td><td>-153.15              </td><td>-228.65                 </td><td>-84.17             </td></tr>\n",
       "<tr><td>cbsa_encoded_45940           </td><td>$\\beta_{352}$        </td><td>1220.36              </td><td>1082.61                 </td><td>1395.80            </td></tr>\n",
       "<tr><td>cbsa_encoded_46060           </td><td>$\\beta_{353}$        </td><td>5242.93              </td><td>4884.29                 </td><td>5600.70            </td></tr>\n",
       "<tr><td>cbsa_encoded_46140           </td><td>$\\beta_{354}$        </td><td>4738.68              </td><td>4450.60                 </td><td>5044.62            </td></tr>\n",
       "<tr><td>cbsa_encoded_46220           </td><td>$\\beta_{355}$        </td><td>374.98               </td><td>285.91                  </td><td>462.83             </td></tr>\n",
       "<tr><td>cbsa_encoded_46300           </td><td>$\\beta_{356}$        </td><td>-371.58              </td><td>-509.94                 </td><td>-259.07            </td></tr>\n",
       "<tr><td>cbsa_encoded_46340           </td><td>$\\beta_{357}$        </td><td>735.25               </td><td>661.00                  </td><td>821.58             </td></tr>\n",
       "<tr><td>cbsa_encoded_46520           </td><td>$\\beta_{358}$        </td><td>2189.93              </td><td>2035.68                 </td><td>2408.05            </td></tr>\n",
       "<tr><td>cbsa_encoded_46540           </td><td>$\\beta_{359}$        </td><td>434.81               </td><td>332.39                  </td><td>543.16             </td></tr>\n",
       "<tr><td>cbsa_encoded_46660           </td><td>$\\beta_{360}$        </td><td>-45.99               </td><td>-111.34                 </td><td>21.26              </td></tr>\n",
       "<tr><td>cbsa_encoded_46700           </td><td>$\\beta_{361}$        </td><td>172.09               </td><td>92.56                   </td><td>262.97             </td></tr>\n",
       "<tr><td>cbsa_encoded_47020           </td><td>$\\beta_{362}$        </td><td>-482.85              </td><td>-565.68                 </td><td>-398.48            </td></tr>\n",
       "<tr><td>cbsa_encoded_47220           </td><td>$\\beta_{363}$        </td><td>253.06               </td><td>131.38                  </td><td>352.60             </td></tr>\n",
       "<tr><td>cbsa_encoded_47260           </td><td>$\\beta_{364}$        </td><td>10409.20             </td><td>9818.63                 </td><td>11123.22           </td></tr>\n",
       "<tr><td>cbsa_encoded_47300           </td><td>$\\beta_{365}$        </td><td>848.84               </td><td>745.96                  </td><td>976.52             </td></tr>\n",
       "<tr><td>cbsa_encoded_47380           </td><td>$\\beta_{366}$        </td><td>160.23               </td><td>43.88                   </td><td>282.11             </td></tr>\n",
       "<tr><td>cbsa_encoded_47460           </td><td>$\\beta_{367}$        </td><td>-646.56              </td><td>-719.38                 </td><td>-558.68            </td></tr>\n",
       "<tr><td>cbsa_encoded_47580           </td><td>$\\beta_{368}$        </td><td>596.17               </td><td>519.47                  </td><td>691.86             </td></tr>\n",
       "<tr><td>cbsa_encoded_47900           </td><td>$\\beta_{369}$        </td><td>21826.24             </td><td>20253.58                </td><td>23682.38           </td></tr>\n",
       "<tr><td>cbsa_encoded_47940           </td><td>$\\beta_{370}$        </td><td>-72.50               </td><td>-153.99                 </td><td>-11.58             </td></tr>\n",
       "<tr><td>cbsa_encoded_48060           </td><td>$\\beta_{371}$        </td><td>250.07               </td><td>131.59                  </td><td>359.34             </td></tr>\n",
       "<tr><td>cbsa_encoded_48140           </td><td>$\\beta_{372}$        </td><td>-308.07              </td><td>-363.47                 </td><td>-251.19            </td></tr>\n",
       "<tr><td>cbsa_encoded_48260           </td><td>$\\beta_{373}$        </td><td>-390.88              </td><td>-482.06                 </td><td>-318.62            </td></tr>\n",
       "<tr><td>cbsa_encoded_48300           </td><td>$\\beta_{374}$        </td><td>-332.41              </td><td>-402.17                 </td><td>-259.63            </td></tr>\n",
       "<tr><td>cbsa_encoded_48540           </td><td>$\\beta_{375}$        </td><td>-330.92              </td><td>-424.99                 </td><td>-246.03            </td></tr>\n",
       "<tr><td>cbsa_encoded_48620           </td><td>$\\beta_{376}$        </td><td>1505.50              </td><td>1386.61                 </td><td>1636.21            </td></tr>\n",
       "<tr><td>cbsa_encoded_48660           </td><td>$\\beta_{377}$        </td><td>-361.04              </td><td>-446.51                 </td><td>-290.92            </td></tr>\n",
       "<tr><td>cbsa_encoded_48700           </td><td>$\\beta_{378}$        </td><td>-399.11              </td><td>-474.93                 </td><td>-325.57            </td></tr>\n",
       "<tr><td>cbsa_encoded_48900           </td><td>$\\beta_{379}$        </td><td>2326.33              </td><td>2173.34                 </td><td>2504.05            </td></tr>\n",
       "<tr><td>cbsa_encoded_49020           </td><td>$\\beta_{380}$        </td><td>-81.76               </td><td>-149.73                 </td><td>-16.02             </td></tr>\n",
       "<tr><td>cbsa_encoded_49180           </td><td>$\\beta_{381}$        </td><td>2308.58              </td><td>2099.07                 </td><td>2529.18            </td></tr>\n",
       "<tr><td>cbsa_encoded_49340           </td><td>$\\beta_{382}$        </td><td>2052.31              </td><td>1893.64                 </td><td>2249.13            </td></tr>\n",
       "<tr><td>cbsa_encoded_49420           </td><td>$\\beta_{383}$        </td><td>-242.88              </td><td>-307.31                 </td><td>-174.39            </td></tr>\n",
       "<tr><td>cbsa_encoded_49620           </td><td>$\\beta_{384}$        </td><td>970.75               </td><td>845.59                  </td><td>1110.45            </td></tr>\n",
       "<tr><td>cbsa_encoded_49660           </td><td>$\\beta_{385}$        </td><td>1732.74              </td><td>1611.03                 </td><td>1879.26            </td></tr>\n",
       "<tr><td>cbsa_encoded_49700           </td><td>$\\beta_{386}$        </td><td>-49.65               </td><td>-145.07                 </td><td>47.58              </td></tr>\n",
       "<tr><td>                             </td><td>                     </td><td>                     </td><td>                        </td><td>                   </td></tr>\n",
       "<tr><td><strong>Metrics</strong     </td><td><strong>Mean</strong</td><td><strong>Lo</strong  </td><td><strong>Hi</strong     </td><td>                   </td></tr>\n",
       "<tr><td>$\\sigma$                     </td><td>1488.35              </td><td>1356.33              </td><td>1594.78                 </td><td>                   </td></tr>\n",
       "<tr><td>$R^2$                        </td><td>0.97                 </td><td>0.96                 </td><td>0.97                    </td><td>                   </td></tr>\n",
       "</tbody>\n",
       "</table></p>"
      ],
      "text/latex": [
       "\\textbf{Model: housing\\_inventory $\\sim$ housing\\_permits + mortgage\\_rate + credit+ prime\\_rate +cbsa\\_encoded\\_10180 + cbsa\\_encoded\\_10420 + cbsa\\_encoded\\_10500 + cbsa\\_encoded\\_10540 + cbsa\\_encoded\\_10580 + cbsa\\_encoded\\_10740 + cbsa\\_encoded\\_10780 + cbsa\\_encoded\\_10900 + cbsa\\_encoded\\_11020 + cbsa\\_encoded\\_11100 + cbsa\\_encoded\\_11180 + cbsa\\_encoded\\_11260 + cbsa\\_encoded\\_11460 + cbsa\\_encoded\\_11500 + cbsa\\_encoded\\_11540 + cbsa\\_encoded\\_11700 + cbsa\\_encoded\\_12020 + cbsa\\_encoded\\_12060 + cbsa\\_encoded\\_12100 + cbsa\\_encoded\\_12220 + cbsa\\_encoded\\_12260 + cbsa\\_encoded\\_12420 + cbsa\\_encoded\\_12540 + cbsa\\_encoded\\_12580 + cbsa\\_encoded\\_12620 + cbsa\\_encoded\\_12700 + cbsa\\_encoded\\_12940 + cbsa\\_encoded\\_12980 + cbsa\\_encoded\\_13020 + cbsa\\_encoded\\_13140 + cbsa\\_encoded\\_13220 + cbsa\\_encoded\\_13380 + cbsa\\_encoded\\_13460 + cbsa\\_encoded\\_13740 + cbsa\\_encoded\\_13780 + cbsa\\_encoded\\_13820 + cbsa\\_encoded\\_13900 + cbsa\\_encoded\\_13980 + cbsa\\_encoded\\_14010 + cbsa\\_encoded\\_14020 + cbsa\\_encoded\\_14100 + cbsa\\_encoded\\_14260 + cbsa\\_encoded\\_14460 + cbsa\\_encoded\\_14500 + cbsa\\_encoded\\_14540 + cbsa\\_encoded\\_14740 + cbsa\\_encoded\\_14860 + cbsa\\_encoded\\_15180 + cbsa\\_encoded\\_15260 + cbsa\\_encoded\\_15380 + cbsa\\_encoded\\_15500 + cbsa\\_encoded\\_15540 + cbsa\\_encoded\\_15680 + cbsa\\_encoded\\_15940 + cbsa\\_encoded\\_15980 + cbsa\\_encoded\\_16020 + cbsa\\_encoded\\_16060 + cbsa\\_encoded\\_16180 + cbsa\\_encoded\\_16220 + cbsa\\_encoded\\_16300 + cbsa\\_encoded\\_16540 + cbsa\\_encoded\\_16580 + cbsa\\_encoded\\_16620 + cbsa\\_encoded\\_16700 + cbsa\\_encoded\\_16740 + cbsa\\_encoded\\_16820 + cbsa\\_encoded\\_16860 + cbsa\\_encoded\\_16940 + cbsa\\_encoded\\_16980 + cbsa\\_encoded\\_17020 + cbsa\\_encoded\\_17140 + cbsa\\_encoded\\_17300 + cbsa\\_encoded\\_17420 + cbsa\\_encoded\\_17460 + cbsa\\_encoded\\_17660 + cbsa\\_encoded\\_17780 + cbsa\\_encoded\\_17820 + cbsa\\_encoded\\_17860 + cbsa\\_encoded\\_17900 + cbsa\\_encoded\\_17980 + cbsa\\_encoded\\_18020 + cbsa\\_encoded\\_18140 + cbsa\\_encoded\\_18580 + cbsa\\_encoded\\_18700 + cbsa\\_encoded\\_18880 + cbsa\\_encoded\\_19060 + cbsa\\_encoded\\_19100 + cbsa\\_encoded\\_19140 + cbsa\\_encoded\\_19180 + cbsa\\_encoded\\_19300 + cbsa\\_encoded\\_19340 + cbsa\\_encoded\\_19380 + cbsa\\_encoded\\_19460 + cbsa\\_encoded\\_19500 + cbsa\\_encoded\\_19660 + cbsa\\_encoded\\_19740 + cbsa\\_encoded\\_19780 + cbsa\\_encoded\\_19820 + cbsa\\_encoded\\_20020 + cbsa\\_encoded\\_20100 + cbsa\\_encoded\\_20220 + cbsa\\_encoded\\_20260 + cbsa\\_encoded\\_20500 + cbsa\\_encoded\\_20700 + cbsa\\_encoded\\_20740 + cbsa\\_encoded\\_20940 + cbsa\\_encoded\\_21060 + cbsa\\_encoded\\_21140 + cbsa\\_encoded\\_21300 + cbsa\\_encoded\\_21340 + cbsa\\_encoded\\_21420 + cbsa\\_encoded\\_21500 + cbsa\\_encoded\\_21660 + cbsa\\_encoded\\_21780 + cbsa\\_encoded\\_21820 + cbsa\\_encoded\\_22020 + cbsa\\_encoded\\_22140 + cbsa\\_encoded\\_22180 + cbsa\\_encoded\\_22220 + cbsa\\_encoded\\_22380 + cbsa\\_encoded\\_22420 + cbsa\\_encoded\\_22500 + cbsa\\_encoded\\_22520 + cbsa\\_encoded\\_22540 + cbsa\\_encoded\\_22660 + cbsa\\_encoded\\_22900 + cbsa\\_encoded\\_23060 + cbsa\\_encoded\\_23420 + cbsa\\_encoded\\_23460 + cbsa\\_encoded\\_23540 + cbsa\\_encoded\\_23580 + cbsa\\_encoded\\_23900 + cbsa\\_encoded\\_24020 + cbsa\\_encoded\\_24140 + cbsa\\_encoded\\_24220 + cbsa\\_encoded\\_24260 + cbsa\\_encoded\\_24300 + cbsa\\_encoded\\_24340 + cbsa\\_encoded\\_24420 + cbsa\\_encoded\\_24500 + cbsa\\_encoded\\_24540 + cbsa\\_encoded\\_24580 + cbsa\\_encoded\\_24660 + cbsa\\_encoded\\_24780 + cbsa\\_encoded\\_24860 + cbsa\\_encoded\\_25060 + cbsa\\_encoded\\_25180 + cbsa\\_encoded\\_25220 + cbsa\\_encoded\\_25260 + cbsa\\_encoded\\_25420 + cbsa\\_encoded\\_25500 + cbsa\\_encoded\\_25540 + cbsa\\_encoded\\_25620 + cbsa\\_encoded\\_25860 + cbsa\\_encoded\\_25940 + cbsa\\_encoded\\_25980 + cbsa\\_encoded\\_26140 + cbsa\\_encoded\\_26300 + cbsa\\_encoded\\_26380 + cbsa\\_encoded\\_26420 + cbsa\\_encoded\\_26580 + cbsa\\_encoded\\_26620 + cbsa\\_encoded\\_26820 + cbsa\\_encoded\\_26900 + cbsa\\_encoded\\_26980 + cbsa\\_encoded\\_27060 + cbsa\\_encoded\\_27100 + cbsa\\_encoded\\_27140 + cbsa\\_encoded\\_27180 + cbsa\\_encoded\\_27260 + cbsa\\_encoded\\_27340 + cbsa\\_encoded\\_27500 + cbsa\\_encoded\\_27620 + cbsa\\_encoded\\_27740 + cbsa\\_encoded\\_27780 + cbsa\\_encoded\\_27860 + cbsa\\_encoded\\_27900 + cbsa\\_encoded\\_27980 + cbsa\\_encoded\\_28020 + cbsa\\_encoded\\_28100 + cbsa\\_encoded\\_28140 + cbsa\\_encoded\\_28420 + cbsa\\_encoded\\_28660 + cbsa\\_encoded\\_28700 + cbsa\\_encoded\\_28740 + cbsa\\_encoded\\_28940 + cbsa\\_encoded\\_29020 + cbsa\\_encoded\\_29100 + cbsa\\_encoded\\_29180 + cbsa\\_encoded\\_29200 + cbsa\\_encoded\\_29340 + cbsa\\_encoded\\_29420 + cbsa\\_encoded\\_29460 + cbsa\\_encoded\\_29540 + cbsa\\_encoded\\_29620 + cbsa\\_encoded\\_29700 + cbsa\\_encoded\\_29740 + cbsa\\_encoded\\_29820 + cbsa\\_encoded\\_29940 + cbsa\\_encoded\\_30020 + cbsa\\_encoded\\_30140 + cbsa\\_encoded\\_30300 + cbsa\\_encoded\\_30340 + cbsa\\_encoded\\_30460 + cbsa\\_encoded\\_30620 + cbsa\\_encoded\\_30700 + cbsa\\_encoded\\_30780 + cbsa\\_encoded\\_30860 + cbsa\\_encoded\\_30980 + cbsa\\_encoded\\_31020 + cbsa\\_encoded\\_31080 + cbsa\\_encoded\\_31140 + cbsa\\_encoded\\_31180 + cbsa\\_encoded\\_31340 + cbsa\\_encoded\\_31420 + cbsa\\_encoded\\_31460 + cbsa\\_encoded\\_31540 + cbsa\\_encoded\\_31700 + cbsa\\_encoded\\_31740 + cbsa\\_encoded\\_31860 + cbsa\\_encoded\\_31900 + cbsa\\_encoded\\_32580 + cbsa\\_encoded\\_32780 + cbsa\\_encoded\\_32820 + cbsa\\_encoded\\_32900 + cbsa\\_encoded\\_33100 + cbsa\\_encoded\\_33140 + cbsa\\_encoded\\_33220 + cbsa\\_encoded\\_33260 + cbsa\\_encoded\\_33340 + cbsa\\_encoded\\_33460 + cbsa\\_encoded\\_33540 + cbsa\\_encoded\\_33660 + cbsa\\_encoded\\_33700 + cbsa\\_encoded\\_33740 + cbsa\\_encoded\\_33780 + cbsa\\_encoded\\_33860 + cbsa\\_encoded\\_34060 + cbsa\\_encoded\\_34100 + cbsa\\_encoded\\_34580 + cbsa\\_encoded\\_34620 + cbsa\\_encoded\\_34740 + cbsa\\_encoded\\_34820 + cbsa\\_encoded\\_34900 + cbsa\\_encoded\\_34940 + cbsa\\_encoded\\_34980 + cbsa\\_encoded\\_35100 + cbsa\\_encoded\\_35300 + cbsa\\_encoded\\_35380 + cbsa\\_encoded\\_35620 + cbsa\\_encoded\\_35660 + cbsa\\_encoded\\_35840 + cbsa\\_encoded\\_35980 + cbsa\\_encoded\\_36100 + cbsa\\_encoded\\_36140 + cbsa\\_encoded\\_36220 + cbsa\\_encoded\\_36260 + cbsa\\_encoded\\_36420 + cbsa\\_encoded\\_36500 + cbsa\\_encoded\\_36540 + cbsa\\_encoded\\_36740 + cbsa\\_encoded\\_36780 + cbsa\\_encoded\\_36980 + cbsa\\_encoded\\_37100 + cbsa\\_encoded\\_37340 + cbsa\\_encoded\\_37460 + cbsa\\_encoded\\_37620 + cbsa\\_encoded\\_37860 + cbsa\\_encoded\\_37900 + cbsa\\_encoded\\_37980 + cbsa\\_encoded\\_38060 + cbsa\\_encoded\\_38220 + cbsa\\_encoded\\_38300 + cbsa\\_encoded\\_38340 + cbsa\\_encoded\\_38540 + cbsa\\_encoded\\_38860 + cbsa\\_encoded\\_38900 + cbsa\\_encoded\\_38940 + cbsa\\_encoded\\_39140 + cbsa\\_encoded\\_39300 + cbsa\\_encoded\\_39340 + cbsa\\_encoded\\_39380 + cbsa\\_encoded\\_39460 + cbsa\\_encoded\\_39540 + cbsa\\_encoded\\_39580 + cbsa\\_encoded\\_39660 + cbsa\\_encoded\\_39740 + cbsa\\_encoded\\_39820 + cbsa\\_encoded\\_39900 + cbsa\\_encoded\\_40060 + cbsa\\_encoded\\_40140 + cbsa\\_encoded\\_40220 + cbsa\\_encoded\\_40340 + cbsa\\_encoded\\_40380 + cbsa\\_encoded\\_40420 + cbsa\\_encoded\\_40580 + cbsa\\_encoded\\_40660 + cbsa\\_encoded\\_40900 + cbsa\\_encoded\\_40980 + cbsa\\_encoded\\_41060 + cbsa\\_encoded\\_41100 + cbsa\\_encoded\\_41140 + cbsa\\_encoded\\_41180 + cbsa\\_encoded\\_41420 + cbsa\\_encoded\\_41500 + cbsa\\_encoded\\_41540 + cbsa\\_encoded\\_41620 + cbsa\\_encoded\\_41660 + cbsa\\_encoded\\_41700 + cbsa\\_encoded\\_41740 + cbsa\\_encoded\\_41860 + cbsa\\_encoded\\_41940 + cbsa\\_encoded\\_42020 + cbsa\\_encoded\\_42100 + cbsa\\_encoded\\_42140 + cbsa\\_encoded\\_42200 + cbsa\\_encoded\\_42220 + cbsa\\_encoded\\_42340 + cbsa\\_encoded\\_42540 + cbsa\\_encoded\\_42660 + cbsa\\_encoded\\_42680 + cbsa\\_encoded\\_42700 + cbsa\\_encoded\\_43100 + cbsa\\_encoded\\_43300 + cbsa\\_encoded\\_43340 + cbsa\\_encoded\\_43420 + cbsa\\_encoded\\_43580 + cbsa\\_encoded\\_43620 + cbsa\\_encoded\\_43780 + cbsa\\_encoded\\_43900 + cbsa\\_encoded\\_44060 + cbsa\\_encoded\\_44100 + cbsa\\_encoded\\_44140 + cbsa\\_encoded\\_44180 + cbsa\\_encoded\\_44220 + cbsa\\_encoded\\_44300 + cbsa\\_encoded\\_44420 + cbsa\\_encoded\\_44700 + cbsa\\_encoded\\_44940 + cbsa\\_encoded\\_45060 + cbsa\\_encoded\\_45220 + cbsa\\_encoded\\_45300 + cbsa\\_encoded\\_45460 + cbsa\\_encoded\\_45500 + cbsa\\_encoded\\_45540 + cbsa\\_encoded\\_45780 + cbsa\\_encoded\\_45820 + cbsa\\_encoded\\_45940 + cbsa\\_encoded\\_46060 + cbsa\\_encoded\\_46140 + cbsa\\_encoded\\_46220 + cbsa\\_encoded\\_46300 + cbsa\\_encoded\\_46340 + cbsa\\_encoded\\_46520 + cbsa\\_encoded\\_46540 + cbsa\\_encoded\\_46660 + cbsa\\_encoded\\_46700 + cbsa\\_encoded\\_47020 + cbsa\\_encoded\\_47220 + cbsa\\_encoded\\_47260 + cbsa\\_encoded\\_47300 + cbsa\\_encoded\\_47380 + cbsa\\_encoded\\_47460 + cbsa\\_encoded\\_47580 + cbsa\\_encoded\\_47900 + cbsa\\_encoded\\_47940 + cbsa\\_encoded\\_48060 + cbsa\\_encoded\\_48140 + cbsa\\_encoded\\_48260 + cbsa\\_encoded\\_48300 + cbsa\\_encoded\\_48540 + cbsa\\_encoded\\_48620 + cbsa\\_encoded\\_48660 + cbsa\\_encoded\\_48700 + cbsa\\_encoded\\_48900 + cbsa\\_encoded\\_49020 + cbsa\\_encoded\\_49180 + cbsa\\_encoded\\_49340 + cbsa\\_encoded\\_49420 + cbsa\\_encoded\\_49620 + cbsa\\_encoded\\_49660 + cbsa\\_encoded\\_49700}\n",
       "\n",
       "\\begin{tabular}{lllll}\n",
       "\\toprule\n",
       "                       &               &               & \\textbf{95\\% BCI} &             \\\\\n",
       " \\textbf{Coefficients} &               & \\textbf{Mean} & \\textbf{Lo}      & \\textbf{Hi} \\\\\n",
       "                       & $\\beta_{0}$   & 2905.93       & 1985.96          & 3797.89     \\\\\n",
       " housing\\_permits      & $\\beta_{1}$   & -1.19         & -1.99            & -0.51       \\\\\n",
       " mortgage\\_rate        & $\\beta_{2}$   & -26.44        & -97.29           & 56.41       \\\\\n",
       " credit                & $\\beta_{3}$   & -0.00         & -0.00            & -0.00       \\\\\n",
       " prime\\_rate           & $\\beta_{4}$   & 288.52        & 224.53           & 349.47      \\\\\n",
       " cbsa\\_encoded\\_10180  & $\\beta_{5}$   & 17.00         & -77.28           & 105.51      \\\\\n",
       " cbsa\\_encoded\\_10420  & $\\beta_{6}$   & 1843.81       & 1708.19          & 2014.07     \\\\\n",
       " cbsa\\_encoded\\_10500  & $\\beta_{7}$   & -353.94       & -434.04          & -263.51     \\\\\n",
       " cbsa\\_encoded\\_10540  & $\\beta_{8}$   & -146.85       & -250.83          & -39.90      \\\\\n",
       " cbsa\\_encoded\\_10580  & $\\beta_{9}$   & 5046.21       & 4781.73          & 5289.01     \\\\\n",
       " cbsa\\_encoded\\_10740  & $\\beta_{10}$  & 3270.77       & 3113.09          & 3531.70     \\\\\n",
       " cbsa\\_encoded\\_10780  & $\\beta_{11}$  & -279.27       & -357.50          & -204.23     \\\\\n",
       " cbsa\\_encoded\\_10900  & $\\beta_{12}$  & 3151.49       & 2860.29          & 3421.66     \\\\\n",
       " cbsa\\_encoded\\_11020  & $\\beta_{13}$  & -532.05       & -617.22          & -453.35     \\\\\n",
       " cbsa\\_encoded\\_11100  & $\\beta_{14}$  & 540.31        & 479.78           & 614.74      \\\\\n",
       " cbsa\\_encoded\\_11180  & $\\beta_{15}$  & -362.40       & -445.57          & -287.96     \\\\\n",
       " cbsa\\_encoded\\_11260  & $\\beta_{16}$  & 822.44        & 718.47           & 926.12      \\\\\n",
       " cbsa\\_encoded\\_11460  & $\\beta_{17}$  & 591.22        & 506.96           & 697.16      \\\\\n",
       " cbsa\\_encoded\\_11500  & $\\beta_{18}$  & -289.09       & -378.07          & -219.02     \\\\\n",
       " cbsa\\_encoded\\_11540  & $\\beta_{19}$  & 81.62         & 17.42            & 143.54      \\\\\n",
       " cbsa\\_encoded\\_11700  & $\\beta_{20}$  & 2812.14       & 2637.37          & 3004.92     \\\\\n",
       " cbsa\\_encoded\\_12020  & $\\beta_{21}$  & 653.07        & 586.19           & 708.83      \\\\\n",
       " cbsa\\_encoded\\_12060  & $\\beta_{22}$  & 59698.46      & 56732.56         & 62309.57    \\\\\n",
       " cbsa\\_encoded\\_12100  & $\\beta_{23}$  & 2584.84       & 2457.08          & 2730.91     \\\\\n",
       " cbsa\\_encoded\\_12220  & $\\beta_{24}$  & 54.11         & -18.78           & 110.73      \\\\\n",
       " cbsa\\_encoded\\_12260  & $\\beta_{25}$  & 2649.26       & 2492.81          & 2815.06     \\\\\n",
       " cbsa\\_encoded\\_12420  & $\\beta_{26}$  & 12952.94      & 11139.81         & 15334.99    \\\\\n",
       " cbsa\\_encoded\\_12540  & $\\beta_{27}$  & 2645.62       & 2429.30          & 2837.07     \\\\\n",
       " cbsa\\_encoded\\_12580  & $\\beta_{28}$  & 11199.64      & 10470.67         & 11995.57    \\\\\n",
       " cbsa\\_encoded\\_12620  & $\\beta_{29}$  & 7.36          & -86.43           & 87.47       \\\\\n",
       " cbsa\\_encoded\\_12700  & $\\beta_{30}$  & 2993.60       & 2817.11          & 3158.38     \\\\\n",
       " cbsa\\_encoded\\_12940  & $\\beta_{31}$  & 3249.05       & 2942.17          & 3559.25     \\\\\n",
       " cbsa\\_encoded\\_12980  & $\\beta_{32}$  & -460.49       & -545.29          & -366.72     \\\\\n",
       " cbsa\\_encoded\\_13020  & $\\beta_{33}$  & -352.47       & -430.66          & -273.87     \\\\\n",
       " cbsa\\_encoded\\_13140  & $\\beta_{34}$  & 985.18        & 899.06           & 1052.79     \\\\\n",
       " cbsa\\_encoded\\_13220  & $\\beta_{35}$  & -227.84       & -312.06          & -147.48     \\\\\n",
       " cbsa\\_encoded\\_13380  & $\\beta_{36}$  & 35.45         & -47.10           & 128.52      \\\\\n",
       " cbsa\\_encoded\\_13460  & $\\beta_{37}$  & 1173.40       & 984.97           & 1333.98     \\\\\n",
       " cbsa\\_encoded\\_13740  & $\\beta_{38}$  & 429.08        & 362.61           & 505.98      \\\\\n",
       " cbsa\\_encoded\\_13780  & $\\beta_{39}$  & 577.29        & 485.98           & 683.35      \\\\\n",
       " cbsa\\_encoded\\_13820  & $\\beta_{40}$  & 5902.68       & 5650.50          & 6251.07     \\\\\n",
       " cbsa\\_encoded\\_13900  & $\\beta_{41}$  & -164.57       & -252.44          & -105.89     \\\\\n",
       " cbsa\\_encoded\\_13980  & $\\beta_{42}$  & -2.75         & -73.73           & 56.72       \\\\\n",
       " cbsa\\_encoded\\_14010  & $\\beta_{43}$  & 374.91        & 302.27           & 448.29      \\\\\n",
       " cbsa\\_encoded\\_14020  & $\\beta_{44}$  & -73.70        & -145.09          & -14.53      \\\\\n",
       " cbsa\\_encoded\\_14100  & $\\beta_{45}$  & -493.65       & -564.44          & -423.47     \\\\\n",
       " cbsa\\_encoded\\_14260  & $\\beta_{46}$  & 2985.84       & 2575.51          & 3522.37     \\\\\n",
       " cbsa\\_encoded\\_14460  & $\\beta_{47}$  & 12148.88      & 11194.28         & 13042.45    \\\\\n",
       " cbsa\\_encoded\\_14500  & $\\beta_{48}$  & 1231.66       & 1060.05          & 1403.40     \\\\\n",
       " cbsa\\_encoded\\_14540  & $\\beta_{49}$  & 71.08         & -0.96            & 137.44      \\\\\n",
       " cbsa\\_encoded\\_14740  & $\\beta_{50}$  & 35.68         & -53.09           & 116.30      \\\\\n",
       " cbsa\\_encoded\\_14860  & $\\beta_{51}$  & 6971.64       & 6635.83          & 7335.96     \\\\\n",
       " cbsa\\_encoded\\_15180  & $\\beta_{52}$  & 1218.64       & 1147.47          & 1311.78     \\\\\n",
       " cbsa\\_encoded\\_15260  & $\\beta_{53}$  & 370.12        & 303.26           & 443.23      \\\\\n",
       " cbsa\\_encoded\\_15380  & $\\beta_{54}$  & 1864.51       & 1617.79          & 2078.51     \\\\\n",
       " cbsa\\_encoded\\_15500  & $\\beta_{55}$  & 258.97        & 151.13           & 334.19      \\\\\n",
       " cbsa\\_encoded\\_15540  & $\\beta_{56}$  & 197.86        & 117.05           & 262.22      \\\\\n",
       " cbsa\\_encoded\\_15680  & $\\beta_{57}$  & -248.81       & -302.68          & -186.53     \\\\\n",
       " cbsa\\_encoded\\_15940  & $\\beta_{58}$  & 670.73        & 562.17           & 788.68      \\\\\n",
       " cbsa\\_encoded\\_15980  & $\\beta_{59}$  & 11820.03      & 11283.77         & 12574.72    \\\\\n",
       " cbsa\\_encoded\\_16020  & $\\beta_{60}$  & -302.52       & -381.41          & -238.20     \\\\\n",
       " cbsa\\_encoded\\_16060  & $\\beta_{61}$  & 266.47        & 141.13           & 396.54      \\\\\n",
       " cbsa\\_encoded\\_16180  & $\\beta_{62}$  & -651.22       & -728.04          & -575.52     \\\\\n",
       " cbsa\\_encoded\\_16220  & $\\beta_{63}$  & -515.99       & -582.28          & -437.84     \\\\\n",
       " cbsa\\_encoded\\_16300  & $\\beta_{64}$  & 324.33        & 237.59           & 412.88      \\\\\n",
       " cbsa\\_encoded\\_16540  & $\\beta_{65}$  & -229.31       & -310.10          & -165.73     \\\\\n",
       " cbsa\\_encoded\\_16580  & $\\beta_{66}$  & 627.11        & 563.57           & 712.46      \\\\\n",
       " cbsa\\_encoded\\_16620  & $\\beta_{67}$  & 455.10        & 385.07           & 552.15      \\\\\n",
       " cbsa\\_encoded\\_16700  & $\\beta_{68}$  & 6441.66       & 6036.38          & 6996.74     \\\\\n",
       " cbsa\\_encoded\\_16740  & $\\beta_{69}$  & 14199.00      & 12610.63         & 15943.06    \\\\\n",
       " cbsa\\_encoded\\_16820  & $\\beta_{70}$  & 1552.98       & 1444.28          & 1692.54     \\\\\n",
       " cbsa\\_encoded\\_16860  & $\\beta_{71}$  & 1831.20       & 1713.59          & 1998.87     \\\\\n",
       " cbsa\\_encoded\\_16940  & $\\beta_{72}$  & -196.47       & -283.01          & -121.01     \\\\\n",
       " cbsa\\_encoded\\_16980  & $\\beta_{73}$  & 55849.24      & 52756.22         & 58436.81    \\\\\n",
       " cbsa\\_encoded\\_17020  & $\\beta_{74}$  & -56.43        & -133.66          & 5.59        \\\\\n",
       " cbsa\\_encoded\\_17140  & $\\beta_{75}$  & 10742.17      & 10003.39         & 11304.62    \\\\\n",
       " cbsa\\_encoded\\_17300  & $\\beta_{76}$  & 1227.42       & 1104.97          & 1364.30     \\\\\n",
       " cbsa\\_encoded\\_17420  & $\\beta_{77}$  & -30.62        & -106.21          & 47.46       \\\\\n",
       " cbsa\\_encoded\\_17460  & $\\beta_{78}$  & 9333.27       & 8592.66          & 9903.00     \\\\\n",
       " cbsa\\_encoded\\_17660  & $\\beta_{79}$  & 655.24        & 572.10           & 770.18      \\\\\n",
       " cbsa\\_encoded\\_17780  & $\\beta_{80}$  & 833.24        & 698.06           & 964.17      \\\\\n",
       " cbsa\\_encoded\\_17820  & $\\beta_{81}$  & 3000.84       & 2612.53          & 3327.39     \\\\\n",
       " cbsa\\_encoded\\_17860  & $\\beta_{82}$  & -121.54       & -182.67          & -68.53      \\\\\n",
       " cbsa\\_encoded\\_17900  & $\\beta_{83}$  & 2992.31       & 2700.73          & 3372.63     \\\\\n",
       " cbsa\\_encoded\\_17980  & $\\beta_{84}$  & 791.86        & 704.12           & 918.24      \\\\\n",
       " cbsa\\_encoded\\_18020  & $\\beta_{85}$  & -483.67       & -578.13          & -404.81     \\\\\n",
       " cbsa\\_encoded\\_18140  & $\\beta_{86}$  & 7352.67       & 6809.57          & 8061.21     \\\\\n",
       " cbsa\\_encoded\\_18580  & $\\beta_{87}$  & 2744.89       & 2638.68          & 2888.74     \\\\\n",
       " cbsa\\_encoded\\_18700  & $\\beta_{88}$  & -628.90       & -711.56          & -558.04     \\\\\n",
       " cbsa\\_encoded\\_18880  & $\\beta_{89}$  & 2413.16       & 2245.68          & 2592.47     \\\\\n",
       " cbsa\\_encoded\\_19060  & $\\beta_{90}$  & -384.28       & -459.48          & -321.07     \\\\\n",
       " cbsa\\_encoded\\_19100  & $\\beta_{91}$  & 35672.30      & 32312.93         & 39856.76    \\\\\n",
       " cbsa\\_encoded\\_19140  & $\\beta_{92}$  & -436.17       & -511.56          & -356.07     \\\\\n",
       " cbsa\\_encoded\\_19180  & $\\beta_{93}$  & -488.54       & -566.08          & -408.53     \\\\\n",
       " cbsa\\_encoded\\_19300  & $\\beta_{94}$  & 2825.05       & 2648.41          & 3000.13     \\\\\n",
       " cbsa\\_encoded\\_19340  & $\\beta_{95}$  & 1559.03       & 1341.31          & 1765.65     \\\\\n",
       " cbsa\\_encoded\\_19380  & $\\beta_{96}$  & 4502.59       & 4159.22          & 4854.70     \\\\\n",
       " cbsa\\_encoded\\_19460  & $\\beta_{97}$  & -334.56       & -411.90          & -252.61     \\\\\n",
       " cbsa\\_encoded\\_19500  & $\\beta_{98}$  & -246.87       & -341.73          & -149.96     \\\\\n",
       " cbsa\\_encoded\\_19660  & $\\beta_{99}$  & 6871.84       & 6645.97          & 7134.94     \\\\\n",
       " cbsa\\_encoded\\_19740  & $\\beta_{100}$ & 10401.67      & 9352.23          & 11836.60    \\\\\n",
       " cbsa\\_encoded\\_19780  & $\\beta_{101}$ & 4856.56       & 4571.99          & 5308.70     \\\\\n",
       " cbsa\\_encoded\\_19820  & $\\beta_{102}$ & 13084.21      & 12416.27         & 13916.34    \\\\\n",
       " cbsa\\_encoded\\_20020  & $\\beta_{103}$ & 17.37         & -55.38           & 80.63       \\\\\n",
       " cbsa\\_encoded\\_20100  & $\\beta_{104}$ & 350.42        & 211.60           & 455.13      \\\\\n",
       " cbsa\\_encoded\\_20220  & $\\beta_{105}$ & -556.53       & -637.43          & -487.79     \\\\\n",
       " cbsa\\_encoded\\_20260  & $\\beta_{106}$ & 1439.50       & 1284.00          & 1599.09     \\\\\n",
       " cbsa\\_encoded\\_20500  & $\\beta_{107}$ & 1779.63       & 1511.27          & 2082.75     \\\\\n",
       " cbsa\\_encoded\\_20700  & $\\beta_{108}$ & 1041.08       & 909.15           & 1122.34     \\\\\n",
       " cbsa\\_encoded\\_20740  & $\\beta_{109}$ & -54.86        & -135.39          & 14.74       \\\\\n",
       " cbsa\\_encoded\\_20940  & $\\beta_{110}$ & -579.30       & -656.37          & -506.07     \\\\\n",
       " cbsa\\_encoded\\_21060  & $\\beta_{111}$ & 17.81         & -56.13           & 87.46       \\\\\n",
       " cbsa\\_encoded\\_21140  & $\\beta_{112}$ & -457.87       & -534.10          & -399.37     \\\\\n",
       " cbsa\\_encoded\\_21300  & $\\beta_{113}$ & -423.06       & -506.10          & -346.94     \\\\\n",
       " cbsa\\_encoded\\_21340  & $\\beta_{114}$ & 3532.44       & 3126.31          & 4015.71     \\\\\n",
       " cbsa\\_encoded\\_21420  & $\\beta_{115}$ & -594.61       & -672.15          & -520.22     \\\\\n",
       " cbsa\\_encoded\\_21500  & $\\beta_{116}$ & 545.81        & 452.40           & 627.41      \\\\\n",
       " cbsa\\_encoded\\_21660  & $\\beta_{117}$ & 164.18        & 75.00            & 283.10      \\\\\n",
       " cbsa\\_encoded\\_21780  & $\\beta_{118}$ & 109.39        & 43.90            & 171.58      \\\\\n",
       " cbsa\\_encoded\\_21820  & $\\beta_{119}$ & -568.15       & -650.33          & -502.60     \\\\\n",
       " cbsa\\_encoded\\_22020  & $\\beta_{120}$ & 404.70        & 316.55           & 490.53      \\\\\n",
       " cbsa\\_encoded\\_22140  & $\\beta_{121}$ & -416.53       & -497.20          & -324.74     \\\\\n",
       " cbsa\\_encoded\\_22180  & $\\beta_{122}$ & 2054.76       & 1879.66          & 2237.40     \\\\\n",
       " cbsa\\_encoded\\_22220  & $\\beta_{123}$ & 3550.04       & 3201.29          & 3957.22     \\\\\n",
       " cbsa\\_encoded\\_22380  & $\\beta_{124}$ & -322.56       & -391.60          & -257.26     \\\\\n",
       " cbsa\\_encoded\\_22420  & $\\beta_{125}$ & 568.45        & 471.74           & 645.70      \\\\\n",
       " cbsa\\_encoded\\_22500  & $\\beta_{126}$ & 62.39         & 12.18            & 128.37      \\\\\n",
       " cbsa\\_encoded\\_22520  & $\\beta_{127}$ & -130.13       & -200.58          & -49.99      \\\\\n",
       " cbsa\\_encoded\\_22540  & $\\beta_{128}$ & -363.08       & -454.42          & -293.78     \\\\\n",
       " cbsa\\_encoded\\_22660  & $\\beta_{129}$ & 1546.52       & 1381.58          & 1714.02     \\\\\n",
       " cbsa\\_encoded\\_22900  & $\\beta_{130}$ & 443.34        & 362.17           & 518.93      \\\\\n",
       " cbsa\\_encoded\\_23060  & $\\beta_{131}$ & 215.62        & 134.90           & 299.80      \\\\\n",
       " cbsa\\_encoded\\_23420  & $\\beta_{132}$ & 1383.28       & 1223.63          & 1510.50     \\\\\n",
       " cbsa\\_encoded\\_23460  & $\\beta_{133}$ & -357.39       & -457.69          & -275.87     \\\\\n",
       " cbsa\\_encoded\\_23540  & $\\beta_{134}$ & 535.65        & 443.53           & 653.20      \\\\\n",
       " cbsa\\_encoded\\_23580  & $\\beta_{135}$ & 1491.26       & 1379.90          & 1629.17     \\\\\n",
       " cbsa\\_encoded\\_23900  & $\\beta_{136}$ & -410.80       & -482.46          & -339.40     \\\\\n",
       " cbsa\\_encoded\\_24020  & $\\beta_{137}$ & 913.64        & 825.41           & 1006.28     \\\\\n",
       " cbsa\\_encoded\\_24140  & $\\beta_{138}$ & -416.44       & -482.72          & -342.70     \\\\\n",
       " cbsa\\_encoded\\_24220  & $\\beta_{139}$ & -360.36       & -442.55          & -254.08     \\\\\n",
       " cbsa\\_encoded\\_24260  & $\\beta_{140}$ & -703.28       & -780.12          & -618.96     \\\\\n",
       " cbsa\\_encoded\\_24300  & $\\beta_{141}$ & 491.95        & 413.41           & 565.63      \\\\\n",
       " cbsa\\_encoded\\_24340  & $\\beta_{142}$ & 1864.39       & 1567.76          & 2120.79     \\\\\n",
       " cbsa\\_encoded\\_24420  & $\\beta_{143}$ & -451.50       & -519.02          & -382.91     \\\\\n",
       " cbsa\\_encoded\\_24500  & $\\beta_{144}$ & -478.51       & -571.41          & -388.32     \\\\\n",
       " cbsa\\_encoded\\_24540  & $\\beta_{145}$ & 1537.81       & 1308.51          & 1763.50     \\\\\n",
       " cbsa\\_encoded\\_24580  & $\\beta_{146}$ & 732.03        & 660.04           & 818.68      \\\\\n",
       " cbsa\\_encoded\\_24660  & $\\beta_{147}$ & 2485.51       & 2294.03          & 2692.17     \\\\\n",
       " cbsa\\_encoded\\_24780  & $\\beta_{148}$ & 97.64         & 12.21            & 187.06      \\\\\n",
       " cbsa\\_encoded\\_24860  & $\\beta_{149}$ & 5767.65       & 5314.86          & 6169.23     \\\\\n",
       " cbsa\\_encoded\\_25060  & $\\beta_{150}$ & 1897.14       & 1764.97          & 2000.97     \\\\\n",
       " cbsa\\_encoded\\_25180  & $\\beta_{151}$ & 669.54        & 568.39           & 762.52      \\\\\n",
       " cbsa\\_encoded\\_25220  & $\\beta_{152}$ & -42.79        & -92.39           & 30.12       \\\\\n",
       " cbsa\\_encoded\\_25260  & $\\beta_{153}$ & -413.97       & -488.88          & -349.01     \\\\\n",
       " cbsa\\_encoded\\_25420  & $\\beta_{154}$ & 1722.06       & 1393.92          & 2073.45     \\\\\n",
       " cbsa\\_encoded\\_25500  & $\\beta_{155}$ & -359.19       & -441.23          & -265.23     \\\\\n",
       " cbsa\\_encoded\\_25540  & $\\beta_{156}$ & 5353.77       & 5026.69          & 5766.83     \\\\\n",
       " cbsa\\_encoded\\_25620  & $\\beta_{157}$ & -120.40       & -196.74          & -44.61      \\\\\n",
       " cbsa\\_encoded\\_25860  & $\\beta_{158}$ & 822.62        & 684.39           & 963.15      \\\\\n",
       " cbsa\\_encoded\\_25940  & $\\beta_{159}$ & 3185.98       & 3010.91          & 3404.68     \\\\\n",
       " cbsa\\_encoded\\_25980  & $\\beta_{160}$ & -135.69       & -196.59          & -90.51      \\\\\n",
       " cbsa\\_encoded\\_26140  & $\\beta_{161}$ & 833.89        & 765.26           & 925.02      \\\\\n",
       " cbsa\\_encoded\\_26300  & $\\beta_{162}$ & 744.07        & 647.06           & 853.20      \\\\\n",
       " cbsa\\_encoded\\_26380  & $\\beta_{163}$ & 107.82        & 52.15            & 177.02      \\\\\n",
       " cbsa\\_encoded\\_26420  & $\\beta_{164}$ & 43614.12      & 39047.87         & 48611.54    \\\\\n",
       " cbsa\\_encoded\\_26580  & $\\beta_{165}$ & 1268.31       & 1189.06          & 1374.06     \\\\\n",
       " cbsa\\_encoded\\_26620  & $\\beta_{166}$ & 1620.65       & 1409.29          & 1875.79     \\\\\n",
       " cbsa\\_encoded\\_26820  & $\\beta_{167}$ & -403.04       & -468.00          & -345.54     \\\\\n",
       " cbsa\\_encoded\\_26900  & $\\beta_{168}$ & 10152.27      & 9467.25          & 10902.19    \\\\\n",
       " cbsa\\_encoded\\_26980  & $\\beta_{169}$ & 533.80        & 452.39           & 639.66      \\\\\n",
       " cbsa\\_encoded\\_27060  & $\\beta_{170}$ & -483.44       & -541.49          & -413.27     \\\\\n",
       " cbsa\\_encoded\\_27100  & $\\beta_{171}$ & -43.07        & -120.03          & 46.80       \\\\\n",
       " cbsa\\_encoded\\_27140  & $\\beta_{172}$ & 2162.64       & 2005.38          & 2296.77     \\\\\n",
       " cbsa\\_encoded\\_27180  & $\\beta_{173}$ & -236.27       & -315.40          & -151.67     \\\\\n",
       " cbsa\\_encoded\\_27260  & $\\beta_{174}$ & 14697.95      & 13574.47         & 15856.37    \\\\\n",
       " cbsa\\_encoded\\_27340  & $\\beta_{175}$ & 1482.44       & 1370.10          & 1583.92     \\\\\n",
       " cbsa\\_encoded\\_27500  & $\\beta_{176}$ & -192.36       & -274.20          & -131.72     \\\\\n",
       " cbsa\\_encoded\\_27620  & $\\beta_{177}$ & -335.52       & -418.51          & -278.48     \\\\\n",
       " cbsa\\_encoded\\_27740  & $\\beta_{178}$ & 280.77        & 206.95           & 362.72      \\\\\n",
       " cbsa\\_encoded\\_27780  & $\\beta_{179}$ & -306.68       & -386.90          & -235.37     \\\\\n",
       " cbsa\\_encoded\\_27860  & $\\beta_{180}$ & -40.72        & -87.71           & 12.31       \\\\\n",
       " cbsa\\_encoded\\_27900  & $\\beta_{181}$ & 323.10        & 244.00           & 430.17      \\\\\n",
       " cbsa\\_encoded\\_27980  & $\\beta_{182}$ & 515.96        & 442.71           & 576.07      \\\\\n",
       " cbsa\\_encoded\\_28020  & $\\beta_{183}$ & 248.12        & 133.48           & 340.93      \\\\\n",
       " cbsa\\_encoded\\_28100  & $\\beta_{184}$ & -324.24       & -408.81          & -245.97     \\\\\n",
       " cbsa\\_encoded\\_28140  & $\\beta_{185}$ & 8801.68       & 8161.56          & 9497.13     \\\\\n",
       " cbsa\\_encoded\\_28420  & $\\beta_{186}$ & 122.83        & 31.56            & 231.96      \\\\\n",
       " cbsa\\_encoded\\_28660  & $\\beta_{187}$ & 2110.03       & 1986.02          & 2319.89     \\\\\n",
       " cbsa\\_encoded\\_28700  & $\\beta_{188}$ & 1237.09       & 1119.63          & 1379.61     \\\\\n",
       " cbsa\\_encoded\\_28740  & $\\beta_{189}$ & 929.61        & 825.23           & 1034.58     \\\\\n",
       " cbsa\\_encoded\\_28940  & $\\beta_{190}$ & 5577.60       & 5189.23          & 6074.41     \\\\\n",
       " cbsa\\_encoded\\_29020  & $\\beta_{191}$ & -553.38       & -626.15          & -470.00     \\\\\n",
       " cbsa\\_encoded\\_29100  & $\\beta_{192}$ & -461.61       & -527.33          & -399.65     \\\\\n",
       " cbsa\\_encoded\\_29180  & $\\beta_{193}$ & 1932.09       & 1829.69          & 2065.43     \\\\\n",
       " cbsa\\_encoded\\_29200  & $\\beta_{194}$ & -309.97       & -367.63          & -246.42     \\\\\n",
       " cbsa\\_encoded\\_29340  & $\\beta_{195}$ & 237.29        & 167.60           & 324.86      \\\\\n",
       " cbsa\\_encoded\\_29420  & $\\beta_{196}$ & 838.26        & 746.04           & 909.73      \\\\\n",
       " cbsa\\_encoded\\_29460  & $\\beta_{197}$ & 4701.21       & 4303.91          & 5016.91     \\\\\n",
       " cbsa\\_encoded\\_29540  & $\\beta_{198}$ & 721.96        & 578.04           & 845.51      \\\\\n",
       " cbsa\\_encoded\\_29620  & $\\beta_{199}$ & 1114.48       & 1021.08          & 1193.83     \\\\\n",
       " cbsa\\_encoded\\_29700  & $\\beta_{200}$ & -207.39       & -265.15          & -145.49     \\\\\n",
       " cbsa\\_encoded\\_29740  & $\\beta_{201}$ & 158.23        & 90.96            & 246.24      \\\\\n",
       " cbsa\\_encoded\\_29820  & $\\beta_{202}$ & 12326.85      & 11389.69         & 13558.10    \\\\\n",
       " cbsa\\_encoded\\_29940  & $\\beta_{203}$ & -426.59       & -500.56          & -363.69     \\\\\n",
       " cbsa\\_encoded\\_30020  & $\\beta_{204}$ & -235.00       & -319.43          & -154.41     \\\\\n",
       " cbsa\\_encoded\\_30140  & $\\beta_{205}$ & -175.23       & -281.90          & -64.76      \\\\\n",
       " cbsa\\_encoded\\_30300  & $\\beta_{206}$ & -622.86       & -696.35          & -544.79     \\\\\n",
       " cbsa\\_encoded\\_30340  & $\\beta_{207}$ & -520.57       & -603.12          & -440.76     \\\\\n",
       " cbsa\\_encoded\\_30460  & $\\beta_{208}$ & 2407.57       & 2239.94          & 2650.38     \\\\\n",
       " cbsa\\_encoded\\_30620  & $\\beta_{209}$ & -458.60       & -547.26          & -380.67     \\\\\n",
       " cbsa\\_encoded\\_30700  & $\\beta_{210}$ & 771.50        & 652.17           & 915.59      \\\\\n",
       " cbsa\\_encoded\\_30780  & $\\beta_{211}$ & 3188.36       & 2949.79          & 3417.91     \\\\\n",
       " cbsa\\_encoded\\_30860  & $\\beta_{212}$ & -244.27       & -308.57          & -187.02     \\\\\n",
       " cbsa\\_encoded\\_30980  & $\\beta_{213}$ & 526.27        & 442.66           & 620.53      \\\\\n",
       " cbsa\\_encoded\\_31020  & $\\beta_{214}$ & -449.18       & -540.26          & -366.42     \\\\\n",
       " cbsa\\_encoded\\_31080  & $\\beta_{215}$ & 31957.27      & 30191.21         & 33598.17    \\\\\n",
       " cbsa\\_encoded\\_31140  & $\\beta_{216}$ & 5902.06       & 5417.74          & 6300.50     \\\\\n",
       " cbsa\\_encoded\\_31180  & $\\beta_{217}$ & 839.18        & 713.59           & 937.40      \\\\\n",
       " cbsa\\_encoded\\_31340  & $\\beta_{218}$ & 1124.75       & 1032.53          & 1203.88     \\\\\n",
       " cbsa\\_encoded\\_31420  & $\\beta_{219}$ & 498.65        & 421.16           & 575.90      \\\\\n",
       " cbsa\\_encoded\\_31460  & $\\beta_{220}$ & -1.33         & -64.05           & 74.35       \\\\\n",
       " cbsa\\_encoded\\_31540  & $\\beta_{221}$ & 2193.15       & 1994.42          & 2420.91     \\\\\n",
       " cbsa\\_encoded\\_31700  & $\\beta_{222}$ & 914.46        & 755.30           & 1048.19     \\\\\n",
       " cbsa\\_encoded\\_31740  & $\\beta_{223}$ & -382.57       & -468.95          & -308.22     \\\\\n",
       " cbsa\\_encoded\\_31860  & $\\beta_{224}$ & -356.01       & -425.98          & -293.88     \\\\\n",
       " cbsa\\_encoded\\_31900  & $\\beta_{225}$ & -524.96       & -618.02          & -425.87     \\\\\n",
       " cbsa\\_encoded\\_32580  & $\\beta_{226}$ & 1500.32       & 1327.22          & 1740.83     \\\\\n",
       " cbsa\\_encoded\\_32780  & $\\beta_{227}$ & 137.77        & 54.48            & 205.11      \\\\\n",
       " cbsa\\_encoded\\_32820  & $\\beta_{228}$ & 5277.22       & 4978.73          & 5675.13     \\\\\n",
       " cbsa\\_encoded\\_32900  & $\\beta_{229}$ & 273.44        & 172.22           & 389.81      \\\\\n",
       " cbsa\\_encoded\\_33100  & $\\beta_{230}$ & 65625.89      & 63842.59         & 68544.86    \\\\\n",
       " cbsa\\_encoded\\_33140  & $\\beta_{231}$ & -390.82       & -484.65          & -318.93     \\\\\n",
       " cbsa\\_encoded\\_33220  & $\\beta_{232}$ & -448.89       & -546.47          & -379.36     \\\\\n",
       " cbsa\\_encoded\\_33260  & $\\beta_{233}$ & -44.56        & -128.39          & 38.60       \\\\\n",
       " cbsa\\_encoded\\_33340  & $\\beta_{234}$ & 4823.98       & 4444.50          & 5192.72     \\\\\n",
       " cbsa\\_encoded\\_33460  & $\\beta_{235}$ & 18126.31      & 16783.54         & 19637.94    \\\\\n",
       " cbsa\\_encoded\\_33540  & $\\beta_{236}$ & -95.65        & -156.07          & -35.11      \\\\\n",
       " cbsa\\_encoded\\_33660  & $\\beta_{237}$ & 1067.82       & 951.08           & 1177.07     \\\\\n",
       " cbsa\\_encoded\\_33700  & $\\beta_{238}$ & 834.31        & 730.72           & 994.52      \\\\\n",
       " cbsa\\_encoded\\_33740  & $\\beta_{239}$ & -22.09        & -84.10           & 30.83       \\\\\n",
       " cbsa\\_encoded\\_33780  & $\\beta_{240}$ & -189.83       & -267.73          & -89.29      \\\\\n",
       " cbsa\\_encoded\\_33860  & $\\beta_{241}$ & 1479.63       & 1383.82          & 1555.59     \\\\\n",
       " cbsa\\_encoded\\_34060  & $\\beta_{242}$ & -133.65       & -216.02          & -72.22      \\\\\n",
       " cbsa\\_encoded\\_34100  & $\\beta_{243}$ & 213.22        & 130.96           & 302.59      \\\\\n",
       " cbsa\\_encoded\\_34580  & $\\beta_{244}$ & -377.24       & -451.93          & -315.24     \\\\\n",
       " cbsa\\_encoded\\_34620  & $\\beta_{245}$ & -399.32       & -475.89          & -333.23     \\\\\n",
       " cbsa\\_encoded\\_34740  & $\\beta_{246}$ & -388.77       & -481.14          & -298.38     \\\\\n",
       " cbsa\\_encoded\\_34820  & $\\beta_{247}$ & 10952.33      & 10332.77         & 11681.98    \\\\\n",
       " cbsa\\_encoded\\_34900  & $\\beta_{248}$ & -403.22       & -480.33          & -319.04     \\\\\n",
       " cbsa\\_encoded\\_34940  & $\\beta_{249}$ & 8303.52       & 7920.09          & 8657.00     \\\\\n",
       " cbsa\\_encoded\\_34980  & $\\beta_{250}$ & 10608.33      & 9227.12          & 11860.13    \\\\\n",
       " cbsa\\_encoded\\_35100  & $\\beta_{251}$ & 253.00        & 148.47           & 329.80      \\\\\n",
       " cbsa\\_encoded\\_35300  & $\\beta_{252}$ & 3757.07       & 3472.50          & 4049.77     \\\\\n",
       " cbsa\\_encoded\\_35380  & $\\beta_{253}$ & 5926.05       & 5697.25          & 6143.82     \\\\\n",
       " cbsa\\_encoded\\_35620  & $\\beta_{254}$ & 90753.57      & 87779.83         & 95290.34    \\\\\n",
       " cbsa\\_encoded\\_35660  & $\\beta_{255}$ & 80.25         & -41.12           & 196.22      \\\\\n",
       " cbsa\\_encoded\\_35840  & $\\beta_{256}$ & 10421.78      & 9758.91          & 11253.09    \\\\\n",
       " cbsa\\_encoded\\_35980  & $\\beta_{257}$ & 829.17        & 720.72           & 932.29      \\\\\n",
       " cbsa\\_encoded\\_36100  & $\\beta_{258}$ & 2677.10       & 2336.56          & 2965.53     \\\\\n",
       " cbsa\\_encoded\\_36140  & $\\beta_{259}$ & 1913.62       & 1676.91          & 2108.12     \\\\\n",
       " cbsa\\_encoded\\_36220  & $\\beta_{260}$ & -295.55       & -394.57          & -217.61     \\\\\n",
       " cbsa\\_encoded\\_36260  & $\\beta_{261}$ & 2327.74       & 2097.26          & 2690.31     \\\\\n",
       " cbsa\\_encoded\\_36420  & $\\beta_{262}$ & 5515.40       & 5129.78          & 5906.93     \\\\\n",
       " cbsa\\_encoded\\_36500  & $\\beta_{263}$ & 49.98         & -48.27           & 160.57      \\\\\n",
       " cbsa\\_encoded\\_36540  & $\\beta_{264}$ & 3887.10       & 3390.79          & 4293.32     \\\\\n",
       " cbsa\\_encoded\\_36740  & $\\beta_{265}$ & 17771.12      & 16188.46         & 19168.76    \\\\\n",
       " cbsa\\_encoded\\_36780  & $\\beta_{266}$ & -122.11       & -190.13          & -57.77      \\\\\n",
       " cbsa\\_encoded\\_36980  & $\\beta_{267}$ & -404.67       & -471.19          & -339.10     \\\\\n",
       " cbsa\\_encoded\\_37100  & $\\beta_{268}$ & 2107.86       & 1969.19          & 2288.38     \\\\\n",
       " cbsa\\_encoded\\_37340  & $\\beta_{269}$ & 4491.61       & 4275.17          & 4860.62     \\\\\n",
       " cbsa\\_encoded\\_37460  & $\\beta_{270}$ & 1685.20       & 1555.78          & 1801.40     \\\\\n",
       " cbsa\\_encoded\\_37620  & $\\beta_{271}$ & -511.09       & -597.45          & -441.80     \\\\\n",
       " cbsa\\_encoded\\_37860  & $\\beta_{272}$ & 2071.52       & 1878.24          & 2263.84     \\\\\n",
       " cbsa\\_encoded\\_37900  & $\\beta_{273}$ & 1939.20       & 1786.74          & 2080.54     \\\\\n",
       " cbsa\\_encoded\\_37980  & $\\beta_{274}$ & 28955.93      & 26394.14         & 31936.78    \\\\\n",
       " cbsa\\_encoded\\_38060  & $\\beta_{275}$ & 25247.83      & 23228.72         & 27863.93    \\\\\n",
       " cbsa\\_encoded\\_38220  & $\\beta_{276}$ & -651.51       & -734.46          & -571.70     \\\\\n",
       " cbsa\\_encoded\\_38300  & $\\beta_{277}$ & 11769.16      & 11107.91         & 12518.05    \\\\\n",
       " cbsa\\_encoded\\_38340  & $\\beta_{278}$ & 426.89        & 344.87           & 534.66      \\\\\n",
       " cbsa\\_encoded\\_38540  & $\\beta_{279}$ & -491.47       & -563.08          & -407.14     \\\\\n",
       " cbsa\\_encoded\\_38860  & $\\beta_{280}$ & 2319.06       & 2143.16          & 2584.01     \\\\\n",
       " cbsa\\_encoded\\_38900  & $\\beta_{281}$ & 8059.25       & 7030.04          & 8999.12     \\\\\n",
       " cbsa\\_encoded\\_38940  & $\\beta_{282}$ & 5038.90       & 4736.56          & 5376.51     \\\\\n",
       " cbsa\\_encoded\\_39140  & $\\beta_{283}$ & 1667.42       & 1525.01          & 1867.58     \\\\\n",
       " cbsa\\_encoded\\_39300  & $\\beta_{284}$ & 6018.43       & 5526.57          & 6488.58     \\\\\n",
       " cbsa\\_encoded\\_39340  & $\\beta_{285}$ & 3489.74       & 3140.94          & 3930.01     \\\\\n",
       " cbsa\\_encoded\\_39380  & $\\beta_{286}$ & -310.18       & -386.53          & -239.19     \\\\\n",
       " cbsa\\_encoded\\_39460  & $\\beta_{287}$ & 2279.78       & 2161.45          & 2435.74     \\\\\n",
       " cbsa\\_encoded\\_39540  & $\\beta_{288}$ & -27.04        & -120.44          & 57.68       \\\\\n",
       " cbsa\\_encoded\\_39580  & $\\beta_{289}$ & 7114.44       & 6332.99          & 8116.69     \\\\\n",
       " cbsa\\_encoded\\_39660  & $\\beta_{290}$ & 167.39        & 106.57           & 219.77      \\\\\n",
       " cbsa\\_encoded\\_39740  & $\\beta_{291}$ & 865.96        & 665.22           & 1095.52     \\\\\n",
       " cbsa\\_encoded\\_39820  & $\\beta_{292}$ & -186.14       & -255.07          & -117.68     \\\\\n",
       " cbsa\\_encoded\\_39900  & $\\beta_{293}$ & 2059.02       & 1841.02          & 2296.76     \\\\\n",
       " cbsa\\_encoded\\_40060  & $\\beta_{294}$ & 7443.52       & 6785.41          & 8145.10     \\\\\n",
       " cbsa\\_encoded\\_40140  & $\\beta_{295}$ & 21287.80      & 20230.55         & 22284.43    \\\\\n",
       " cbsa\\_encoded\\_40220  & $\\beta_{296}$ & 918.05        & 842.36           & 995.28      \\\\\n",
       " cbsa\\_encoded\\_40340  & $\\beta_{297}$ & 412.78        & 339.69           & 492.38      \\\\\n",
       " cbsa\\_encoded\\_40380  & $\\beta_{298}$ & 1905.30       & 1713.24          & 2133.05     \\\\\n",
       " cbsa\\_encoded\\_40420  & $\\beta_{299}$ & 1215.59       & 1112.36          & 1342.48     \\\\\n",
       " cbsa\\_encoded\\_40580  & $\\beta_{300}$ & -168.18       & -259.05          & -101.84     \\\\\n",
       " cbsa\\_encoded\\_40660  & $\\beta_{301}$ & -247.64       & -329.67          & -177.68     \\\\\n",
       " cbsa\\_encoded\\_40900  & $\\beta_{302}$ & 8809.08       & 8195.57          & 9514.47     \\\\\n",
       " cbsa\\_encoded\\_40980  & $\\beta_{303}$ & -77.05        & -146.75          & -12.43      \\\\\n",
       " cbsa\\_encoded\\_41060  & $\\beta_{304}$ & 182.12        & 91.23            & 267.95      \\\\\n",
       " cbsa\\_encoded\\_41100  & $\\beta_{305}$ & 972.42        & 845.00           & 1113.42     \\\\\n",
       " cbsa\\_encoded\\_41140  & $\\beta_{306}$ & -272.31       & -373.60          & -195.91     \\\\\n",
       " cbsa\\_encoded\\_41180  & $\\beta_{307}$ & 14825.78      & 14048.41         & 15843.27    \\\\\n",
       " cbsa\\_encoded\\_41420  & $\\beta_{308}$ & 1289.65       & 1170.39          & 1414.01     \\\\\n",
       " cbsa\\_encoded\\_41500  & $\\beta_{309}$ & 253.85        & 175.98           & 339.76      \\\\\n",
       " cbsa\\_encoded\\_41540  & $\\beta_{310}$ & 4606.85       & 4210.24          & 4997.50     \\\\\n",
       " cbsa\\_encoded\\_41620  & $\\beta_{311}$ & 5268.85       & 4586.80          & 6011.95     \\\\\n",
       " cbsa\\_encoded\\_41660  & $\\beta_{312}$ & -323.17       & -391.61          & -246.14     \\\\\n",
       " cbsa\\_encoded\\_41700  & $\\beta_{313}$ & 15070.95      & 14145.54         & 16214.69    \\\\\n",
       " cbsa\\_encoded\\_41740  & $\\beta_{314}$ & 7212.88       & 6590.88          & 7914.00     \\\\\n",
       " cbsa\\_encoded\\_41860  & $\\beta_{315}$ & 9651.49       & 8615.92          & 10646.72    \\\\\n",
       " cbsa\\_encoded\\_41940  & $\\beta_{316}$ & 2699.27       & 2339.89          & 3125.08     \\\\\n",
       " cbsa\\_encoded\\_42020  & $\\beta_{317}$ & 363.91        & 283.53           & 442.55      \\\\\n",
       " cbsa\\_encoded\\_42100  & $\\beta_{318}$ & -192.40       & -280.76          & -108.26     \\\\\n",
       " cbsa\\_encoded\\_42140  & $\\beta_{319}$ & 329.09        & 231.78           & 415.47      \\\\\n",
       " cbsa\\_encoded\\_42200  & $\\beta_{320}$ & 753.12        & 682.03           & 829.85      \\\\\n",
       " cbsa\\_encoded\\_42220  & $\\beta_{321}$ & 440.97        & 348.55           & 535.68      \\\\\n",
       " cbsa\\_encoded\\_42340  & $\\beta_{322}$ & 3190.94       & 3002.87          & 3427.03     \\\\\n",
       " cbsa\\_encoded\\_42540  & $\\beta_{323}$ & 1801.97       & 1615.66          & 1954.35     \\\\\n",
       " cbsa\\_encoded\\_42660  & $\\beta_{324}$ & 10371.18      & 9079.53          & 12181.42    \\\\\n",
       " cbsa\\_encoded\\_42680  & $\\beta_{325}$ & 1717.46       & 1606.90          & 1830.54     \\\\\n",
       " cbsa\\_encoded\\_42700  & $\\beta_{326}$ & -39.28        & -116.92          & 50.69       \\\\\n",
       " cbsa\\_encoded\\_43100  & $\\beta_{327}$ & -415.39       & -479.88          & -351.73     \\\\\n",
       " cbsa\\_encoded\\_43300  & $\\beta_{328}$ & -22.46        & -87.55           & 43.28       \\\\\n",
       " cbsa\\_encoded\\_43340  & $\\beta_{329}$ & 1432.08       & 1326.20          & 1592.17     \\\\\n",
       " cbsa\\_encoded\\_43420  & $\\beta_{330}$ & -57.91        & -136.44          & 12.43       \\\\\n",
       " cbsa\\_encoded\\_43580  & $\\beta_{331}$ & -394.72       & -458.08          & -337.93     \\\\\n",
       " cbsa\\_encoded\\_43620  & $\\beta_{332}$ & 592.82        & 453.64           & 782.23      \\\\\n",
       " cbsa\\_encoded\\_43780  & $\\beta_{333}$ & 244.73        & 157.72           & 316.79      \\\\\n",
       " cbsa\\_encoded\\_43900  & $\\beta_{334}$ & 2011.80       & 1865.26          & 2174.05     \\\\\n",
       " cbsa\\_encoded\\_44060  & $\\beta_{335}$ & 2668.29       & 2380.04          & 3028.18     \\\\\n",
       " cbsa\\_encoded\\_44100  & $\\beta_{336}$ & 500.59        & 318.38           & 654.67      \\\\\n",
       " cbsa\\_encoded\\_44140  & $\\beta_{337}$ & 852.83        & 756.08           & 960.33      \\\\\n",
       " cbsa\\_encoded\\_44180  & $\\beta_{338}$ & 1964.16       & 1807.93          & 2112.13     \\\\\n",
       " cbsa\\_encoded\\_44220  & $\\beta_{339}$ & -74.13        & -162.43          & 24.32       \\\\\n",
       " cbsa\\_encoded\\_44300  & $\\beta_{340}$ & -385.01       & -458.48          & -310.25     \\\\\n",
       " cbsa\\_encoded\\_44420  & $\\beta_{341}$ & -105.92       & -181.65          & -16.67      \\\\\n",
       " cbsa\\_encoded\\_44700  & $\\beta_{342}$ & 1835.53       & 1666.31          & 2058.91     \\\\\n",
       " cbsa\\_encoded\\_44940  & $\\beta_{343}$ & -224.03       & -302.83          & -140.94     \\\\\n",
       " cbsa\\_encoded\\_45060  & $\\beta_{344}$ & 1867.23       & 1709.74          & 2041.27     \\\\\n",
       " cbsa\\_encoded\\_45220  & $\\beta_{345}$ & 1419.51       & 1305.39          & 1573.26     \\\\\n",
       " cbsa\\_encoded\\_45300  & $\\beta_{346}$ & 24310.56      & 22734.35         & 26094.15    \\\\\n",
       " cbsa\\_encoded\\_45460  & $\\beta_{347}$ & -195.57       & -282.97          & -121.72     \\\\\n",
       " cbsa\\_encoded\\_45500  & $\\beta_{348}$ & -365.35       & -450.17          & -284.18     \\\\\n",
       " cbsa\\_encoded\\_45540  & $\\beta_{349}$ & 81.59         & -29.36           & 176.72      \\\\\n",
       " cbsa\\_encoded\\_45780  & $\\beta_{350}$ & 1662.34       & 1484.51          & 1826.81     \\\\\n",
       " cbsa\\_encoded\\_45820  & $\\beta_{351}$ & -153.15       & -228.65          & -84.17      \\\\\n",
       " cbsa\\_encoded\\_45940  & $\\beta_{352}$ & 1220.36       & 1082.61          & 1395.80     \\\\\n",
       " cbsa\\_encoded\\_46060  & $\\beta_{353}$ & 5242.93       & 4884.29          & 5600.70     \\\\\n",
       " cbsa\\_encoded\\_46140  & $\\beta_{354}$ & 4738.68       & 4450.60          & 5044.62     \\\\\n",
       " cbsa\\_encoded\\_46220  & $\\beta_{355}$ & 374.98        & 285.91           & 462.83      \\\\\n",
       " cbsa\\_encoded\\_46300  & $\\beta_{356}$ & -371.58       & -509.94          & -259.07     \\\\\n",
       " cbsa\\_encoded\\_46340  & $\\beta_{357}$ & 735.25        & 661.00           & 821.58      \\\\\n",
       " cbsa\\_encoded\\_46520  & $\\beta_{358}$ & 2189.93       & 2035.68          & 2408.05     \\\\\n",
       " cbsa\\_encoded\\_46540  & $\\beta_{359}$ & 434.81        & 332.39           & 543.16      \\\\\n",
       " cbsa\\_encoded\\_46660  & $\\beta_{360}$ & -45.99        & -111.34          & 21.26       \\\\\n",
       " cbsa\\_encoded\\_46700  & $\\beta_{361}$ & 172.09        & 92.56            & 262.97      \\\\\n",
       " cbsa\\_encoded\\_47020  & $\\beta_{362}$ & -482.85       & -565.68          & -398.48     \\\\\n",
       " cbsa\\_encoded\\_47220  & $\\beta_{363}$ & 253.06        & 131.38           & 352.60      \\\\\n",
       " cbsa\\_encoded\\_47260  & $\\beta_{364}$ & 10409.20      & 9818.63          & 11123.22    \\\\\n",
       " cbsa\\_encoded\\_47300  & $\\beta_{365}$ & 848.84        & 745.96           & 976.52      \\\\\n",
       " cbsa\\_encoded\\_47380  & $\\beta_{366}$ & 160.23        & 43.88            & 282.11      \\\\\n",
       " cbsa\\_encoded\\_47460  & $\\beta_{367}$ & -646.56       & -719.38          & -558.68     \\\\\n",
       " cbsa\\_encoded\\_47580  & $\\beta_{368}$ & 596.17        & 519.47           & 691.86      \\\\\n",
       " cbsa\\_encoded\\_47900  & $\\beta_{369}$ & 21826.24      & 20253.58         & 23682.38    \\\\\n",
       " cbsa\\_encoded\\_47940  & $\\beta_{370}$ & -72.50        & -153.99          & -11.58      \\\\\n",
       " cbsa\\_encoded\\_48060  & $\\beta_{371}$ & 250.07        & 131.59           & 359.34      \\\\\n",
       " cbsa\\_encoded\\_48140  & $\\beta_{372}$ & -308.07       & -363.47          & -251.19     \\\\\n",
       " cbsa\\_encoded\\_48260  & $\\beta_{373}$ & -390.88       & -482.06          & -318.62     \\\\\n",
       " cbsa\\_encoded\\_48300  & $\\beta_{374}$ & -332.41       & -402.17          & -259.63     \\\\\n",
       " cbsa\\_encoded\\_48540  & $\\beta_{375}$ & -330.92       & -424.99          & -246.03     \\\\\n",
       " cbsa\\_encoded\\_48620  & $\\beta_{376}$ & 1505.50       & 1386.61          & 1636.21     \\\\\n",
       " cbsa\\_encoded\\_48660  & $\\beta_{377}$ & -361.04       & -446.51          & -290.92     \\\\\n",
       " cbsa\\_encoded\\_48700  & $\\beta_{378}$ & -399.11       & -474.93          & -325.57     \\\\\n",
       " cbsa\\_encoded\\_48900  & $\\beta_{379}$ & 2326.33       & 2173.34          & 2504.05     \\\\\n",
       " cbsa\\_encoded\\_49020  & $\\beta_{380}$ & -81.76        & -149.73          & -16.02      \\\\\n",
       " cbsa\\_encoded\\_49180  & $\\beta_{381}$ & 2308.58       & 2099.07          & 2529.18     \\\\\n",
       " cbsa\\_encoded\\_49340  & $\\beta_{382}$ & 2052.31       & 1893.64          & 2249.13     \\\\\n",
       " cbsa\\_encoded\\_49420  & $\\beta_{383}$ & -242.88       & -307.31          & -174.39     \\\\\n",
       " cbsa\\_encoded\\_49620  & $\\beta_{384}$ & 970.75        & 845.59           & 1110.45     \\\\\n",
       " cbsa\\_encoded\\_49660  & $\\beta_{385}$ & 1732.74       & 1611.03          & 1879.26     \\\\\n",
       " cbsa\\_encoded\\_49700  & $\\beta_{386}$ & -49.65        & -145.07          & 47.58       \\\\\n",
       "                       &               &               &                  &             \\\\\n",
       " \\textbf{Metrics}      & \\textbf{Mean} & \\textbf{Lo}   & \\textbf{Hi}      &             \\\\\n",
       " $\\sigma$              & 1488.35       & 1356.33       & 1594.78          &             \\\\\n",
       " $R^2$                 & 0.97          & 0.96          & 0.97             &             \\\\\n",
       "\\bottomrule\n",
       "\\end{tabular}"
      ],
      "text/markdown": [
       "Model: housing_inventory ~ housing_permits + mortgage_rate + credit+ prime_rate +cbsa_encoded_10180 + cbsa_encoded_10420 + cbsa_encoded_10500 + cbsa_encoded_10540 + cbsa_encoded_10580 + cbsa_encoded_10740 + cbsa_encoded_10780 + cbsa_encoded_10900 + cbsa_encoded_11020 + cbsa_encoded_11100 + cbsa_encoded_11180 + cbsa_encoded_11260 + cbsa_encoded_11460 + cbsa_encoded_11500 + cbsa_encoded_11540 + cbsa_encoded_11700 + cbsa_encoded_12020 + cbsa_encoded_12060 + cbsa_encoded_12100 + cbsa_encoded_12220 + cbsa_encoded_12260 + cbsa_encoded_12420 + cbsa_encoded_12540 + cbsa_encoded_12580 + cbsa_encoded_12620 + cbsa_encoded_12700 + cbsa_encoded_12940 + cbsa_encoded_12980 + cbsa_encoded_13020 + cbsa_encoded_13140 + cbsa_encoded_13220 + cbsa_encoded_13380 + cbsa_encoded_13460 + cbsa_encoded_13740 + cbsa_encoded_13780 + cbsa_encoded_13820 + cbsa_encoded_13900 + cbsa_encoded_13980 + cbsa_encoded_14010 + cbsa_encoded_14020 + cbsa_encoded_14100 + cbsa_encoded_14260 + cbsa_encoded_14460 + cbsa_encoded_14500 + cbsa_encoded_14540 + cbsa_encoded_14740 + cbsa_encoded_14860 + cbsa_encoded_15180 + cbsa_encoded_15260 + cbsa_encoded_15380 + cbsa_encoded_15500 + cbsa_encoded_15540 + cbsa_encoded_15680 + cbsa_encoded_15940 + cbsa_encoded_15980 + cbsa_encoded_16020 + cbsa_encoded_16060 + cbsa_encoded_16180 + cbsa_encoded_16220 + cbsa_encoded_16300 + cbsa_encoded_16540 + cbsa_encoded_16580 + cbsa_encoded_16620 + cbsa_encoded_16700 + cbsa_encoded_16740 + cbsa_encoded_16820 + cbsa_encoded_16860 + cbsa_encoded_16940 + cbsa_encoded_16980 + cbsa_encoded_17020 + cbsa_encoded_17140 + cbsa_encoded_17300 + cbsa_encoded_17420 + cbsa_encoded_17460 + cbsa_encoded_17660 + cbsa_encoded_17780 + cbsa_encoded_17820 + cbsa_encoded_17860 + cbsa_encoded_17900 + cbsa_encoded_17980 + cbsa_encoded_18020 + cbsa_encoded_18140 + cbsa_encoded_18580 + cbsa_encoded_18700 + cbsa_encoded_18880 + cbsa_encoded_19060 + cbsa_encoded_19100 + cbsa_encoded_19140 + cbsa_encoded_19180 + cbsa_encoded_19300 + cbsa_encoded_19340 + cbsa_encoded_19380 + cbsa_encoded_19460 + cbsa_encoded_19500 + cbsa_encoded_19660 + cbsa_encoded_19740 + cbsa_encoded_19780 + cbsa_encoded_19820 + cbsa_encoded_20020 + cbsa_encoded_20100 + cbsa_encoded_20220 + cbsa_encoded_20260 + cbsa_encoded_20500 + cbsa_encoded_20700 + cbsa_encoded_20740 + cbsa_encoded_20940 + cbsa_encoded_21060 + cbsa_encoded_21140 + cbsa_encoded_21300 + cbsa_encoded_21340 + cbsa_encoded_21420 + cbsa_encoded_21500 + cbsa_encoded_21660 + cbsa_encoded_21780 + cbsa_encoded_21820 + cbsa_encoded_22020 + cbsa_encoded_22140 + cbsa_encoded_22180 + cbsa_encoded_22220 + cbsa_encoded_22380 + cbsa_encoded_22420 + cbsa_encoded_22500 + cbsa_encoded_22520 + cbsa_encoded_22540 + cbsa_encoded_22660 + cbsa_encoded_22900 + cbsa_encoded_23060 + cbsa_encoded_23420 + cbsa_encoded_23460 + cbsa_encoded_23540 + cbsa_encoded_23580 + cbsa_encoded_23900 + cbsa_encoded_24020 + cbsa_encoded_24140 + cbsa_encoded_24220 + cbsa_encoded_24260 + cbsa_encoded_24300 + cbsa_encoded_24340 + cbsa_encoded_24420 + cbsa_encoded_24500 + cbsa_encoded_24540 + cbsa_encoded_24580 + cbsa_encoded_24660 + cbsa_encoded_24780 + cbsa_encoded_24860 + cbsa_encoded_25060 + cbsa_encoded_25180 + cbsa_encoded_25220 + cbsa_encoded_25260 + cbsa_encoded_25420 + cbsa_encoded_25500 + cbsa_encoded_25540 + cbsa_encoded_25620 + cbsa_encoded_25860 + cbsa_encoded_25940 + cbsa_encoded_25980 + cbsa_encoded_26140 + cbsa_encoded_26300 + cbsa_encoded_26380 + cbsa_encoded_26420 + cbsa_encoded_26580 + cbsa_encoded_26620 + cbsa_encoded_26820 + cbsa_encoded_26900 + cbsa_encoded_26980 + cbsa_encoded_27060 + cbsa_encoded_27100 + cbsa_encoded_27140 + cbsa_encoded_27180 + cbsa_encoded_27260 + cbsa_encoded_27340 + cbsa_encoded_27500 + cbsa_encoded_27620 + cbsa_encoded_27740 + cbsa_encoded_27780 + cbsa_encoded_27860 + cbsa_encoded_27900 + cbsa_encoded_27980 + cbsa_encoded_28020 + cbsa_encoded_28100 + cbsa_encoded_28140 + cbsa_encoded_28420 + cbsa_encoded_28660 + cbsa_encoded_28700 + cbsa_encoded_28740 + cbsa_encoded_28940 + cbsa_encoded_29020 + cbsa_encoded_29100 + cbsa_encoded_29180 + cbsa_encoded_29200 + cbsa_encoded_29340 + cbsa_encoded_29420 + cbsa_encoded_29460 + cbsa_encoded_29540 + cbsa_encoded_29620 + cbsa_encoded_29700 + cbsa_encoded_29740 + cbsa_encoded_29820 + cbsa_encoded_29940 + cbsa_encoded_30020 + cbsa_encoded_30140 + cbsa_encoded_30300 + cbsa_encoded_30340 + cbsa_encoded_30460 + cbsa_encoded_30620 + cbsa_encoded_30700 + cbsa_encoded_30780 + cbsa_encoded_30860 + cbsa_encoded_30980 + cbsa_encoded_31020 + cbsa_encoded_31080 + cbsa_encoded_31140 + cbsa_encoded_31180 + cbsa_encoded_31340 + cbsa_encoded_31420 + cbsa_encoded_31460 + cbsa_encoded_31540 + cbsa_encoded_31700 + cbsa_encoded_31740 + cbsa_encoded_31860 + cbsa_encoded_31900 + cbsa_encoded_32580 + cbsa_encoded_32780 + cbsa_encoded_32820 + cbsa_encoded_32900 + cbsa_encoded_33100 + cbsa_encoded_33140 + cbsa_encoded_33220 + cbsa_encoded_33260 + cbsa_encoded_33340 + cbsa_encoded_33460 + cbsa_encoded_33540 + cbsa_encoded_33660 + cbsa_encoded_33700 + cbsa_encoded_33740 + cbsa_encoded_33780 + cbsa_encoded_33860 + cbsa_encoded_34060 + cbsa_encoded_34100 + cbsa_encoded_34580 + cbsa_encoded_34620 + cbsa_encoded_34740 + cbsa_encoded_34820 + cbsa_encoded_34900 + cbsa_encoded_34940 + cbsa_encoded_34980 + cbsa_encoded_35100 + cbsa_encoded_35300 + cbsa_encoded_35380 + cbsa_encoded_35620 + cbsa_encoded_35660 + cbsa_encoded_35840 + cbsa_encoded_35980 + cbsa_encoded_36100 + cbsa_encoded_36140 + cbsa_encoded_36220 + cbsa_encoded_36260 + cbsa_encoded_36420 + cbsa_encoded_36500 + cbsa_encoded_36540 + cbsa_encoded_36740 + cbsa_encoded_36780 + cbsa_encoded_36980 + cbsa_encoded_37100 + cbsa_encoded_37340 + cbsa_encoded_37460 + cbsa_encoded_37620 + cbsa_encoded_37860 + cbsa_encoded_37900 + cbsa_encoded_37980 + cbsa_encoded_38060 + cbsa_encoded_38220 + cbsa_encoded_38300 + cbsa_encoded_38340 + cbsa_encoded_38540 + cbsa_encoded_38860 + cbsa_encoded_38900 + cbsa_encoded_38940 + cbsa_encoded_39140 + cbsa_encoded_39300 + cbsa_encoded_39340 + cbsa_encoded_39380 + cbsa_encoded_39460 + cbsa_encoded_39540 + cbsa_encoded_39580 + cbsa_encoded_39660 + cbsa_encoded_39740 + cbsa_encoded_39820 + cbsa_encoded_39900 + cbsa_encoded_40060 + cbsa_encoded_40140 + cbsa_encoded_40220 + cbsa_encoded_40340 + cbsa_encoded_40380 + cbsa_encoded_40420 + cbsa_encoded_40580 + cbsa_encoded_40660 + cbsa_encoded_40900 + cbsa_encoded_40980 + cbsa_encoded_41060 + cbsa_encoded_41100 + cbsa_encoded_41140 + cbsa_encoded_41180 + cbsa_encoded_41420 + cbsa_encoded_41500 + cbsa_encoded_41540 + cbsa_encoded_41620 + cbsa_encoded_41660 + cbsa_encoded_41700 + cbsa_encoded_41740 + cbsa_encoded_41860 + cbsa_encoded_41940 + cbsa_encoded_42020 + cbsa_encoded_42100 + cbsa_encoded_42140 + cbsa_encoded_42200 + cbsa_encoded_42220 + cbsa_encoded_42340 + cbsa_encoded_42540 + cbsa_encoded_42660 + cbsa_encoded_42680 + cbsa_encoded_42700 + cbsa_encoded_43100 + cbsa_encoded_43300 + cbsa_encoded_43340 + cbsa_encoded_43420 + cbsa_encoded_43580 + cbsa_encoded_43620 + cbsa_encoded_43780 + cbsa_encoded_43900 + cbsa_encoded_44060 + cbsa_encoded_44100 + cbsa_encoded_44140 + cbsa_encoded_44180 + cbsa_encoded_44220 + cbsa_encoded_44300 + cbsa_encoded_44420 + cbsa_encoded_44700 + cbsa_encoded_44940 + cbsa_encoded_45060 + cbsa_encoded_45220 + cbsa_encoded_45300 + cbsa_encoded_45460 + cbsa_encoded_45500 + cbsa_encoded_45540 + cbsa_encoded_45780 + cbsa_encoded_45820 + cbsa_encoded_45940 + cbsa_encoded_46060 + cbsa_encoded_46140 + cbsa_encoded_46220 + cbsa_encoded_46300 + cbsa_encoded_46340 + cbsa_encoded_46520 + cbsa_encoded_46540 + cbsa_encoded_46660 + cbsa_encoded_46700 + cbsa_encoded_47020 + cbsa_encoded_47220 + cbsa_encoded_47260 + cbsa_encoded_47300 + cbsa_encoded_47380 + cbsa_encoded_47460 + cbsa_encoded_47580 + cbsa_encoded_47900 + cbsa_encoded_47940 + cbsa_encoded_48060 + cbsa_encoded_48140 + cbsa_encoded_48260 + cbsa_encoded_48300 + cbsa_encoded_48540 + cbsa_encoded_48620 + cbsa_encoded_48660 + cbsa_encoded_48700 + cbsa_encoded_48900 + cbsa_encoded_49020 + cbsa_encoded_49180 + cbsa_encoded_49340 + cbsa_encoded_49420 + cbsa_encoded_49620 + cbsa_encoded_49660 + cbsa_encoded_49700\n",
       "|--------------------|---------------|----------|-------------|----------|\n",
       "|                    |               |          | **95% BCI** |          |\n",
       "| **Coefficients**   |               | **Mean** | **Lo**      | **Hi**   |\n",
       "|                    | $\\beta_{0}$   | 2905.93  | 1985.96     | 3797.89  |\n",
       "| housing_permits    | $\\beta_{1}$   | -1.19    | -1.99       | -0.51    |\n",
       "| mortgage_rate      | $\\beta_{2}$   | -26.44   | -97.29      | 56.41    |\n",
       "| credit             | $\\beta_{3}$   | -0.00    | -0.00       | -0.00    |\n",
       "| prime_rate         | $\\beta_{4}$   | 288.52   | 224.53      | 349.47   |\n",
       "| cbsa_encoded_10180 | $\\beta_{5}$   | 17.00    | -77.28      | 105.51   |\n",
       "| cbsa_encoded_10420 | $\\beta_{6}$   | 1843.81  | 1708.19     | 2014.07  |\n",
       "| cbsa_encoded_10500 | $\\beta_{7}$   | -353.94  | -434.04     | -263.51  |\n",
       "| cbsa_encoded_10540 | $\\beta_{8}$   | -146.85  | -250.83     | -39.90   |\n",
       "| cbsa_encoded_10580 | $\\beta_{9}$   | 5046.21  | 4781.73     | 5289.01  |\n",
       "| cbsa_encoded_10740 | $\\beta_{10}$  | 3270.77  | 3113.09     | 3531.70  |\n",
       "| cbsa_encoded_10780 | $\\beta_{11}$  | -279.27  | -357.50     | -204.23  |\n",
       "| cbsa_encoded_10900 | $\\beta_{12}$  | 3151.49  | 2860.29     | 3421.66  |\n",
       "| cbsa_encoded_11020 | $\\beta_{13}$  | -532.05  | -617.22     | -453.35  |\n",
       "| cbsa_encoded_11100 | $\\beta_{14}$  | 540.31   | 479.78      | 614.74   |\n",
       "| cbsa_encoded_11180 | $\\beta_{15}$  | -362.40  | -445.57     | -287.96  |\n",
       "| cbsa_encoded_11260 | $\\beta_{16}$  | 822.44   | 718.47      | 926.12   |\n",
       "| cbsa_encoded_11460 | $\\beta_{17}$  | 591.22   | 506.96      | 697.16   |\n",
       "| cbsa_encoded_11500 | $\\beta_{18}$  | -289.09  | -378.07     | -219.02  |\n",
       "| cbsa_encoded_11540 | $\\beta_{19}$  | 81.62    | 17.42       | 143.54   |\n",
       "| cbsa_encoded_11700 | $\\beta_{20}$  | 2812.14  | 2637.37     | 3004.92  |\n",
       "| cbsa_encoded_12020 | $\\beta_{21}$  | 653.07   | 586.19      | 708.83   |\n",
       "| cbsa_encoded_12060 | $\\beta_{22}$  | 59698.46 | 56732.56    | 62309.57 |\n",
       "| cbsa_encoded_12100 | $\\beta_{23}$  | 2584.84  | 2457.08     | 2730.91  |\n",
       "| cbsa_encoded_12220 | $\\beta_{24}$  | 54.11    | -18.78      | 110.73   |\n",
       "| cbsa_encoded_12260 | $\\beta_{25}$  | 2649.26  | 2492.81     | 2815.06  |\n",
       "| cbsa_encoded_12420 | $\\beta_{26}$  | 12952.94 | 11139.81    | 15334.99 |\n",
       "| cbsa_encoded_12540 | $\\beta_{27}$  | 2645.62  | 2429.30     | 2837.07  |\n",
       "| cbsa_encoded_12580 | $\\beta_{28}$  | 11199.64 | 10470.67    | 11995.57 |\n",
       "| cbsa_encoded_12620 | $\\beta_{29}$  | 7.36     | -86.43      | 87.47    |\n",
       "| cbsa_encoded_12700 | $\\beta_{30}$  | 2993.60  | 2817.11     | 3158.38  |\n",
       "| cbsa_encoded_12940 | $\\beta_{31}$  | 3249.05  | 2942.17     | 3559.25  |\n",
       "| cbsa_encoded_12980 | $\\beta_{32}$  | -460.49  | -545.29     | -366.72  |\n",
       "| cbsa_encoded_13020 | $\\beta_{33}$  | -352.47  | -430.66     | -273.87  |\n",
       "| cbsa_encoded_13140 | $\\beta_{34}$  | 985.18   | 899.06      | 1052.79  |\n",
       "| cbsa_encoded_13220 | $\\beta_{35}$  | -227.84  | -312.06     | -147.48  |\n",
       "| cbsa_encoded_13380 | $\\beta_{36}$  | 35.45    | -47.10      | 128.52   |\n",
       "| cbsa_encoded_13460 | $\\beta_{37}$  | 1173.40  | 984.97      | 1333.98  |\n",
       "| cbsa_encoded_13740 | $\\beta_{38}$  | 429.08   | 362.61      | 505.98   |\n",
       "| cbsa_encoded_13780 | $\\beta_{39}$  | 577.29   | 485.98      | 683.35   |\n",
       "| cbsa_encoded_13820 | $\\beta_{40}$  | 5902.68  | 5650.50     | 6251.07  |\n",
       "| cbsa_encoded_13900 | $\\beta_{41}$  | -164.57  | -252.44     | -105.89  |\n",
       "| cbsa_encoded_13980 | $\\beta_{42}$  | -2.75    | -73.73      | 56.72    |\n",
       "| cbsa_encoded_14010 | $\\beta_{43}$  | 374.91   | 302.27      | 448.29   |\n",
       "| cbsa_encoded_14020 | $\\beta_{44}$  | -73.70   | -145.09     | -14.53   |\n",
       "| cbsa_encoded_14100 | $\\beta_{45}$  | -493.65  | -564.44     | -423.47  |\n",
       "| cbsa_encoded_14260 | $\\beta_{46}$  | 2985.84  | 2575.51     | 3522.37  |\n",
       "| cbsa_encoded_14460 | $\\beta_{47}$  | 12148.88 | 11194.28    | 13042.45 |\n",
       "| cbsa_encoded_14500 | $\\beta_{48}$  | 1231.66  | 1060.05     | 1403.40  |\n",
       "| cbsa_encoded_14540 | $\\beta_{49}$  | 71.08    | -0.96       | 137.44   |\n",
       "| cbsa_encoded_14740 | $\\beta_{50}$  | 35.68    | -53.09      | 116.30   |\n",
       "| cbsa_encoded_14860 | $\\beta_{51}$  | 6971.64  | 6635.83     | 7335.96  |\n",
       "| cbsa_encoded_15180 | $\\beta_{52}$  | 1218.64  | 1147.47     | 1311.78  |\n",
       "| cbsa_encoded_15260 | $\\beta_{53}$  | 370.12   | 303.26      | 443.23   |\n",
       "| cbsa_encoded_15380 | $\\beta_{54}$  | 1864.51  | 1617.79     | 2078.51  |\n",
       "| cbsa_encoded_15500 | $\\beta_{55}$  | 258.97   | 151.13      | 334.19   |\n",
       "| cbsa_encoded_15540 | $\\beta_{56}$  | 197.86   | 117.05      | 262.22   |\n",
       "| cbsa_encoded_15680 | $\\beta_{57}$  | -248.81  | -302.68     | -186.53  |\n",
       "| cbsa_encoded_15940 | $\\beta_{58}$  | 670.73   | 562.17      | 788.68   |\n",
       "| cbsa_encoded_15980 | $\\beta_{59}$  | 11820.03 | 11283.77    | 12574.72 |\n",
       "| cbsa_encoded_16020 | $\\beta_{60}$  | -302.52  | -381.41     | -238.20  |\n",
       "| cbsa_encoded_16060 | $\\beta_{61}$  | 266.47   | 141.13      | 396.54   |\n",
       "| cbsa_encoded_16180 | $\\beta_{62}$  | -651.22  | -728.04     | -575.52  |\n",
       "| cbsa_encoded_16220 | $\\beta_{63}$  | -515.99  | -582.28     | -437.84  |\n",
       "| cbsa_encoded_16300 | $\\beta_{64}$  | 324.33   | 237.59      | 412.88   |\n",
       "| cbsa_encoded_16540 | $\\beta_{65}$  | -229.31  | -310.10     | -165.73  |\n",
       "| cbsa_encoded_16580 | $\\beta_{66}$  | 627.11   | 563.57      | 712.46   |\n",
       "| cbsa_encoded_16620 | $\\beta_{67}$  | 455.10   | 385.07      | 552.15   |\n",
       "| cbsa_encoded_16700 | $\\beta_{68}$  | 6441.66  | 6036.38     | 6996.74  |\n",
       "| cbsa_encoded_16740 | $\\beta_{69}$  | 14199.00 | 12610.63    | 15943.06 |\n",
       "| cbsa_encoded_16820 | $\\beta_{70}$  | 1552.98  | 1444.28     | 1692.54  |\n",
       "| cbsa_encoded_16860 | $\\beta_{71}$  | 1831.20  | 1713.59     | 1998.87  |\n",
       "| cbsa_encoded_16940 | $\\beta_{72}$  | -196.47  | -283.01     | -121.01  |\n",
       "| cbsa_encoded_16980 | $\\beta_{73}$  | 55849.24 | 52756.22    | 58436.81 |\n",
       "| cbsa_encoded_17020 | $\\beta_{74}$  | -56.43   | -133.66     | 5.59     |\n",
       "| cbsa_encoded_17140 | $\\beta_{75}$  | 10742.17 | 10003.39    | 11304.62 |\n",
       "| cbsa_encoded_17300 | $\\beta_{76}$  | 1227.42  | 1104.97     | 1364.30  |\n",
       "| cbsa_encoded_17420 | $\\beta_{77}$  | -30.62   | -106.21     | 47.46    |\n",
       "| cbsa_encoded_17460 | $\\beta_{78}$  | 9333.27  | 8592.66     | 9903.00  |\n",
       "| cbsa_encoded_17660 | $\\beta_{79}$  | 655.24   | 572.10      | 770.18   |\n",
       "| cbsa_encoded_17780 | $\\beta_{80}$  | 833.24   | 698.06      | 964.17   |\n",
       "| cbsa_encoded_17820 | $\\beta_{81}$  | 3000.84  | 2612.53     | 3327.39  |\n",
       "| cbsa_encoded_17860 | $\\beta_{82}$  | -121.54  | -182.67     | -68.53   |\n",
       "| cbsa_encoded_17900 | $\\beta_{83}$  | 2992.31  | 2700.73     | 3372.63  |\n",
       "| cbsa_encoded_17980 | $\\beta_{84}$  | 791.86   | 704.12      | 918.24   |\n",
       "| cbsa_encoded_18020 | $\\beta_{85}$  | -483.67  | -578.13     | -404.81  |\n",
       "| cbsa_encoded_18140 | $\\beta_{86}$  | 7352.67  | 6809.57     | 8061.21  |\n",
       "| cbsa_encoded_18580 | $\\beta_{87}$  | 2744.89  | 2638.68     | 2888.74  |\n",
       "| cbsa_encoded_18700 | $\\beta_{88}$  | -628.90  | -711.56     | -558.04  |\n",
       "| cbsa_encoded_18880 | $\\beta_{89}$  | 2413.16  | 2245.68     | 2592.47  |\n",
       "| cbsa_encoded_19060 | $\\beta_{90}$  | -384.28  | -459.48     | -321.07  |\n",
       "| cbsa_encoded_19100 | $\\beta_{91}$  | 35672.30 | 32312.93    | 39856.76 |\n",
       "| cbsa_encoded_19140 | $\\beta_{92}$  | -436.17  | -511.56     | -356.07  |\n",
       "| cbsa_encoded_19180 | $\\beta_{93}$  | -488.54  | -566.08     | -408.53  |\n",
       "| cbsa_encoded_19300 | $\\beta_{94}$  | 2825.05  | 2648.41     | 3000.13  |\n",
       "| cbsa_encoded_19340 | $\\beta_{95}$  | 1559.03  | 1341.31     | 1765.65  |\n",
       "| cbsa_encoded_19380 | $\\beta_{96}$  | 4502.59  | 4159.22     | 4854.70  |\n",
       "| cbsa_encoded_19460 | $\\beta_{97}$  | -334.56  | -411.90     | -252.61  |\n",
       "| cbsa_encoded_19500 | $\\beta_{98}$  | -246.87  | -341.73     | -149.96  |\n",
       "| cbsa_encoded_19660 | $\\beta_{99}$  | 6871.84  | 6645.97     | 7134.94  |\n",
       "| cbsa_encoded_19740 | $\\beta_{100}$ | 10401.67 | 9352.23     | 11836.60 |\n",
       "| cbsa_encoded_19780 | $\\beta_{101}$ | 4856.56  | 4571.99     | 5308.70  |\n",
       "| cbsa_encoded_19820 | $\\beta_{102}$ | 13084.21 | 12416.27    | 13916.34 |\n",
       "| cbsa_encoded_20020 | $\\beta_{103}$ | 17.37    | -55.38      | 80.63    |\n",
       "| cbsa_encoded_20100 | $\\beta_{104}$ | 350.42   | 211.60      | 455.13   |\n",
       "| cbsa_encoded_20220 | $\\beta_{105}$ | -556.53  | -637.43     | -487.79  |\n",
       "| cbsa_encoded_20260 | $\\beta_{106}$ | 1439.50  | 1284.00     | 1599.09  |\n",
       "| cbsa_encoded_20500 | $\\beta_{107}$ | 1779.63  | 1511.27     | 2082.75  |\n",
       "| cbsa_encoded_20700 | $\\beta_{108}$ | 1041.08  | 909.15      | 1122.34  |\n",
       "| cbsa_encoded_20740 | $\\beta_{109}$ | -54.86   | -135.39     | 14.74    |\n",
       "| cbsa_encoded_20940 | $\\beta_{110}$ | -579.30  | -656.37     | -506.07  |\n",
       "| cbsa_encoded_21060 | $\\beta_{111}$ | 17.81    | -56.13      | 87.46    |\n",
       "| cbsa_encoded_21140 | $\\beta_{112}$ | -457.87  | -534.10     | -399.37  |\n",
       "| cbsa_encoded_21300 | $\\beta_{113}$ | -423.06  | -506.10     | -346.94  |\n",
       "| cbsa_encoded_21340 | $\\beta_{114}$ | 3532.44  | 3126.31     | 4015.71  |\n",
       "| cbsa_encoded_21420 | $\\beta_{115}$ | -594.61  | -672.15     | -520.22  |\n",
       "| cbsa_encoded_21500 | $\\beta_{116}$ | 545.81   | 452.40      | 627.41   |\n",
       "| cbsa_encoded_21660 | $\\beta_{117}$ | 164.18   | 75.00       | 283.10   |\n",
       "| cbsa_encoded_21780 | $\\beta_{118}$ | 109.39   | 43.90       | 171.58   |\n",
       "| cbsa_encoded_21820 | $\\beta_{119}$ | -568.15  | -650.33     | -502.60  |\n",
       "| cbsa_encoded_22020 | $\\beta_{120}$ | 404.70   | 316.55      | 490.53   |\n",
       "| cbsa_encoded_22140 | $\\beta_{121}$ | -416.53  | -497.20     | -324.74  |\n",
       "| cbsa_encoded_22180 | $\\beta_{122}$ | 2054.76  | 1879.66     | 2237.40  |\n",
       "| cbsa_encoded_22220 | $\\beta_{123}$ | 3550.04  | 3201.29     | 3957.22  |\n",
       "| cbsa_encoded_22380 | $\\beta_{124}$ | -322.56  | -391.60     | -257.26  |\n",
       "| cbsa_encoded_22420 | $\\beta_{125}$ | 568.45   | 471.74      | 645.70   |\n",
       "| cbsa_encoded_22500 | $\\beta_{126}$ | 62.39    | 12.18       | 128.37   |\n",
       "| cbsa_encoded_22520 | $\\beta_{127}$ | -130.13  | -200.58     | -49.99   |\n",
       "| cbsa_encoded_22540 | $\\beta_{128}$ | -363.08  | -454.42     | -293.78  |\n",
       "| cbsa_encoded_22660 | $\\beta_{129}$ | 1546.52  | 1381.58     | 1714.02  |\n",
       "| cbsa_encoded_22900 | $\\beta_{130}$ | 443.34   | 362.17      | 518.93   |\n",
       "| cbsa_encoded_23060 | $\\beta_{131}$ | 215.62   | 134.90      | 299.80   |\n",
       "| cbsa_encoded_23420 | $\\beta_{132}$ | 1383.28  | 1223.63     | 1510.50  |\n",
       "| cbsa_encoded_23460 | $\\beta_{133}$ | -357.39  | -457.69     | -275.87  |\n",
       "| cbsa_encoded_23540 | $\\beta_{134}$ | 535.65   | 443.53      | 653.20   |\n",
       "| cbsa_encoded_23580 | $\\beta_{135}$ | 1491.26  | 1379.90     | 1629.17  |\n",
       "| cbsa_encoded_23900 | $\\beta_{136}$ | -410.80  | -482.46     | -339.40  |\n",
       "| cbsa_encoded_24020 | $\\beta_{137}$ | 913.64   | 825.41      | 1006.28  |\n",
       "| cbsa_encoded_24140 | $\\beta_{138}$ | -416.44  | -482.72     | -342.70  |\n",
       "| cbsa_encoded_24220 | $\\beta_{139}$ | -360.36  | -442.55     | -254.08  |\n",
       "| cbsa_encoded_24260 | $\\beta_{140}$ | -703.28  | -780.12     | -618.96  |\n",
       "| cbsa_encoded_24300 | $\\beta_{141}$ | 491.95   | 413.41      | 565.63   |\n",
       "| cbsa_encoded_24340 | $\\beta_{142}$ | 1864.39  | 1567.76     | 2120.79  |\n",
       "| cbsa_encoded_24420 | $\\beta_{143}$ | -451.50  | -519.02     | -382.91  |\n",
       "| cbsa_encoded_24500 | $\\beta_{144}$ | -478.51  | -571.41     | -388.32  |\n",
       "| cbsa_encoded_24540 | $\\beta_{145}$ | 1537.81  | 1308.51     | 1763.50  |\n",
       "| cbsa_encoded_24580 | $\\beta_{146}$ | 732.03   | 660.04      | 818.68   |\n",
       "| cbsa_encoded_24660 | $\\beta_{147}$ | 2485.51  | 2294.03     | 2692.17  |\n",
       "| cbsa_encoded_24780 | $\\beta_{148}$ | 97.64    | 12.21       | 187.06   |\n",
       "| cbsa_encoded_24860 | $\\beta_{149}$ | 5767.65  | 5314.86     | 6169.23  |\n",
       "| cbsa_encoded_25060 | $\\beta_{150}$ | 1897.14  | 1764.97     | 2000.97  |\n",
       "| cbsa_encoded_25180 | $\\beta_{151}$ | 669.54   | 568.39      | 762.52   |\n",
       "| cbsa_encoded_25220 | $\\beta_{152}$ | -42.79   | -92.39      | 30.12    |\n",
       "| cbsa_encoded_25260 | $\\beta_{153}$ | -413.97  | -488.88     | -349.01  |\n",
       "| cbsa_encoded_25420 | $\\beta_{154}$ | 1722.06  | 1393.92     | 2073.45  |\n",
       "| cbsa_encoded_25500 | $\\beta_{155}$ | -359.19  | -441.23     | -265.23  |\n",
       "| cbsa_encoded_25540 | $\\beta_{156}$ | 5353.77  | 5026.69     | 5766.83  |\n",
       "| cbsa_encoded_25620 | $\\beta_{157}$ | -120.40  | -196.74     | -44.61   |\n",
       "| cbsa_encoded_25860 | $\\beta_{158}$ | 822.62   | 684.39      | 963.15   |\n",
       "| cbsa_encoded_25940 | $\\beta_{159}$ | 3185.98  | 3010.91     | 3404.68  |\n",
       "| cbsa_encoded_25980 | $\\beta_{160}$ | -135.69  | -196.59     | -90.51   |\n",
       "| cbsa_encoded_26140 | $\\beta_{161}$ | 833.89   | 765.26      | 925.02   |\n",
       "| cbsa_encoded_26300 | $\\beta_{162}$ | 744.07   | 647.06      | 853.20   |\n",
       "| cbsa_encoded_26380 | $\\beta_{163}$ | 107.82   | 52.15       | 177.02   |\n",
       "| cbsa_encoded_26420 | $\\beta_{164}$ | 43614.12 | 39047.87    | 48611.54 |\n",
       "| cbsa_encoded_26580 | $\\beta_{165}$ | 1268.31  | 1189.06     | 1374.06  |\n",
       "| cbsa_encoded_26620 | $\\beta_{166}$ | 1620.65  | 1409.29     | 1875.79  |\n",
       "| cbsa_encoded_26820 | $\\beta_{167}$ | -403.04  | -468.00     | -345.54  |\n",
       "| cbsa_encoded_26900 | $\\beta_{168}$ | 10152.27 | 9467.25     | 10902.19 |\n",
       "| cbsa_encoded_26980 | $\\beta_{169}$ | 533.80   | 452.39      | 639.66   |\n",
       "| cbsa_encoded_27060 | $\\beta_{170}$ | -483.44  | -541.49     | -413.27  |\n",
       "| cbsa_encoded_27100 | $\\beta_{171}$ | -43.07   | -120.03     | 46.80    |\n",
       "| cbsa_encoded_27140 | $\\beta_{172}$ | 2162.64  | 2005.38     | 2296.77  |\n",
       "| cbsa_encoded_27180 | $\\beta_{173}$ | -236.27  | -315.40     | -151.67  |\n",
       "| cbsa_encoded_27260 | $\\beta_{174}$ | 14697.95 | 13574.47    | 15856.37 |\n",
       "| cbsa_encoded_27340 | $\\beta_{175}$ | 1482.44  | 1370.10     | 1583.92  |\n",
       "| cbsa_encoded_27500 | $\\beta_{176}$ | -192.36  | -274.20     | -131.72  |\n",
       "| cbsa_encoded_27620 | $\\beta_{177}$ | -335.52  | -418.51     | -278.48  |\n",
       "| cbsa_encoded_27740 | $\\beta_{178}$ | 280.77   | 206.95      | 362.72   |\n",
       "| cbsa_encoded_27780 | $\\beta_{179}$ | -306.68  | -386.90     | -235.37  |\n",
       "| cbsa_encoded_27860 | $\\beta_{180}$ | -40.72   | -87.71      | 12.31    |\n",
       "| cbsa_encoded_27900 | $\\beta_{181}$ | 323.10   | 244.00      | 430.17   |\n",
       "| cbsa_encoded_27980 | $\\beta_{182}$ | 515.96   | 442.71      | 576.07   |\n",
       "| cbsa_encoded_28020 | $\\beta_{183}$ | 248.12   | 133.48      | 340.93   |\n",
       "| cbsa_encoded_28100 | $\\beta_{184}$ | -324.24  | -408.81     | -245.97  |\n",
       "| cbsa_encoded_28140 | $\\beta_{185}$ | 8801.68  | 8161.56     | 9497.13  |\n",
       "| cbsa_encoded_28420 | $\\beta_{186}$ | 122.83   | 31.56       | 231.96   |\n",
       "| cbsa_encoded_28660 | $\\beta_{187}$ | 2110.03  | 1986.02     | 2319.89  |\n",
       "| cbsa_encoded_28700 | $\\beta_{188}$ | 1237.09  | 1119.63     | 1379.61  |\n",
       "| cbsa_encoded_28740 | $\\beta_{189}$ | 929.61   | 825.23      | 1034.58  |\n",
       "| cbsa_encoded_28940 | $\\beta_{190}$ | 5577.60  | 5189.23     | 6074.41  |\n",
       "| cbsa_encoded_29020 | $\\beta_{191}$ | -553.38  | -626.15     | -470.00  |\n",
       "| cbsa_encoded_29100 | $\\beta_{192}$ | -461.61  | -527.33     | -399.65  |\n",
       "| cbsa_encoded_29180 | $\\beta_{193}$ | 1932.09  | 1829.69     | 2065.43  |\n",
       "| cbsa_encoded_29200 | $\\beta_{194}$ | -309.97  | -367.63     | -246.42  |\n",
       "| cbsa_encoded_29340 | $\\beta_{195}$ | 237.29   | 167.60      | 324.86   |\n",
       "| cbsa_encoded_29420 | $\\beta_{196}$ | 838.26   | 746.04      | 909.73   |\n",
       "| cbsa_encoded_29460 | $\\beta_{197}$ | 4701.21  | 4303.91     | 5016.91  |\n",
       "| cbsa_encoded_29540 | $\\beta_{198}$ | 721.96   | 578.04      | 845.51   |\n",
       "| cbsa_encoded_29620 | $\\beta_{199}$ | 1114.48  | 1021.08     | 1193.83  |\n",
       "| cbsa_encoded_29700 | $\\beta_{200}$ | -207.39  | -265.15     | -145.49  |\n",
       "| cbsa_encoded_29740 | $\\beta_{201}$ | 158.23   | 90.96       | 246.24   |\n",
       "| cbsa_encoded_29820 | $\\beta_{202}$ | 12326.85 | 11389.69    | 13558.10 |\n",
       "| cbsa_encoded_29940 | $\\beta_{203}$ | -426.59  | -500.56     | -363.69  |\n",
       "| cbsa_encoded_30020 | $\\beta_{204}$ | -235.00  | -319.43     | -154.41  |\n",
       "| cbsa_encoded_30140 | $\\beta_{205}$ | -175.23  | -281.90     | -64.76   |\n",
       "| cbsa_encoded_30300 | $\\beta_{206}$ | -622.86  | -696.35     | -544.79  |\n",
       "| cbsa_encoded_30340 | $\\beta_{207}$ | -520.57  | -603.12     | -440.76  |\n",
       "| cbsa_encoded_30460 | $\\beta_{208}$ | 2407.57  | 2239.94     | 2650.38  |\n",
       "| cbsa_encoded_30620 | $\\beta_{209}$ | -458.60  | -547.26     | -380.67  |\n",
       "| cbsa_encoded_30700 | $\\beta_{210}$ | 771.50   | 652.17      | 915.59   |\n",
       "| cbsa_encoded_30780 | $\\beta_{211}$ | 3188.36  | 2949.79     | 3417.91  |\n",
       "| cbsa_encoded_30860 | $\\beta_{212}$ | -244.27  | -308.57     | -187.02  |\n",
       "| cbsa_encoded_30980 | $\\beta_{213}$ | 526.27   | 442.66      | 620.53   |\n",
       "| cbsa_encoded_31020 | $\\beta_{214}$ | -449.18  | -540.26     | -366.42  |\n",
       "| cbsa_encoded_31080 | $\\beta_{215}$ | 31957.27 | 30191.21    | 33598.17 |\n",
       "| cbsa_encoded_31140 | $\\beta_{216}$ | 5902.06  | 5417.74     | 6300.50  |\n",
       "| cbsa_encoded_31180 | $\\beta_{217}$ | 839.18   | 713.59      | 937.40   |\n",
       "| cbsa_encoded_31340 | $\\beta_{218}$ | 1124.75  | 1032.53     | 1203.88  |\n",
       "| cbsa_encoded_31420 | $\\beta_{219}$ | 498.65   | 421.16      | 575.90   |\n",
       "| cbsa_encoded_31460 | $\\beta_{220}$ | -1.33    | -64.05      | 74.35    |\n",
       "| cbsa_encoded_31540 | $\\beta_{221}$ | 2193.15  | 1994.42     | 2420.91  |\n",
       "| cbsa_encoded_31700 | $\\beta_{222}$ | 914.46   | 755.30      | 1048.19  |\n",
       "| cbsa_encoded_31740 | $\\beta_{223}$ | -382.57  | -468.95     | -308.22  |\n",
       "| cbsa_encoded_31860 | $\\beta_{224}$ | -356.01  | -425.98     | -293.88  |\n",
       "| cbsa_encoded_31900 | $\\beta_{225}$ | -524.96  | -618.02     | -425.87  |\n",
       "| cbsa_encoded_32580 | $\\beta_{226}$ | 1500.32  | 1327.22     | 1740.83  |\n",
       "| cbsa_encoded_32780 | $\\beta_{227}$ | 137.77   | 54.48       | 205.11   |\n",
       "| cbsa_encoded_32820 | $\\beta_{228}$ | 5277.22  | 4978.73     | 5675.13  |\n",
       "| cbsa_encoded_32900 | $\\beta_{229}$ | 273.44   | 172.22      | 389.81   |\n",
       "| cbsa_encoded_33100 | $\\beta_{230}$ | 65625.89 | 63842.59    | 68544.86 |\n",
       "| cbsa_encoded_33140 | $\\beta_{231}$ | -390.82  | -484.65     | -318.93  |\n",
       "| cbsa_encoded_33220 | $\\beta_{232}$ | -448.89  | -546.47     | -379.36  |\n",
       "| cbsa_encoded_33260 | $\\beta_{233}$ | -44.56   | -128.39     | 38.60    |\n",
       "| cbsa_encoded_33340 | $\\beta_{234}$ | 4823.98  | 4444.50     | 5192.72  |\n",
       "| cbsa_encoded_33460 | $\\beta_{235}$ | 18126.31 | 16783.54    | 19637.94 |\n",
       "| cbsa_encoded_33540 | $\\beta_{236}$ | -95.65   | -156.07     | -35.11   |\n",
       "| cbsa_encoded_33660 | $\\beta_{237}$ | 1067.82  | 951.08      | 1177.07  |\n",
       "| cbsa_encoded_33700 | $\\beta_{238}$ | 834.31   | 730.72      | 994.52   |\n",
       "| cbsa_encoded_33740 | $\\beta_{239}$ | -22.09   | -84.10      | 30.83    |\n",
       "| cbsa_encoded_33780 | $\\beta_{240}$ | -189.83  | -267.73     | -89.29   |\n",
       "| cbsa_encoded_33860 | $\\beta_{241}$ | 1479.63  | 1383.82     | 1555.59  |\n",
       "| cbsa_encoded_34060 | $\\beta_{242}$ | -133.65  | -216.02     | -72.22   |\n",
       "| cbsa_encoded_34100 | $\\beta_{243}$ | 213.22   | 130.96      | 302.59   |\n",
       "| cbsa_encoded_34580 | $\\beta_{244}$ | -377.24  | -451.93     | -315.24  |\n",
       "| cbsa_encoded_34620 | $\\beta_{245}$ | -399.32  | -475.89     | -333.23  |\n",
       "| cbsa_encoded_34740 | $\\beta_{246}$ | -388.77  | -481.14     | -298.38  |\n",
       "| cbsa_encoded_34820 | $\\beta_{247}$ | 10952.33 | 10332.77    | 11681.98 |\n",
       "| cbsa_encoded_34900 | $\\beta_{248}$ | -403.22  | -480.33     | -319.04  |\n",
       "| cbsa_encoded_34940 | $\\beta_{249}$ | 8303.52  | 7920.09     | 8657.00  |\n",
       "| cbsa_encoded_34980 | $\\beta_{250}$ | 10608.33 | 9227.12     | 11860.13 |\n",
       "| cbsa_encoded_35100 | $\\beta_{251}$ | 253.00   | 148.47      | 329.80   |\n",
       "| cbsa_encoded_35300 | $\\beta_{252}$ | 3757.07  | 3472.50     | 4049.77  |\n",
       "| cbsa_encoded_35380 | $\\beta_{253}$ | 5926.05  | 5697.25     | 6143.82  |\n",
       "| cbsa_encoded_35620 | $\\beta_{254}$ | 90753.57 | 87779.83    | 95290.34 |\n",
       "| cbsa_encoded_35660 | $\\beta_{255}$ | 80.25    | -41.12      | 196.22   |\n",
       "| cbsa_encoded_35840 | $\\beta_{256}$ | 10421.78 | 9758.91     | 11253.09 |\n",
       "| cbsa_encoded_35980 | $\\beta_{257}$ | 829.17   | 720.72      | 932.29   |\n",
       "| cbsa_encoded_36100 | $\\beta_{258}$ | 2677.10  | 2336.56     | 2965.53  |\n",
       "| cbsa_encoded_36140 | $\\beta_{259}$ | 1913.62  | 1676.91     | 2108.12  |\n",
       "| cbsa_encoded_36220 | $\\beta_{260}$ | -295.55  | -394.57     | -217.61  |\n",
       "| cbsa_encoded_36260 | $\\beta_{261}$ | 2327.74  | 2097.26     | 2690.31  |\n",
       "| cbsa_encoded_36420 | $\\beta_{262}$ | 5515.40  | 5129.78     | 5906.93  |\n",
       "| cbsa_encoded_36500 | $\\beta_{263}$ | 49.98    | -48.27      | 160.57   |\n",
       "| cbsa_encoded_36540 | $\\beta_{264}$ | 3887.10  | 3390.79     | 4293.32  |\n",
       "| cbsa_encoded_36740 | $\\beta_{265}$ | 17771.12 | 16188.46    | 19168.76 |\n",
       "| cbsa_encoded_36780 | $\\beta_{266}$ | -122.11  | -190.13     | -57.77   |\n",
       "| cbsa_encoded_36980 | $\\beta_{267}$ | -404.67  | -471.19     | -339.10  |\n",
       "| cbsa_encoded_37100 | $\\beta_{268}$ | 2107.86  | 1969.19     | 2288.38  |\n",
       "| cbsa_encoded_37340 | $\\beta_{269}$ | 4491.61  | 4275.17     | 4860.62  |\n",
       "| cbsa_encoded_37460 | $\\beta_{270}$ | 1685.20  | 1555.78     | 1801.40  |\n",
       "| cbsa_encoded_37620 | $\\beta_{271}$ | -511.09  | -597.45     | -441.80  |\n",
       "| cbsa_encoded_37860 | $\\beta_{272}$ | 2071.52  | 1878.24     | 2263.84  |\n",
       "| cbsa_encoded_37900 | $\\beta_{273}$ | 1939.20  | 1786.74     | 2080.54  |\n",
       "| cbsa_encoded_37980 | $\\beta_{274}$ | 28955.93 | 26394.14    | 31936.78 |\n",
       "| cbsa_encoded_38060 | $\\beta_{275}$ | 25247.83 | 23228.72    | 27863.93 |\n",
       "| cbsa_encoded_38220 | $\\beta_{276}$ | -651.51  | -734.46     | -571.70  |\n",
       "| cbsa_encoded_38300 | $\\beta_{277}$ | 11769.16 | 11107.91    | 12518.05 |\n",
       "| cbsa_encoded_38340 | $\\beta_{278}$ | 426.89   | 344.87      | 534.66   |\n",
       "| cbsa_encoded_38540 | $\\beta_{279}$ | -491.47  | -563.08     | -407.14  |\n",
       "| cbsa_encoded_38860 | $\\beta_{280}$ | 2319.06  | 2143.16     | 2584.01  |\n",
       "| cbsa_encoded_38900 | $\\beta_{281}$ | 8059.25  | 7030.04     | 8999.12  |\n",
       "| cbsa_encoded_38940 | $\\beta_{282}$ | 5038.90  | 4736.56     | 5376.51  |\n",
       "| cbsa_encoded_39140 | $\\beta_{283}$ | 1667.42  | 1525.01     | 1867.58  |\n",
       "| cbsa_encoded_39300 | $\\beta_{284}$ | 6018.43  | 5526.57     | 6488.58  |\n",
       "| cbsa_encoded_39340 | $\\beta_{285}$ | 3489.74  | 3140.94     | 3930.01  |\n",
       "| cbsa_encoded_39380 | $\\beta_{286}$ | -310.18  | -386.53     | -239.19  |\n",
       "| cbsa_encoded_39460 | $\\beta_{287}$ | 2279.78  | 2161.45     | 2435.74  |\n",
       "| cbsa_encoded_39540 | $\\beta_{288}$ | -27.04   | -120.44     | 57.68    |\n",
       "| cbsa_encoded_39580 | $\\beta_{289}$ | 7114.44  | 6332.99     | 8116.69  |\n",
       "| cbsa_encoded_39660 | $\\beta_{290}$ | 167.39   | 106.57      | 219.77   |\n",
       "| cbsa_encoded_39740 | $\\beta_{291}$ | 865.96   | 665.22      | 1095.52  |\n",
       "| cbsa_encoded_39820 | $\\beta_{292}$ | -186.14  | -255.07     | -117.68  |\n",
       "| cbsa_encoded_39900 | $\\beta_{293}$ | 2059.02  | 1841.02     | 2296.76  |\n",
       "| cbsa_encoded_40060 | $\\beta_{294}$ | 7443.52  | 6785.41     | 8145.10  |\n",
       "| cbsa_encoded_40140 | $\\beta_{295}$ | 21287.80 | 20230.55    | 22284.43 |\n",
       "| cbsa_encoded_40220 | $\\beta_{296}$ | 918.05   | 842.36      | 995.28   |\n",
       "| cbsa_encoded_40340 | $\\beta_{297}$ | 412.78   | 339.69      | 492.38   |\n",
       "| cbsa_encoded_40380 | $\\beta_{298}$ | 1905.30  | 1713.24     | 2133.05  |\n",
       "| cbsa_encoded_40420 | $\\beta_{299}$ | 1215.59  | 1112.36     | 1342.48  |\n",
       "| cbsa_encoded_40580 | $\\beta_{300}$ | -168.18  | -259.05     | -101.84  |\n",
       "| cbsa_encoded_40660 | $\\beta_{301}$ | -247.64  | -329.67     | -177.68  |\n",
       "| cbsa_encoded_40900 | $\\beta_{302}$ | 8809.08  | 8195.57     | 9514.47  |\n",
       "| cbsa_encoded_40980 | $\\beta_{303}$ | -77.05   | -146.75     | -12.43   |\n",
       "| cbsa_encoded_41060 | $\\beta_{304}$ | 182.12   | 91.23       | 267.95   |\n",
       "| cbsa_encoded_41100 | $\\beta_{305}$ | 972.42   | 845.00      | 1113.42  |\n",
       "| cbsa_encoded_41140 | $\\beta_{306}$ | -272.31  | -373.60     | -195.91  |\n",
       "| cbsa_encoded_41180 | $\\beta_{307}$ | 14825.78 | 14048.41    | 15843.27 |\n",
       "| cbsa_encoded_41420 | $\\beta_{308}$ | 1289.65  | 1170.39     | 1414.01  |\n",
       "| cbsa_encoded_41500 | $\\beta_{309}$ | 253.85   | 175.98      | 339.76   |\n",
       "| cbsa_encoded_41540 | $\\beta_{310}$ | 4606.85  | 4210.24     | 4997.50  |\n",
       "| cbsa_encoded_41620 | $\\beta_{311}$ | 5268.85  | 4586.80     | 6011.95  |\n",
       "| cbsa_encoded_41660 | $\\beta_{312}$ | -323.17  | -391.61     | -246.14  |\n",
       "| cbsa_encoded_41700 | $\\beta_{313}$ | 15070.95 | 14145.54    | 16214.69 |\n",
       "| cbsa_encoded_41740 | $\\beta_{314}$ | 7212.88  | 6590.88     | 7914.00  |\n",
       "| cbsa_encoded_41860 | $\\beta_{315}$ | 9651.49  | 8615.92     | 10646.72 |\n",
       "| cbsa_encoded_41940 | $\\beta_{316}$ | 2699.27  | 2339.89     | 3125.08  |\n",
       "| cbsa_encoded_42020 | $\\beta_{317}$ | 363.91   | 283.53      | 442.55   |\n",
       "| cbsa_encoded_42100 | $\\beta_{318}$ | -192.40  | -280.76     | -108.26  |\n",
       "| cbsa_encoded_42140 | $\\beta_{319}$ | 329.09   | 231.78      | 415.47   |\n",
       "| cbsa_encoded_42200 | $\\beta_{320}$ | 753.12   | 682.03      | 829.85   |\n",
       "| cbsa_encoded_42220 | $\\beta_{321}$ | 440.97   | 348.55      | 535.68   |\n",
       "| cbsa_encoded_42340 | $\\beta_{322}$ | 3190.94  | 3002.87     | 3427.03  |\n",
       "| cbsa_encoded_42540 | $\\beta_{323}$ | 1801.97  | 1615.66     | 1954.35  |\n",
       "| cbsa_encoded_42660 | $\\beta_{324}$ | 10371.18 | 9079.53     | 12181.42 |\n",
       "| cbsa_encoded_42680 | $\\beta_{325}$ | 1717.46  | 1606.90     | 1830.54  |\n",
       "| cbsa_encoded_42700 | $\\beta_{326}$ | -39.28   | -116.92     | 50.69    |\n",
       "| cbsa_encoded_43100 | $\\beta_{327}$ | -415.39  | -479.88     | -351.73  |\n",
       "| cbsa_encoded_43300 | $\\beta_{328}$ | -22.46   | -87.55      | 43.28    |\n",
       "| cbsa_encoded_43340 | $\\beta_{329}$ | 1432.08  | 1326.20     | 1592.17  |\n",
       "| cbsa_encoded_43420 | $\\beta_{330}$ | -57.91   | -136.44     | 12.43    |\n",
       "| cbsa_encoded_43580 | $\\beta_{331}$ | -394.72  | -458.08     | -337.93  |\n",
       "| cbsa_encoded_43620 | $\\beta_{332}$ | 592.82   | 453.64      | 782.23   |\n",
       "| cbsa_encoded_43780 | $\\beta_{333}$ | 244.73   | 157.72      | 316.79   |\n",
       "| cbsa_encoded_43900 | $\\beta_{334}$ | 2011.80  | 1865.26     | 2174.05  |\n",
       "| cbsa_encoded_44060 | $\\beta_{335}$ | 2668.29  | 2380.04     | 3028.18  |\n",
       "| cbsa_encoded_44100 | $\\beta_{336}$ | 500.59   | 318.38      | 654.67   |\n",
       "| cbsa_encoded_44140 | $\\beta_{337}$ | 852.83   | 756.08      | 960.33   |\n",
       "| cbsa_encoded_44180 | $\\beta_{338}$ | 1964.16  | 1807.93     | 2112.13  |\n",
       "| cbsa_encoded_44220 | $\\beta_{339}$ | -74.13   | -162.43     | 24.32    |\n",
       "| cbsa_encoded_44300 | $\\beta_{340}$ | -385.01  | -458.48     | -310.25  |\n",
       "| cbsa_encoded_44420 | $\\beta_{341}$ | -105.92  | -181.65     | -16.67   |\n",
       "| cbsa_encoded_44700 | $\\beta_{342}$ | 1835.53  | 1666.31     | 2058.91  |\n",
       "| cbsa_encoded_44940 | $\\beta_{343}$ | -224.03  | -302.83     | -140.94  |\n",
       "| cbsa_encoded_45060 | $\\beta_{344}$ | 1867.23  | 1709.74     | 2041.27  |\n",
       "| cbsa_encoded_45220 | $\\beta_{345}$ | 1419.51  | 1305.39     | 1573.26  |\n",
       "| cbsa_encoded_45300 | $\\beta_{346}$ | 24310.56 | 22734.35    | 26094.15 |\n",
       "| cbsa_encoded_45460 | $\\beta_{347}$ | -195.57  | -282.97     | -121.72  |\n",
       "| cbsa_encoded_45500 | $\\beta_{348}$ | -365.35  | -450.17     | -284.18  |\n",
       "| cbsa_encoded_45540 | $\\beta_{349}$ | 81.59    | -29.36      | 176.72   |\n",
       "| cbsa_encoded_45780 | $\\beta_{350}$ | 1662.34  | 1484.51     | 1826.81  |\n",
       "| cbsa_encoded_45820 | $\\beta_{351}$ | -153.15  | -228.65     | -84.17   |\n",
       "| cbsa_encoded_45940 | $\\beta_{352}$ | 1220.36  | 1082.61     | 1395.80  |\n",
       "| cbsa_encoded_46060 | $\\beta_{353}$ | 5242.93  | 4884.29     | 5600.70  |\n",
       "| cbsa_encoded_46140 | $\\beta_{354}$ | 4738.68  | 4450.60     | 5044.62  |\n",
       "| cbsa_encoded_46220 | $\\beta_{355}$ | 374.98   | 285.91      | 462.83   |\n",
       "| cbsa_encoded_46300 | $\\beta_{356}$ | -371.58  | -509.94     | -259.07  |\n",
       "| cbsa_encoded_46340 | $\\beta_{357}$ | 735.25   | 661.00      | 821.58   |\n",
       "| cbsa_encoded_46520 | $\\beta_{358}$ | 2189.93  | 2035.68     | 2408.05  |\n",
       "| cbsa_encoded_46540 | $\\beta_{359}$ | 434.81   | 332.39      | 543.16   |\n",
       "| cbsa_encoded_46660 | $\\beta_{360}$ | -45.99   | -111.34     | 21.26    |\n",
       "| cbsa_encoded_46700 | $\\beta_{361}$ | 172.09   | 92.56       | 262.97   |\n",
       "| cbsa_encoded_47020 | $\\beta_{362}$ | -482.85  | -565.68     | -398.48  |\n",
       "| cbsa_encoded_47220 | $\\beta_{363}$ | 253.06   | 131.38      | 352.60   |\n",
       "| cbsa_encoded_47260 | $\\beta_{364}$ | 10409.20 | 9818.63     | 11123.22 |\n",
       "| cbsa_encoded_47300 | $\\beta_{365}$ | 848.84   | 745.96      | 976.52   |\n",
       "| cbsa_encoded_47380 | $\\beta_{366}$ | 160.23   | 43.88       | 282.11   |\n",
       "| cbsa_encoded_47460 | $\\beta_{367}$ | -646.56  | -719.38     | -558.68  |\n",
       "| cbsa_encoded_47580 | $\\beta_{368}$ | 596.17   | 519.47      | 691.86   |\n",
       "| cbsa_encoded_47900 | $\\beta_{369}$ | 21826.24 | 20253.58    | 23682.38 |\n",
       "| cbsa_encoded_47940 | $\\beta_{370}$ | -72.50   | -153.99     | -11.58   |\n",
       "| cbsa_encoded_48060 | $\\beta_{371}$ | 250.07   | 131.59      | 359.34   |\n",
       "| cbsa_encoded_48140 | $\\beta_{372}$ | -308.07  | -363.47     | -251.19  |\n",
       "| cbsa_encoded_48260 | $\\beta_{373}$ | -390.88  | -482.06     | -318.62  |\n",
       "| cbsa_encoded_48300 | $\\beta_{374}$ | -332.41  | -402.17     | -259.63  |\n",
       "| cbsa_encoded_48540 | $\\beta_{375}$ | -330.92  | -424.99     | -246.03  |\n",
       "| cbsa_encoded_48620 | $\\beta_{376}$ | 1505.50  | 1386.61     | 1636.21  |\n",
       "| cbsa_encoded_48660 | $\\beta_{377}$ | -361.04  | -446.51     | -290.92  |\n",
       "| cbsa_encoded_48700 | $\\beta_{378}$ | -399.11  | -474.93     | -325.57  |\n",
       "| cbsa_encoded_48900 | $\\beta_{379}$ | 2326.33  | 2173.34     | 2504.05  |\n",
       "| cbsa_encoded_49020 | $\\beta_{380}$ | -81.76   | -149.73     | -16.02   |\n",
       "| cbsa_encoded_49180 | $\\beta_{381}$ | 2308.58  | 2099.07     | 2529.18  |\n",
       "| cbsa_encoded_49340 | $\\beta_{382}$ | 2052.31  | 1893.64     | 2249.13  |\n",
       "| cbsa_encoded_49420 | $\\beta_{383}$ | -242.88  | -307.31     | -174.39  |\n",
       "| cbsa_encoded_49620 | $\\beta_{384}$ | 970.75   | 845.59      | 1110.45  |\n",
       "| cbsa_encoded_49660 | $\\beta_{385}$ | 1732.74  | 1611.03     | 1879.26  |\n",
       "| cbsa_encoded_49700 | $\\beta_{386}$ | -49.65   | -145.07     | 47.58    |\n",
       "|                    |               |          |             |          |\n",
       "| **Metrics**        | **Mean**      | **Lo**   | **Hi**      |          |\n",
       "| $\\sigma$           | 1488.35       | 1356.33  | 1594.78     |          |\n",
       "| $R^2$              | 0.97          | 0.96     | 0.97        |          |"
      ],
      "text/plain": [
       "<__main__.ResultsWrapper at 0x7febf88840a0>"
      ]
     },
     "execution_count": 10,
     "metadata": {},
     "output_type": "execute_result"
    }
   ],
   "source": [
    "model1 = 'housing_inventory ~ housing_permits + mortgage_rate + credit+ prime_rate +'+cbsa_cols\n",
    "result1 = bootstrap_linear_regression(formula=model1, data = df)\n",
    "describe_bootstrap_lr(result1)"
   ]
  },
  {
   "cell_type": "markdown",
   "metadata": {
    "pycharm": {
     "name": "#%% md\n"
    }
   },
   "source": [
    "Our mean error was just 1488.35, a substantial improvement from 8178.64 in our null model. Moreover, the $R^2$ is already an astoundingly good 97%! Only downside... this is a _very_ precise model that functionally requires the population of very sparse matrix.  Let's take a different route where we instead generalize without the `cbsa code` in the model generation process at all."
   ]
  },
  {
   "cell_type": "markdown",
   "metadata": {
    "pycharm": {
     "name": "#%% md\n"
    }
   },
   "source": [
    "## 3.1b Linear Model Development\n",
    "\n",
    "Let's try again without the `cbsa codes`."
   ]
  },
  {
   "cell_type": "code",
   "execution_count": 11,
   "metadata": {
    "pycharm": {
     "name": "#%%\n"
    }
   },
   "outputs": [],
   "source": [
    "df = df.drop(df.filter(regex='cbsa_encoded*').columns, axis=1)"
   ]
  },
  {
   "cell_type": "code",
   "execution_count": 12,
   "metadata": {
    "pycharm": {
     "name": "#%%\n"
    }
   },
   "outputs": [
    {
     "data": {
      "text/html": [
       "<p><strong>Model: housing_inventory ~ housing_permits + mortgage_rate + credit + prime_rate</strong><br/><table>\n",
       "<tbody>\n",
       "<tr><td>                             </td><td>                     </td><td>                     </td><td><strong>95% BCI</strong</td><td>                   </td></tr>\n",
       "<tr><td><strong>Coefficients</strong</td><td>                     </td><td><strong>Mean</strong</td><td><strong>Lo</strong     </td><td><strong>Hi</strong</td></tr>\n",
       "<tr><td>                             </td><td>$\\beta_{0}$          </td><td>3970.72              </td><td>1636.45                 </td><td>6452.49            </td></tr>\n",
       "<tr><td>housing_permits              </td><td>$\\beta_{1}$          </td><td>10.36                </td><td>9.88                    </td><td>10.78              </td></tr>\n",
       "<tr><td>mortgage_rate                </td><td>$\\beta_{2}$          </td><td>272.94               </td><td>13.50                   </td><td>510.38             </td></tr>\n",
       "<tr><td>credit                       </td><td>$\\beta_{3}$          </td><td>-0.01                </td><td>-0.01                   </td><td>-0.00              </td></tr>\n",
       "<tr><td>prime_rate                   </td><td>$\\beta_{4}$          </td><td>181.88               </td><td>-47.41                  </td><td>396.99             </td></tr>\n",
       "<tr><td>                             </td><td>                     </td><td>                     </td><td>                        </td><td>                   </td></tr>\n",
       "<tr><td><strong>Metrics</strong     </td><td><strong>Mean</strong</td><td><strong>Lo</strong  </td><td><strong>Hi</strong     </td><td>                   </td></tr>\n",
       "<tr><td>$\\sigma$                     </td><td>5194.67              </td><td>4972.08              </td><td>5437.71                 </td><td>                   </td></tr>\n",
       "<tr><td>$R^2$                        </td><td>0.60                 </td><td>0.58                 </td><td>0.62                    </td><td>                   </td></tr>\n",
       "</tbody>\n",
       "</table></p>"
      ],
      "text/latex": [
       "\\textbf{Model: housing\\_inventory $\\sim$ housing\\_permits + mortgage\\_rate + credit + prime\\_rate}\n",
       "\n",
       "\\begin{tabular}{lllll}\n",
       "\\toprule\n",
       "                       &               &               & \\textbf{95\\% BCI} &             \\\\\n",
       " \\textbf{Coefficients} &               & \\textbf{Mean} & \\textbf{Lo}      & \\textbf{Hi} \\\\\n",
       "                       & $\\beta_{0}$   & 3970.72       & 1636.45          & 6452.49     \\\\\n",
       " housing\\_permits      & $\\beta_{1}$   & 10.36         & 9.88             & 10.78       \\\\\n",
       " mortgage\\_rate        & $\\beta_{2}$   & 272.94        & 13.50            & 510.38      \\\\\n",
       " credit                & $\\beta_{3}$   & -0.01         & -0.01            & -0.00       \\\\\n",
       " prime\\_rate           & $\\beta_{4}$   & 181.88        & -47.41           & 396.99      \\\\\n",
       "                       &               &               &                  &             \\\\\n",
       " \\textbf{Metrics}      & \\textbf{Mean} & \\textbf{Lo}   & \\textbf{Hi}      &             \\\\\n",
       " $\\sigma$              & 5194.67       & 4972.08       & 5437.71          &             \\\\\n",
       " $R^2$                 & 0.60          & 0.58          & 0.62             &             \\\\\n",
       "\\bottomrule\n",
       "\\end{tabular}"
      ],
      "text/markdown": [
       "Model: housing_inventory ~ housing_permits + mortgage_rate + credit + prime_rate\n",
       "|------------------|-------------|----------|-------------|---------|\n",
       "|                  |             |          | **95% BCI** |         |\n",
       "| **Coefficients** |             | **Mean** | **Lo**      | **Hi**  |\n",
       "|                  | $\\beta_{0}$ | 3970.72  | 1636.45     | 6452.49 |\n",
       "| housing_permits  | $\\beta_{1}$ | 10.36    | 9.88        | 10.78   |\n",
       "| mortgage_rate    | $\\beta_{2}$ | 272.94   | 13.50       | 510.38  |\n",
       "| credit           | $\\beta_{3}$ | -0.01    | -0.01       | -0.00   |\n",
       "| prime_rate       | $\\beta_{4}$ | 181.88   | -47.41      | 396.99  |\n",
       "|                  |             |          |             |         |\n",
       "| **Metrics**      | **Mean**    | **Lo**   | **Hi**      |         |\n",
       "| $\\sigma$         | 5194.67     | 4972.08  | 5437.71     |         |\n",
       "| $R^2$            | 0.60        | 0.58     | 0.62        |         |"
      ],
      "text/plain": [
       "<__main__.ResultsWrapper at 0x7febe8cbaa60>"
      ]
     },
     "execution_count": 12,
     "metadata": {},
     "output_type": "execute_result"
    }
   ],
   "source": [
    "model2 = 'housing_inventory ~ housing_permits + mortgage_rate + credit + prime_rate'\n",
    "result2 = bootstrap_linear_regression(formula=model2, data = df)\n",
    "describe_bootstrap_lr(result2)"
   ]
  },
  {
   "cell_type": "markdown",
   "metadata": {
    "pycharm": {
     "name": "#%% md\n"
    }
   },
   "source": [
    "Ok, our mean error isn't a good as the first model, 5194.67 vs. 1488.35, but it is still far better than our null model's error of 81878.64. Our coefficient of determination, $R^2$ took a big hit, though, at 0.60 vs. 0.97. This model is far easier to use, though.  This said, let's work to improve that $R^2$."
   ]
  },
  {
   "cell_type": "markdown",
   "metadata": {},
   "source": [
    "**Coefficient Analysis**\n",
    "\n",
    "Given that our CLD is focused just on `housing permits`, `mortgage rates`, `credit`, and `prime rate`, let's focus on those first. Let's bring the Gelman table up for reference:\n",
    "![Gelman table](images/Rule%20of%20Thumb%20examining%20coefficients%20and%20credible%20bounds.jpeg)\n",
    "\n",
    "For `housing permits` was expected to be positive, and it had strong evidence supporting this. We will retain `housing permits` accordingly. `mortgage rate` as well, was expected to be positive, and it was positive with strong supporting evidence. Let's retain in as well. `credit` was expected to be negative and was negative; however, the evidence was very weak and it did include zero. Following Gelman's advice, though; let's retain the `credit` variable. Lastly, for `prime_rate`, we expected it to be positive, and it was positive; however, the data was mixed in the support for this. Following guidance, though, let's retain `prime_rate` as well.\n",
    "\n",
    "\n",
    "**Residual Analysis**\n",
    "\n",
    "Given the CLD analysis indicated we should retain all the variables, let's look at the residuals to see if any trends present that we can leverage to improve the model."
   ]
  },
  {
   "cell_type": "code",
   "execution_count": 13,
   "metadata": {
    "pycharm": {
     "name": "#%%\n"
    }
   },
   "outputs": [
    {
     "data": {
      "image/png": "[encoded data removed]",
      "text/plain": [
       "<Figure size 1440x576 with 4 Axes>"
      ]
     },
     "metadata": {},
     "output_type": "display_data"
    }
   ],
   "source": [
    "residuals2 = plot_residuals(data = df, result = result2, variables= ['housing_permits', 'mortgage_rate', 'credit', 'prime_rate'])"
   ]
  },
  {
   "cell_type": "markdown",
   "metadata": {
    "pycharm": {
     "name": "#%% md\n"
    }
   },
   "source": [
    "`housing_permits` doesn't look so great. While it is symmetric, the distinctive cone of heteroscedasticity is present. This means that there is a substantial variance for `housing_permits` with respect to the housing inventory. A more in-depth approach like _weighted-least squares_ might be an appropriate remedy for future analyis, but let's leave it as-is for this analysis.[1] `mortgage_rate`, `credit`, and `prime_rate` all have similar shapes and some tendencies toward symmetry. We say \"tendencies toward symmetry\" as all three variables have higher positive residual maximums but have denser negative residuals across their respective domains. At a minimum, let's try adding some interaction terms to see if that might capture correlations. From domain knowledge, we clearly anticipate a strong correlation between the prime-rate and the mortgage rate, but the residual plots indicate we should also include `credit` when we look at variable interactions.\n",
    "\n"
   ]
  },
  {
   "cell_type": "markdown",
   "metadata": {
    "pycharm": {
     "name": "#%% md\n"
    }
   },
   "source": [
    "## 3.1c Linear Model Development\n",
    "\n",
    "Let's try adding a single interaction term between the `mortgage_rate` and `prime_rate`."
   ]
  },
  {
   "cell_type": "code",
   "execution_count": 14,
   "metadata": {
    "pycharm": {
     "name": "#%%\n"
    }
   },
   "outputs": [
    {
     "data": {
      "text/html": [
       "<p><strong>Model: housing_inventory ~ housing_permits + mortgage_rate + credit + prime_rate + mortgage_rate:prime_rate</strong><br/><table>\n",
       "<tbody>\n",
       "<tr><td>                             </td><td>                     </td><td>                     </td><td><strong>95% BCI</strong</td><td>                   </td></tr>\n",
       "<tr><td><strong>Coefficients</strong</td><td>                     </td><td><strong>Mean</strong</td><td><strong>Lo</strong     </td><td><strong>Hi</strong</td></tr>\n",
       "<tr><td>                             </td><td>$\\beta_{0}$          </td><td>-4382.77             </td><td>-7902.39                </td><td>-796.66            </td></tr>\n",
       "<tr><td>housing_permits              </td><td>$\\beta_{1}$          </td><td>10.37                </td><td>9.88                    </td><td>10.78              </td></tr>\n",
       "<tr><td>mortgage_rate                </td><td>$\\beta_{2}$          </td><td>2755.35              </td><td>1970.00                 </td><td>3509.73            </td></tr>\n",
       "<tr><td>credit                       </td><td>$\\beta_{3}$          </td><td>-0.01                </td><td>-0.01                   </td><td>-0.00              </td></tr>\n",
       "<tr><td>prime_rate                   </td><td>$\\beta_{4}$          </td><td>2998.07              </td><td>2260.17                 </td><td>3886.65            </td></tr>\n",
       "<tr><td>mortgage_rate:prime_rate     </td><td>$\\beta_{5}$          </td><td>-700.03              </td><td>-899.68                 </td><td>-518.47            </td></tr>\n",
       "<tr><td>                             </td><td>                     </td><td>                     </td><td>                        </td><td>                   </td></tr>\n",
       "<tr><td><strong>Metrics</strong     </td><td><strong>Mean</strong</td><td><strong>Lo</strong  </td><td><strong>Hi</strong     </td><td>                   </td></tr>\n",
       "<tr><td>$\\sigma$                     </td><td>5190.89              </td><td>4909.37              </td><td>5504.70                 </td><td>                   </td></tr>\n",
       "<tr><td>$R^2$                        </td><td>0.60                 </td><td>0.58                 </td><td>0.62                    </td><td>                   </td></tr>\n",
       "</tbody>\n",
       "</table></p>"
      ],
      "text/latex": [
       "\\textbf{Model: housing\\_inventory $\\sim$ housing\\_permits + mortgage\\_rate + credit + prime\\_rate + mortgage\\_rate:prime\\_rate}\n",
       "\n",
       "\\begin{tabular}{lllll}\n",
       "\\toprule\n",
       "                            &               &               & \\textbf{95\\% BCI} &             \\\\\n",
       " \\textbf{Coefficients}      &               & \\textbf{Mean} & \\textbf{Lo}      & \\textbf{Hi} \\\\\n",
       "                            & $\\beta_{0}$   & -4382.77      & -7902.39         & -796.66     \\\\\n",
       " housing\\_permits           & $\\beta_{1}$   & 10.37         & 9.88             & 10.78       \\\\\n",
       " mortgage\\_rate             & $\\beta_{2}$   & 2755.35       & 1970.00          & 3509.73     \\\\\n",
       " credit                     & $\\beta_{3}$   & -0.01         & -0.01            & -0.00       \\\\\n",
       " prime\\_rate                & $\\beta_{4}$   & 2998.07       & 2260.17          & 3886.65     \\\\\n",
       " mortgage\\_rate:prime\\_rate & $\\beta_{5}$   & -700.03       & -899.68          & -518.47     \\\\\n",
       "                            &               &               &                  &             \\\\\n",
       " \\textbf{Metrics}           & \\textbf{Mean} & \\textbf{Lo}   & \\textbf{Hi}      &             \\\\\n",
       " $\\sigma$                   & 5190.89       & 4909.37       & 5504.70          &             \\\\\n",
       " $R^2$                      & 0.60          & 0.58          & 0.62             &             \\\\\n",
       "\\bottomrule\n",
       "\\end{tabular}"
      ],
      "text/markdown": [
       "Model: housing_inventory ~ housing_permits + mortgage_rate + credit + prime_rate + mortgage_rate:prime_rate\n",
       "|--------------------------|-------------|----------|-------------|---------|\n",
       "|                          |             |          | **95% BCI** |         |\n",
       "| **Coefficients**         |             | **Mean** | **Lo**      | **Hi**  |\n",
       "|                          | $\\beta_{0}$ | -4382.77 | -7902.39    | -796.66 |\n",
       "| housing_permits          | $\\beta_{1}$ | 10.37    | 9.88        | 10.78   |\n",
       "| mortgage_rate            | $\\beta_{2}$ | 2755.35  | 1970.00     | 3509.73 |\n",
       "| credit                   | $\\beta_{3}$ | -0.01    | -0.01       | -0.00   |\n",
       "| prime_rate               | $\\beta_{4}$ | 2998.07  | 2260.17     | 3886.65 |\n",
       "| mortgage_rate:prime_rate | $\\beta_{5}$ | -700.03  | -899.68     | -518.47 |\n",
       "|                          |             |          |             |         |\n",
       "| **Metrics**              | **Mean**    | **Lo**   | **Hi**      |         |\n",
       "| $\\sigma$                 | 5190.89     | 4909.37  | 5504.70     |         |\n",
       "| $R^2$                    | 0.60        | 0.58     | 0.62        |         |"
      ],
      "text/plain": [
       "<__main__.ResultsWrapper at 0x7febf87901f0>"
      ]
     },
     "execution_count": 14,
     "metadata": {},
     "output_type": "execute_result"
    }
   ],
   "source": [
    "model3 = 'housing_inventory ~ housing_permits + mortgage_rate + credit + prime_rate + mortgage_rate:prime_rate'\n",
    "result3 = bootstrap_linear_regression(formula=model3, data = df)\n",
    "describe_bootstrap_lr(result3)"
   ]
  },
  {
   "cell_type": "markdown",
   "metadata": {
    "pycharm": {
     "name": "#%% md\n"
    }
   },
   "source": [
    "Including the interaction term between `mortgage_rate` and `prime_rate` lowered the error minutely, from 5194 from 5190, but the $R^2$ stayed the same at 0.60. Let's try adding in seperate interaction terms for `mortgage_rate` and `credit`, `prime_rate` and `credit`, and one for all three."
   ]
  },
  {
   "cell_type": "markdown",
   "metadata": {
    "pycharm": {
     "name": "#%% md\n"
    }
   },
   "source": [
    "## 3.1d Linear Model Development"
   ]
  },
  {
   "cell_type": "code",
   "execution_count": 15,
   "metadata": {
    "pycharm": {
     "name": "#%%\n"
    }
   },
   "outputs": [
    {
     "data": {
      "text/html": [
       "<p><strong>Model: housing_inventory ~ housing_permits + mortgage_rate + credit + prime_rate + mortgage_rate:prime_rate + mortgage_rate:credit + prime_rate:credit + mortgage_rate:prime_rate:credit</strong><br/><table>\n",
       "<tbody>\n",
       "<tr><td>                               </td><td>                     </td><td>                     </td><td><strong>95% BCI</strong</td><td>                   </td></tr>\n",
       "<tr><td><strong>Coefficients</strong  </td><td>                     </td><td><strong>Mean</strong</td><td><strong>Lo</strong     </td><td><strong>Hi</strong</td></tr>\n",
       "<tr><td>                               </td><td>$\\beta_{0}$          </td><td>79342.25             </td><td>-187276.81              </td><td>342173.65          </td></tr>\n",
       "<tr><td>housing_permits                </td><td>$\\beta_{1}$          </td><td>10.37                </td><td>9.91                    </td><td>10.86              </td></tr>\n",
       "<tr><td>mortgage_rate                  </td><td>$\\beta_{2}$          </td><td>-29330.08            </td><td>-97957.64               </td><td>42073.12           </td></tr>\n",
       "<tr><td>credit                         </td><td>$\\beta_{3}$          </td><td>-0.11                </td><td>-0.38                   </td><td>0.16               </td></tr>\n",
       "<tr><td>prime_rate                     </td><td>$\\beta_{4}$          </td><td>17737.31             </td><td>-53241.71               </td><td>81149.67           </td></tr>\n",
       "<tr><td>mortgage_rate:prime_rate       </td><td>$\\beta_{5}$          </td><td>-2339.83             </td><td>-19345.97               </td><td>15551.62           </td></tr>\n",
       "<tr><td>mortgage_rate:credit           </td><td>$\\beta_{6}$          </td><td>0.04                 </td><td>-0.03                   </td><td>0.11               </td></tr>\n",
       "<tr><td>prime_rate:credit              </td><td>$\\beta_{7}$          </td><td>-0.01                </td><td>-0.07                   </td><td>0.06               </td></tr>\n",
       "<tr><td>mortgage_rate:prime_rate:credit</td><td>$\\beta_{8}$          </td><td>0.00                 </td><td>-0.02                   </td><td>0.02               </td></tr>\n",
       "<tr><td>                               </td><td>                     </td><td>                     </td><td>                        </td><td>                   </td></tr>\n",
       "<tr><td><strong>Metrics</strong       </td><td><strong>Mean</strong</td><td><strong>Lo</strong  </td><td><strong>Hi</strong     </td><td>                   </td></tr>\n",
       "<tr><td>$\\sigma$                       </td><td>5179.79              </td><td>4911.87              </td><td>5440.55                 </td><td>                   </td></tr>\n",
       "<tr><td>$R^2$                          </td><td>0.60                 </td><td>0.58                 </td><td>0.62                    </td><td>                   </td></tr>\n",
       "</tbody>\n",
       "</table></p>"
      ],
      "text/latex": [
       "\\textbf{Model: housing\\_inventory $\\sim$ housing\\_permits + mortgage\\_rate + credit + prime\\_rate + mortgage\\_rate:prime\\_rate + mortgage\\_rate:credit + prime\\_rate:credit + mortgage\\_rate:prime\\_rate:credit}\n",
       "\n",
       "\\begin{tabular}{lllll}\n",
       "\\toprule\n",
       "                                   &               &               & \\textbf{95\\% BCI} &             \\\\\n",
       " \\textbf{Coefficients}             &               & \\textbf{Mean} & \\textbf{Lo}      & \\textbf{Hi} \\\\\n",
       "                                   & $\\beta_{0}$   & 79342.25      & -187276.81       & 342173.65   \\\\\n",
       " housing\\_permits                  & $\\beta_{1}$   & 10.37         & 9.91             & 10.86       \\\\\n",
       " mortgage\\_rate                    & $\\beta_{2}$   & -29330.08     & -97957.64        & 42073.12    \\\\\n",
       " credit                            & $\\beta_{3}$   & -0.11         & -0.38            & 0.16        \\\\\n",
       " prime\\_rate                       & $\\beta_{4}$   & 17737.31      & -53241.71        & 81149.67    \\\\\n",
       " mortgage\\_rate:prime\\_rate        & $\\beta_{5}$   & -2339.83      & -19345.97        & 15551.62    \\\\\n",
       " mortgage\\_rate:credit             & $\\beta_{6}$   & 0.04          & -0.03            & 0.11        \\\\\n",
       " prime\\_rate:credit                & $\\beta_{7}$   & -0.01         & -0.07            & 0.06        \\\\\n",
       " mortgage\\_rate:prime\\_rate:credit & $\\beta_{8}$   & 0.00          & -0.02            & 0.02        \\\\\n",
       "                                   &               &               &                  &             \\\\\n",
       " \\textbf{Metrics}                  & \\textbf{Mean} & \\textbf{Lo}   & \\textbf{Hi}      &             \\\\\n",
       " $\\sigma$                          & 5179.79       & 4911.87       & 5440.55          &             \\\\\n",
       " $R^2$                             & 0.60          & 0.58          & 0.62             &             \\\\\n",
       "\\bottomrule\n",
       "\\end{tabular}"
      ],
      "text/markdown": [
       "Model: housing_inventory ~ housing_permits + mortgage_rate + credit + prime_rate + mortgage_rate:prime_rate + mortgage_rate:credit + prime_rate:credit + mortgage_rate:prime_rate:credit\n",
       "|---------------------------------|-------------|-----------|-------------|-----------|\n",
       "|                                 |             |           | **95% BCI** |           |\n",
       "| **Coefficients**                |             | **Mean**  | **Lo**      | **Hi**    |\n",
       "|                                 | $\\beta_{0}$ | 79342.25  | -187276.81  | 342173.65 |\n",
       "| housing_permits                 | $\\beta_{1}$ | 10.37     | 9.91        | 10.86     |\n",
       "| mortgage_rate                   | $\\beta_{2}$ | -29330.08 | -97957.64   | 42073.12  |\n",
       "| credit                          | $\\beta_{3}$ | -0.11     | -0.38       | 0.16      |\n",
       "| prime_rate                      | $\\beta_{4}$ | 17737.31  | -53241.71   | 81149.67  |\n",
       "| mortgage_rate:prime_rate        | $\\beta_{5}$ | -2339.83  | -19345.97   | 15551.62  |\n",
       "| mortgage_rate:credit            | $\\beta_{6}$ | 0.04      | -0.03       | 0.11      |\n",
       "| prime_rate:credit               | $\\beta_{7}$ | -0.01     | -0.07       | 0.06      |\n",
       "| mortgage_rate:prime_rate:credit | $\\beta_{8}$ | 0.00      | -0.02       | 0.02      |\n",
       "|                                 |             |           |             |           |\n",
       "| **Metrics**                     | **Mean**    | **Lo**    | **Hi**      |           |\n",
       "| $\\sigma$                        | 5179.79     | 4911.87   | 5440.55     |           |\n",
       "| $R^2$                           | 0.60        | 0.58      | 0.62        |           |"
      ],
      "text/plain": [
       "<__main__.ResultsWrapper at 0x7febe8d49280>"
      ]
     },
     "execution_count": 15,
     "metadata": {},
     "output_type": "execute_result"
    }
   ],
   "source": [
    "model4 = 'housing_inventory ~ housing_permits + mortgage_rate + credit + prime_rate + mortgage_rate:prime_rate + mortgage_rate:credit + prime_rate:credit + mortgage_rate:prime_rate:credit'\n",
    "result4 = bootstrap_linear_regression(formula=model4, data = df)\n",
    "describe_bootstrap_lr(result4)"
   ]
  },
  {
   "cell_type": "markdown",
   "metadata": {
    "pycharm": {
     "name": "#%% md\n"
    }
   },
   "source": [
    "While our error improved again, the $R^2$ is still at 0.60. Let's double-check our residuals again."
   ]
  },
  {
   "cell_type": "code",
   "execution_count": 16,
   "metadata": {
    "pycharm": {
     "name": "#%%\n"
    }
   },
   "outputs": [
    {
     "data": {
      "image/png": "[encoded data removed]",
      "text/plain": [
       "<Figure size 1440x576 with 4 Axes>"
      ]
     },
     "metadata": {},
     "output_type": "display_data"
    }
   ],
   "source": [
    "residuals4 = plot_residuals(data = df, result = result4, variables= ['housing_permits', 'mortgage_rate', 'credit', 'prime_rate'])"
   ]
  },
  {
   "cell_type": "markdown",
   "metadata": {
    "pycharm": {
     "name": "#%% md\n"
    }
   },
   "source": [
    "The general shapes of all four residual plots is very similar as before. Although it's not theoretically ideal (WLS is a better course of action), let's try a transform on `housing_permits` to see we can improve the $R^2$"
   ]
  },
  {
   "cell_type": "markdown",
   "metadata": {
    "pycharm": {
     "name": "#%% md\n"
    }
   },
   "source": [
    "## 3.1e Linear Model Development\n",
    "\n",
    "Let's try taking the natural log of the permits to see how that affects everything."
   ]
  },
  {
   "cell_type": "code",
   "execution_count": 17,
   "metadata": {
    "pycharm": {
     "name": "#%%\n"
    }
   },
   "outputs": [
    {
     "data": {
      "text/html": [
       "<p><strong>Model: housing_inventory ~ housing_permits + mortgage_rate + credit + prime_rate + mortgage_rate:prime_rate + mortgage_rate:credit + prime_rate:credit + mortgage_rate:prime_rate:credit</strong><br/><table>\n",
       "<tbody>\n",
       "<tr><td>                               </td><td>                     </td><td>                     </td><td><strong>95% BCI</strong</td><td>                   </td></tr>\n",
       "<tr><td><strong>Coefficients</strong  </td><td>                     </td><td><strong>Mean</strong</td><td><strong>Lo</strong     </td><td><strong>Hi</strong</td></tr>\n",
       "<tr><td>                               </td><td>$\\beta_{0}$          </td><td>79342.25             </td><td>-187276.81              </td><td>342173.65          </td></tr>\n",
       "<tr><td>housing_permits                </td><td>$\\beta_{1}$          </td><td>10.37                </td><td>9.91                    </td><td>10.86              </td></tr>\n",
       "<tr><td>mortgage_rate                  </td><td>$\\beta_{2}$          </td><td>-29330.08            </td><td>-97957.64               </td><td>42073.12           </td></tr>\n",
       "<tr><td>credit                         </td><td>$\\beta_{3}$          </td><td>-0.11                </td><td>-0.38                   </td><td>0.16               </td></tr>\n",
       "<tr><td>prime_rate                     </td><td>$\\beta_{4}$          </td><td>17737.31             </td><td>-53241.71               </td><td>81149.67           </td></tr>\n",
       "<tr><td>mortgage_rate:prime_rate       </td><td>$\\beta_{5}$          </td><td>-2339.83             </td><td>-19345.97               </td><td>15551.62           </td></tr>\n",
       "<tr><td>mortgage_rate:credit           </td><td>$\\beta_{6}$          </td><td>0.04                 </td><td>-0.03                   </td><td>0.11               </td></tr>\n",
       "<tr><td>prime_rate:credit              </td><td>$\\beta_{7}$          </td><td>-0.01                </td><td>-0.07                   </td><td>0.06               </td></tr>\n",
       "<tr><td>mortgage_rate:prime_rate:credit</td><td>$\\beta_{8}$          </td><td>0.00                 </td><td>-0.02                   </td><td>0.02               </td></tr>\n",
       "<tr><td>                               </td><td>                     </td><td>                     </td><td>                        </td><td>                   </td></tr>\n",
       "<tr><td><strong>Metrics</strong       </td><td><strong>Mean</strong</td><td><strong>Lo</strong  </td><td><strong>Hi</strong     </td><td>                   </td></tr>\n",
       "<tr><td>$\\sigma$                       </td><td>5179.79              </td><td>4911.87              </td><td>5440.55                 </td><td>                   </td></tr>\n",
       "<tr><td>$R^2$                          </td><td>0.60                 </td><td>0.58                 </td><td>0.62                    </td><td>                   </td></tr>\n",
       "</tbody>\n",
       "</table></p>"
      ],
      "text/latex": [
       "\\textbf{Model: housing\\_inventory $\\sim$ housing\\_permits + mortgage\\_rate + credit + prime\\_rate + mortgage\\_rate:prime\\_rate + mortgage\\_rate:credit + prime\\_rate:credit + mortgage\\_rate:prime\\_rate:credit}\n",
       "\n",
       "\\begin{tabular}{lllll}\n",
       "\\toprule\n",
       "                                   &               &               & \\textbf{95\\% BCI} &             \\\\\n",
       " \\textbf{Coefficients}             &               & \\textbf{Mean} & \\textbf{Lo}      & \\textbf{Hi} \\\\\n",
       "                                   & $\\beta_{0}$   & 79342.25      & -187276.81       & 342173.65   \\\\\n",
       " housing\\_permits                  & $\\beta_{1}$   & 10.37         & 9.91             & 10.86       \\\\\n",
       " mortgage\\_rate                    & $\\beta_{2}$   & -29330.08     & -97957.64        & 42073.12    \\\\\n",
       " credit                            & $\\beta_{3}$   & -0.11         & -0.38            & 0.16        \\\\\n",
       " prime\\_rate                       & $\\beta_{4}$   & 17737.31      & -53241.71        & 81149.67    \\\\\n",
       " mortgage\\_rate:prime\\_rate        & $\\beta_{5}$   & -2339.83      & -19345.97        & 15551.62    \\\\\n",
       " mortgage\\_rate:credit             & $\\beta_{6}$   & 0.04          & -0.03            & 0.11        \\\\\n",
       " prime\\_rate:credit                & $\\beta_{7}$   & -0.01         & -0.07            & 0.06        \\\\\n",
       " mortgage\\_rate:prime\\_rate:credit & $\\beta_{8}$   & 0.00          & -0.02            & 0.02        \\\\\n",
       "                                   &               &               &                  &             \\\\\n",
       " \\textbf{Metrics}                  & \\textbf{Mean} & \\textbf{Lo}   & \\textbf{Hi}      &             \\\\\n",
       " $\\sigma$                          & 5179.79       & 4911.87       & 5440.55          &             \\\\\n",
       " $R^2$                             & 0.60          & 0.58          & 0.62             &             \\\\\n",
       "\\bottomrule\n",
       "\\end{tabular}"
      ],
      "text/markdown": [
       "Model: housing_inventory ~ housing_permits + mortgage_rate + credit + prime_rate + mortgage_rate:prime_rate + mortgage_rate:credit + prime_rate:credit + mortgage_rate:prime_rate:credit\n",
       "|---------------------------------|-------------|-----------|-------------|-----------|\n",
       "|                                 |             |           | **95% BCI** |           |\n",
       "| **Coefficients**                |             | **Mean**  | **Lo**      | **Hi**    |\n",
       "|                                 | $\\beta_{0}$ | 79342.25  | -187276.81  | 342173.65 |\n",
       "| housing_permits                 | $\\beta_{1}$ | 10.37     | 9.91        | 10.86     |\n",
       "| mortgage_rate                   | $\\beta_{2}$ | -29330.08 | -97957.64   | 42073.12  |\n",
       "| credit                          | $\\beta_{3}$ | -0.11     | -0.38       | 0.16      |\n",
       "| prime_rate                      | $\\beta_{4}$ | 17737.31  | -53241.71   | 81149.67  |\n",
       "| mortgage_rate:prime_rate        | $\\beta_{5}$ | -2339.83  | -19345.97   | 15551.62  |\n",
       "| mortgage_rate:credit            | $\\beta_{6}$ | 0.04      | -0.03       | 0.11      |\n",
       "| prime_rate:credit               | $\\beta_{7}$ | -0.01     | -0.07       | 0.06      |\n",
       "| mortgage_rate:prime_rate:credit | $\\beta_{8}$ | 0.00      | -0.02       | 0.02      |\n",
       "|                                 |             |           |             |           |\n",
       "| **Metrics**                     | **Mean**    | **Lo**    | **Hi**      |           |\n",
       "| $\\sigma$                        | 5179.79     | 4911.87   | 5440.55     |           |\n",
       "| $R^2$                           | 0.60        | 0.58      | 0.62        |           |"
      ],
      "text/plain": [
       "<__main__.ResultsWrapper at 0x7febe8cbad60>"
      ]
     },
     "execution_count": 17,
     "metadata": {},
     "output_type": "execute_result"
    }
   ],
   "source": [
    "df['lg_housing_permits'] = np.log(df['housing_permits'])\n",
    "model5 = 'housing_inventory ~ lg_housing_permits + mortgage_rate + credit + prime_rate + mortgage_rate:prime_rate + mortgage_rate:credit + prime_rate:credit + mortgage_rate:prime_rate:credit'\n",
    "result5 = bootstrap_linear_regression(formula=model5, data = df)\n",
    "describe_bootstrap_lr(result4)"
   ]
  },
  {
   "cell_type": "markdown",
   "metadata": {
    "pycharm": {
     "name": "#%% md\n"
    }
   },
   "source": [
    "Well this was not the direction to go at all! Our error went up dramatically, and our $R^2$ plummeted.\n",
    "\n",
    "Let's revert and try one last course of action focused on transforming credit since it has had such a low influence (looking at its coefficients) and since it is an innately country aggregate value per month that might require some transforms to better reflect its true influence."
   ]
  },
  {
   "cell_type": "markdown",
   "metadata": {
    "pycharm": {
     "name": "#%% md\n"
    }
   },
   "source": [
    "## 3.1f Linear Model Development\n",
    "\n",
    "Perhaps transforming the aggregate credit value will improve our model. Let's try it out."
   ]
  },
  {
   "cell_type": "code",
   "execution_count": 18,
   "metadata": {
    "pycharm": {
     "name": "#%%\n"
    }
   },
   "outputs": [
    {
     "data": {
      "text/html": [
       "<p><strong>Model: housing_inventory ~ lg_housing_permits + mortgage_rate + credit + prime_rate + mortgage_rate:prime_rate + mortgage_rate:credit + prime_rate:credit + mortgage_rate:prime_rate:credit</strong><br/><table>\n",
       "<tbody>\n",
       "<tr><td>                               </td><td>                     </td><td>                     </td><td><strong>95% BCI</strong</td><td>                   </td></tr>\n",
       "<tr><td><strong>Coefficients</strong  </td><td>                     </td><td><strong>Mean</strong</td><td><strong>Lo</strong     </td><td><strong>Hi</strong</td></tr>\n",
       "<tr><td>                               </td><td>$\\beta_{0}$          </td><td>65514.89             </td><td>-251657.54              </td><td>421124.90          </td></tr>\n",
       "<tr><td>lg_housing_permits             </td><td>$\\beta_{1}$          </td><td>3037.15              </td><td>2920.47                 </td><td>3196.56            </td></tr>\n",
       "<tr><td>mortgage_rate                  </td><td>$\\beta_{2}$          </td><td>-28492.75            </td><td>-123659.39              </td><td>53773.37           </td></tr>\n",
       "<tr><td>credit                         </td><td>$\\beta_{3}$          </td><td>-0.11                </td><td>-0.47                   </td><td>0.20               </td></tr>\n",
       "<tr><td>prime_rate                     </td><td>$\\beta_{4}$          </td><td>19110.65             </td><td>-74897.18               </td><td>102148.94          </td></tr>\n",
       "<tr><td>mortgage_rate:prime_rate       </td><td>$\\beta_{5}$          </td><td>-2695.80             </td><td>-24246.74               </td><td>22067.17           </td></tr>\n",
       "<tr><td>mortgage_rate:credit           </td><td>$\\beta_{6}$          </td><td>0.04                 </td><td>-0.04                   </td><td>0.13               </td></tr>\n",
       "<tr><td>prime_rate:credit              </td><td>$\\beta_{7}$          </td><td>-0.01                </td><td>-0.09                   </td><td>0.08               </td></tr>\n",
       "<tr><td>mortgage_rate:prime_rate:credit</td><td>$\\beta_{8}$          </td><td>0.00                 </td><td>-0.02                   </td><td>0.02               </td></tr>\n",
       "<tr><td>                               </td><td>                     </td><td>                     </td><td>                        </td><td>                   </td></tr>\n",
       "<tr><td><strong>Metrics</strong       </td><td><strong>Mean</strong</td><td><strong>Lo</strong  </td><td><strong>Hi</strong     </td><td>                   </td></tr>\n",
       "<tr><td>$\\sigma$                       </td><td>6770.86              </td><td>6416.06              </td><td>7196.36                 </td><td>                   </td></tr>\n",
       "<tr><td>$R^2$                          </td><td>0.31                 </td><td>0.31                 </td><td>0.33                    </td><td>                   </td></tr>\n",
       "</tbody>\n",
       "</table></p>"
      ],
      "text/latex": [
       "\\textbf{Model: housing\\_inventory $\\sim$ lg\\_housing\\_permits + mortgage\\_rate + credit + prime\\_rate + mortgage\\_rate:prime\\_rate + mortgage\\_rate:credit + prime\\_rate:credit + mortgage\\_rate:prime\\_rate:credit}\n",
       "\n",
       "\\begin{tabular}{lllll}\n",
       "\\toprule\n",
       "                                   &               &               & \\textbf{95\\% BCI} &             \\\\\n",
       " \\textbf{Coefficients}             &               & \\textbf{Mean} & \\textbf{Lo}      & \\textbf{Hi} \\\\\n",
       "                                   & $\\beta_{0}$   & 65514.89      & -251657.54       & 421124.90   \\\\\n",
       " lg\\_housing\\_permits              & $\\beta_{1}$   & 3037.15       & 2920.47          & 3196.56     \\\\\n",
       " mortgage\\_rate                    & $\\beta_{2}$   & -28492.75     & -123659.39       & 53773.37    \\\\\n",
       " credit                            & $\\beta_{3}$   & -0.11         & -0.47            & 0.20        \\\\\n",
       " prime\\_rate                       & $\\beta_{4}$   & 19110.65      & -74897.18        & 102148.94   \\\\\n",
       " mortgage\\_rate:prime\\_rate        & $\\beta_{5}$   & -2695.80      & -24246.74        & 22067.17    \\\\\n",
       " mortgage\\_rate:credit             & $\\beta_{6}$   & 0.04          & -0.04            & 0.13        \\\\\n",
       " prime\\_rate:credit                & $\\beta_{7}$   & -0.01         & -0.09            & 0.08        \\\\\n",
       " mortgage\\_rate:prime\\_rate:credit & $\\beta_{8}$   & 0.00          & -0.02            & 0.02        \\\\\n",
       "                                   &               &               &                  &             \\\\\n",
       " \\textbf{Metrics}                  & \\textbf{Mean} & \\textbf{Lo}   & \\textbf{Hi}      &             \\\\\n",
       " $\\sigma$                          & 6770.86       & 6416.06       & 7196.36          &             \\\\\n",
       " $R^2$                             & 0.31          & 0.31          & 0.33             &             \\\\\n",
       "\\bottomrule\n",
       "\\end{tabular}"
      ],
      "text/markdown": [
       "Model: housing_inventory ~ lg_housing_permits + mortgage_rate + credit + prime_rate + mortgage_rate:prime_rate + mortgage_rate:credit + prime_rate:credit + mortgage_rate:prime_rate:credit\n",
       "|---------------------------------|-------------|-----------|-------------|-----------|\n",
       "|                                 |             |           | **95% BCI** |           |\n",
       "| **Coefficients**                |             | **Mean**  | **Lo**      | **Hi**    |\n",
       "|                                 | $\\beta_{0}$ | 65514.89  | -251657.54  | 421124.90 |\n",
       "| lg_housing_permits              | $\\beta_{1}$ | 3037.15   | 2920.47     | 3196.56   |\n",
       "| mortgage_rate                   | $\\beta_{2}$ | -28492.75 | -123659.39  | 53773.37  |\n",
       "| credit                          | $\\beta_{3}$ | -0.11     | -0.47       | 0.20      |\n",
       "| prime_rate                      | $\\beta_{4}$ | 19110.65  | -74897.18   | 102148.94 |\n",
       "| mortgage_rate:prime_rate        | $\\beta_{5}$ | -2695.80  | -24246.74   | 22067.17  |\n",
       "| mortgage_rate:credit            | $\\beta_{6}$ | 0.04      | -0.04       | 0.13      |\n",
       "| prime_rate:credit               | $\\beta_{7}$ | -0.01     | -0.09       | 0.08      |\n",
       "| mortgage_rate:prime_rate:credit | $\\beta_{8}$ | 0.00      | -0.02       | 0.02      |\n",
       "|                                 |             |           |             |           |\n",
       "| **Metrics**                     | **Mean**    | **Lo**    | **Hi**      |           |\n",
       "| $\\sigma$                        | 6770.86     | 6416.06   | 7196.36     |           |\n",
       "| $R^2$                           | 0.31        | 0.31      | 0.33        |           |"
      ],
      "text/plain": [
       "<__main__.ResultsWrapper at 0x7febe89469a0>"
      ]
     },
     "execution_count": 18,
     "metadata": {},
     "output_type": "execute_result"
    }
   ],
   "source": [
    "df['lg10_credit']= np.log10(df['credit'])\n",
    "model6 = 'housing_inventory ~ housing_permits + mortgage_rate + lg10_credit + prime_rate + mortgage_rate:prime_rate + mortgage_rate:lg10_credit + prime_rate:lg10_credit + mortgage_rate:prime_rate:lg10_credit'\n",
    "result6 = bootstrap_linear_regression(formula=model6, data = df)\n",
    "describe_bootstrap_lr(result5)"
   ]
  },
  {
   "cell_type": "markdown",
   "metadata": {
    "pycharm": {
     "name": "#%% md\n"
    }
   },
   "source": [
    "Unfortunately, this did not improve our model, the error went up again, but at least the $R^2$ remained consistent."
   ]
  },
  {
   "cell_type": "markdown",
   "metadata": {
    "pycharm": {
     "name": "#%% md\n"
    }
   },
   "source": [
    "## 3.2a Describe the final model\n",
    "\n",
    "Let's use model4,\n",
    "```\n",
    "'housing_inventory ~ housing_permits + mortgage_rate + credit + prime_rate + mortgage_rate:prime_rate + mortgage_rate:credit + prime_rate:credit + mortgage_rate:prime_rate:credit'\n",
    "```\n",
    "As our best model for this analysis. Let's rerun model4 so we have the information handy."
   ]
  },
  {
   "cell_type": "code",
   "execution_count": 19,
   "metadata": {
    "pycharm": {
     "name": "#%%\n"
    }
   },
   "outputs": [
    {
     "data": {
      "text/html": [
       "<p><strong>Model: housing_inventory ~ housing_permits + mortgage_rate + credit + prime_rate + mortgage_rate:prime_rate + mortgage_rate:credit + prime_rate:credit + mortgage_rate:prime_rate:credit</strong><br/><table>\n",
       "<tbody>\n",
       "<tr><td>                               </td><td>                     </td><td>                     </td><td><strong>95% BCI</strong</td><td>                   </td></tr>\n",
       "<tr><td><strong>Coefficients</strong  </td><td>                     </td><td><strong>Mean</strong</td><td><strong>Lo</strong     </td><td><strong>Hi</strong</td></tr>\n",
       "<tr><td>                               </td><td>$\\beta_{0}$          </td><td>79342.25             </td><td>-187276.81              </td><td>342173.65          </td></tr>\n",
       "<tr><td>housing_permits                </td><td>$\\beta_{1}$          </td><td>10.37                </td><td>9.91                    </td><td>10.86              </td></tr>\n",
       "<tr><td>mortgage_rate                  </td><td>$\\beta_{2}$          </td><td>-29330.08            </td><td>-97957.64               </td><td>42073.12           </td></tr>\n",
       "<tr><td>credit                         </td><td>$\\beta_{3}$          </td><td>-0.11                </td><td>-0.38                   </td><td>0.16               </td></tr>\n",
       "<tr><td>prime_rate                     </td><td>$\\beta_{4}$          </td><td>17737.31             </td><td>-53241.71               </td><td>81149.67           </td></tr>\n",
       "<tr><td>mortgage_rate:prime_rate       </td><td>$\\beta_{5}$          </td><td>-2339.83             </td><td>-19345.97               </td><td>15551.62           </td></tr>\n",
       "<tr><td>mortgage_rate:credit           </td><td>$\\beta_{6}$          </td><td>0.04                 </td><td>-0.03                   </td><td>0.11               </td></tr>\n",
       "<tr><td>prime_rate:credit              </td><td>$\\beta_{7}$          </td><td>-0.01                </td><td>-0.07                   </td><td>0.06               </td></tr>\n",
       "<tr><td>mortgage_rate:prime_rate:credit</td><td>$\\beta_{8}$          </td><td>0.00                 </td><td>-0.02                   </td><td>0.02               </td></tr>\n",
       "<tr><td>                               </td><td>                     </td><td>                     </td><td>                        </td><td>                   </td></tr>\n",
       "<tr><td><strong>Metrics</strong       </td><td><strong>Mean</strong</td><td><strong>Lo</strong  </td><td><strong>Hi</strong     </td><td>                   </td></tr>\n",
       "<tr><td>$\\sigma$                       </td><td>5179.79              </td><td>4911.87              </td><td>5440.55                 </td><td>                   </td></tr>\n",
       "<tr><td>$R^2$                          </td><td>0.60                 </td><td>0.58                 </td><td>0.62                    </td><td>                   </td></tr>\n",
       "</tbody>\n",
       "</table></p>"
      ],
      "text/latex": [
       "\\textbf{Model: housing\\_inventory $\\sim$ housing\\_permits + mortgage\\_rate + credit + prime\\_rate + mortgage\\_rate:prime\\_rate + mortgage\\_rate:credit + prime\\_rate:credit + mortgage\\_rate:prime\\_rate:credit}\n",
       "\n",
       "\\begin{tabular}{lllll}\n",
       "\\toprule\n",
       "                                   &               &               & \\textbf{95\\% BCI} &             \\\\\n",
       " \\textbf{Coefficients}             &               & \\textbf{Mean} & \\textbf{Lo}      & \\textbf{Hi} \\\\\n",
       "                                   & $\\beta_{0}$   & 79342.25      & -187276.81       & 342173.65   \\\\\n",
       " housing\\_permits                  & $\\beta_{1}$   & 10.37         & 9.91             & 10.86       \\\\\n",
       " mortgage\\_rate                    & $\\beta_{2}$   & -29330.08     & -97957.64        & 42073.12    \\\\\n",
       " credit                            & $\\beta_{3}$   & -0.11         & -0.38            & 0.16        \\\\\n",
       " prime\\_rate                       & $\\beta_{4}$   & 17737.31      & -53241.71        & 81149.67    \\\\\n",
       " mortgage\\_rate:prime\\_rate        & $\\beta_{5}$   & -2339.83      & -19345.97        & 15551.62    \\\\\n",
       " mortgage\\_rate:credit             & $\\beta_{6}$   & 0.04          & -0.03            & 0.11        \\\\\n",
       " prime\\_rate:credit                & $\\beta_{7}$   & -0.01         & -0.07            & 0.06        \\\\\n",
       " mortgage\\_rate:prime\\_rate:credit & $\\beta_{8}$   & 0.00          & -0.02            & 0.02        \\\\\n",
       "                                   &               &               &                  &             \\\\\n",
       " \\textbf{Metrics}                  & \\textbf{Mean} & \\textbf{Lo}   & \\textbf{Hi}      &             \\\\\n",
       " $\\sigma$                          & 5179.79       & 4911.87       & 5440.55          &             \\\\\n",
       " $R^2$                             & 0.60          & 0.58          & 0.62             &             \\\\\n",
       "\\bottomrule\n",
       "\\end{tabular}"
      ],
      "text/markdown": [
       "Model: housing_inventory ~ housing_permits + mortgage_rate + credit + prime_rate + mortgage_rate:prime_rate + mortgage_rate:credit + prime_rate:credit + mortgage_rate:prime_rate:credit\n",
       "|---------------------------------|-------------|-----------|-------------|-----------|\n",
       "|                                 |             |           | **95% BCI** |           |\n",
       "| **Coefficients**                |             | **Mean**  | **Lo**      | **Hi**    |\n",
       "|                                 | $\\beta_{0}$ | 79342.25  | -187276.81  | 342173.65 |\n",
       "| housing_permits                 | $\\beta_{1}$ | 10.37     | 9.91        | 10.86     |\n",
       "| mortgage_rate                   | $\\beta_{2}$ | -29330.08 | -97957.64   | 42073.12  |\n",
       "| credit                          | $\\beta_{3}$ | -0.11     | -0.38       | 0.16      |\n",
       "| prime_rate                      | $\\beta_{4}$ | 17737.31  | -53241.71   | 81149.67  |\n",
       "| mortgage_rate:prime_rate        | $\\beta_{5}$ | -2339.83  | -19345.97   | 15551.62  |\n",
       "| mortgage_rate:credit            | $\\beta_{6}$ | 0.04      | -0.03       | 0.11      |\n",
       "| prime_rate:credit               | $\\beta_{7}$ | -0.01     | -0.07       | 0.06      |\n",
       "| mortgage_rate:prime_rate:credit | $\\beta_{8}$ | 0.00      | -0.02       | 0.02      |\n",
       "|                                 |             |           |             |           |\n",
       "| **Metrics**                     | **Mean**    | **Lo**    | **Hi**      |           |\n",
       "| $\\sigma$                        | 5179.79     | 4911.87   | 5440.55     |           |\n",
       "| $R^2$                           | 0.60        | 0.58      | 0.62        |           |"
      ],
      "text/plain": [
       "<__main__.ResultsWrapper at 0x7febe8d28730>"
      ]
     },
     "execution_count": 19,
     "metadata": {},
     "output_type": "execute_result"
    }
   ],
   "source": [
    "describe_bootstrap_lr(result4)"
   ]
  },
  {
   "cell_type": "markdown",
   "metadata": {
    "pycharm": {
     "name": "#%% md\n"
    }
   },
   "source": [
    "Looking at our final model that abstracts away from specific `cbsa_code`s,:\n",
    "$$\\hat{y}=79342.25 + 10.37 \\beta_1 - 29330.08 \\beta_2 - 0.11 \\beta_3 + 17737.31 \\beta_4 - 2339.83 \\beta_5 + 0.04 \\beta_6  - 0.01 \\beta_7$$\n",
    "\n",
    "- $\\beta_0$ = the intercept of 79,342 represents the constant estimate of the housing inventory if all other factors are zero.\n",
    "- $\\beta_1$ = the coefficient of 10.37 means the housing inventory increases 10.37 for every permit that is issued; this is a little counterintuitive as clearly a single permit strictly has a 1-1 relationship with actual housing inventory. However, the issuance of a permit is a leading indicator for future housing inventory numbers. This coefficient effectively compresses the time effect into a single contemporary estimate. Restated from this data set, we can infer than each permit issued is a very strong indicator of future housing inventory\n",
    "- $\\beta_2$ = the coefficient of -29,330 means that for every point of increase in the mortgage rate interest the housing inventory decreases by 29,330 units; this makes sense a full point of mortgage interest on a $\\$$500,000$ home loan would result in an additional $\\$$417$ per month of mortgage interest payment. Accordingly, people would be less inclined to buy. Initially this might produce an actual increase in inventory, but over time that mortgage point increase would likely cause the reduction as builders would stop building, and sellers, not finding buyers, would either take their homes off the market or sell at a loss.\n",
    "- $\\beta_3$ = the coefficient of -0.11 means that for every increase in every million dollars of revolving credit (the unit used in the revolving credit data), the housing inventory would decrease by 0.11 house.\n",
    "- $\\beta_4$ = the coefficient of 17,737 means that for every increase in the prime rae percentage, the number of housing inventory increases by 17,737. This is counter-intuitive as the prime-rate is often erroneously directly tied to the mortgage rate, and this dataset shows that is not the case.\n",
    "- $\\beta_5$ = the coefficient of interaction term between the mortgage rate and the prime rate is -2,339; this means for every unit increase the product of the two rates, the housing inventory reduces by 2,339 units.\n",
    "- $\\beta_6$ = the coefficient of the interaction term between the mortgage rate and the millions of revolving credit is 0.04; this means for every unit increase in product of the mortgage rate and million dollars of revolving credit, the housing inventory increases by 0.04.\n",
    "- $\\beta_7$ = the coefficient of the interaction term between the prime rate and the millions of revolving credit is -0.01; this means for every unit of the increase in the product of the prime rate and millions of revolving credit, the available housing reduces by 0.01\n",
    "- $\\beta_8$ =  the coefficient of the interaction term between the mortgage_rate, prime_rate, and millions of revolving credit is 0; this means that there is no affect when these three and looked at as a composite fact; accordingly it is left out of the final model.\n"
   ]
  },
  {
   "cell_type": "markdown",
   "metadata": {
    "pycharm": {
     "name": "#%% md\n"
    }
   },
   "source": [
    "## 3.2b Describe the final model\n",
    "\n",
    "Let's use cross-validation to check the bounds on the final model.\n"
   ]
  },
  {
   "cell_type": "code",
   "execution_count": 20,
   "metadata": {
    "pycharm": {
     "name": "#%%\n"
    }
   },
   "outputs": [
    {
     "name": "stdout",
     "output_type": "stream",
     "text": [
      "Our 95% credible interval for these 50 values for the error is:\n",
      "\t [4408.405353   5960.93883238]\n",
      "Our 95% credible interval for these 50 values for the R^2 is: \n",
      "\t [0.53347017 0.64858155]\n"
     ]
    }
   ],
   "source": [
    "cv_results = cross_validation(algorithm=linear_regression, formula=model4, data=df, repetitions=5)\n",
    "\n",
    "print('Our 95% credible interval for these 50 values for the error is:\\n\\t {a}'.format(a=stats.mstats.mquantiles(cv_results['sigma_metric'],[0.025, 0.975])))\n",
    "print('Our 95% credible interval for these 50 values for the R^2 is: \\n\\t {a}'.format(a=stats.mstats.mquantiles(cv_results['r2_metric'],[0.025, 0.975])))"
   ]
  },
  {
   "cell_type": "markdown",
   "metadata": {
    "pycharm": {
     "name": "#%% md\n"
    }
   },
   "source": [
    "Above, we can the cross-validation results across 50 simulations to see what our credible intervals for both the error and $R^2$ for our final model. While our error is fairly tightly bound, the $R^2$ barely gets into the acceptable range. The heteroscedasticity of the housing permits data is the most likely culprit."
   ]
  },
  {
   "cell_type": "markdown",
   "metadata": {
    "pycharm": {
     "name": "#%% md\n"
    }
   },
   "source": [
    "## 4 Use the Model\n",
    "\n",
    "To recap, our null model predicts we should expect the following housing inventory:\n"
   ]
  },
  {
   "cell_type": "code",
   "execution_count": 21,
   "metadata": {
    "pycharm": {
     "name": "#%%\n"
    }
   },
   "outputs": [
    {
     "name": "stdout",
     "output_type": "stream",
     "text": [
      "Null model predicts 3634.1596 houses\n",
      "With a theoretical 95% error bounds of -12395.53644 houses - 19663.85564 houses\n",
      "Or a more practical95% error bounds of 0 houses - 19663.85564 houses\n"
     ]
    }
   ],
   "source": [
    "null = np.mean(df['housing_inventory'])\n",
    "sd = np.std(df['housing_inventory'])\n",
    "\n",
    "print(\"Null model predicts {a} houses\".format(a=round(null, 5)))\n",
    "print(\"With a theoretical 95% error bounds of {a} houses - {b} houses\".format(a = round(null - 1.96 * sd,5), b = round(null + 1.96 * sd, 5 )))\n",
    "print(\"Or a more practical95% error bounds of {a} houses - {b} houses\".format(a = round(0,5), b = round(null + 1.96 * sd, 5 )))"
   ]
  },
  {
   "cell_type": "markdown",
   "metadata": {},
   "source": [
    "Now, let's use the linear model we developed to make some predictions.\n",
    "\n",
    "## 4a. Prediction 1\n",
    "\n",
    "First, let's find the predicted housing inventory for 5,000 building permits in a notional location (aka, no particular cbsa location), a mortgage rate of 2.0%, revolving credit of 750,000 millions, and a prime rate of 4.0%."
   ]
  },
  {
   "cell_type": "code",
   "execution_count": 22,
   "metadata": {
    "pycharm": {
     "name": "#%%\n"
    }
   },
   "outputs": [
    {
     "name": "stdout",
     "output_type": "stream",
     "text": [
      "Linear model predicts 45834.96764 houses\n",
      "With a 95% error bounds of 29805.2716 houses - 61864.66368 houses\n"
     ]
    }
   ],
   "source": [
    "final_sd = result4['sigma']\n",
    "\n",
    "permits, mortgage_interest, revolve_credit_M, prime_interest, = 5000, 0.02, 750000, 0.04\n",
    "query_list = [1, permits, mortgage_interest, revolve_credit_M, prime_interest, mortgage_interest * prime_interest,\n",
    "              mortgage_interest * revolve_credit_M, prime_interest * revolve_credit_M, 0]\n",
    "prediction = result4['model'].predict([query_list])[0][0]\n",
    "\n",
    "print(\"Linear model predicts {} houses\".format(round(prediction, 5)))\n",
    "print(\"With a 95% error bounds of {a} houses - {b} houses\".format(a=round(prediction - 1.96 * sd, 5),\n",
    "                                                                  b=round(prediction + 1.96 * sd, 5)))\n"
   ]
  },
  {
   "cell_type": "markdown",
   "metadata": {
    "pycharm": {
     "name": "#%% md\n"
    }
   },
   "source": [
    "This prediction aligns with intuition as it is well within the bounds of our data range."
   ]
  },
  {
   "cell_type": "markdown",
   "metadata": {
    "pycharm": {
     "name": "#%% md\n"
    }
   },
   "source": [
    "## 4b Prediction 2\n",
    "\n",
    "Second, let's find the predicted housing inventory if we go beyond the far range of our data with 15,000 building permits, a mortgage rate of 10.0%, 1 billion millions in revolving credit, and a prime-rate of 8.0%. This is way off the charts into extrapolation; so, it will be interesting to see what the predicted housing inventory is."
   ]
  },
  {
   "cell_type": "code",
   "execution_count": 23,
   "metadata": {
    "pycharm": {
     "name": "#%%\n"
    }
   },
   "outputs": [
    {
     "name": "stdout",
     "output_type": "stream",
     "text": [
      "Linear model predicts -879355.36306 houses\n",
      "With a 95% error bounds of -895385.0591 houses - -863325.66702 houses\n"
     ]
    }
   ],
   "source": [
    "permits, mortgage_interest, revolve_credit_M, prime_interest, = 15000, 0.10, 10000000, 0.08\n",
    "query_list = [1, permits, mortgage_interest, revolve_credit_M, prime_interest, mortgage_interest * prime_interest,\n",
    "              mortgage_interest * revolve_credit_M, prime_interest * revolve_credit_M, 0]\n",
    "prediction = result4['model'].predict([query_list])[0][0]\n",
    "\n",
    "print(\"Linear model predicts {} houses\".format(round(prediction, 5)))\n",
    "print(\"With a 95% error bounds of {a} houses - {b} houses\".format(a=round(prediction - 1.96 * sd, 5),\n",
    "                                                                  b=round(prediction + 1.96 * sd, 5)))"
   ]
  },
  {
   "cell_type": "markdown",
   "metadata": {
    "pycharm": {
     "name": "#%% md\n"
    }
   },
   "source": [
    "This prediction is not realistic as it illustrates what happens if we extrapolate too far beyond the range of our dataset."
   ]
  },
  {
   "cell_type": "markdown",
   "metadata": {},
   "source": [
    "## 4c Prediction 3\n",
    "\n",
    "Third, let's see what happens if we go to the other extreme and predict the housing inventory with 1 building permit, a mortgage rate of 0.5%, 1 million in revolving credit, and a prime rate of 0% (banks are just literally giving money away)."
   ]
  },
  {
   "cell_type": "code",
   "execution_count": 24,
   "metadata": {
    "pycharm": {
     "name": "#%%\n"
    }
   },
   "outputs": [
    {
     "name": "stdout",
     "output_type": "stream",
     "text": [
      "Linear model predicts 77886.00337 houses\n",
      "With a 95% error bounds of 61856.30733 houses - 93915.69941 houses\n"
     ]
    }
   ],
   "source": [
    "permits, mortgage_interest, revolve_credit_M, prime_interest, = 1, 0.05, 1, 0\n",
    "query_list = [1, permits, mortgage_interest, revolve_credit_M, prime_interest, mortgage_interest * prime_interest,\n",
    "              mortgage_interest * revolve_credit_M, prime_interest * revolve_credit_M, 0]\n",
    "prediction = result4['model'].predict([query_list])[0][0]\n",
    "\n",
    "print(\"Linear model predicts {} houses\".format(round(prediction, 5)))\n",
    "print(\"With a 95% error bounds of {a} houses - {b} houses\".format(a=round(prediction - 1.96 * sd, 5),\n",
    "                                                                  b=round(prediction + 1.96 * sd, 5)))"
   ]
  },
  {
   "cell_type": "markdown",
   "metadata": {
    "pycharm": {
     "name": "#%% md\n"
    }
   },
   "source": [
    "Interesting, this estimate is lower than intuitively expected as well off of the highest value in our observed data, 108,702 houses. Perhaps the single building permit dragged things down a bit.\n"
   ]
  },
  {
   "cell_type": "markdown",
   "metadata": {
    "pycharm": {
     "name": "#%% md\n"
    }
   },
   "source": [
    "## 4d Prediction 4\n",
    "\n",
    "Fourth, let's try to maximize the situation by bumping up the housing permits a bit by taking the situation in prediction 3 and making the housing permits 5,000 for the month. We would expect this to be pretty close our maximum value observed in the dataset.\n"
   ]
  },
  {
   "cell_type": "code",
   "execution_count": 25,
   "metadata": {
    "pycharm": {
     "name": "#%%\n"
    }
   },
   "outputs": [
    {
     "name": "stdout",
     "output_type": "stream",
     "text": [
      "Linear model predicts 129735.47794 houses\n",
      "With a 95% error bounds of 113705.7819 houses - 145765.17398 houses\n"
     ]
    }
   ],
   "source": [
    "permits, mortgage_interest, revolve_credit_M, prime_interest, = 5000, 0.05, 1, 0\n",
    "query_list = [1, permits, mortgage_interest, revolve_credit_M, prime_interest, mortgage_interest * prime_interest,\n",
    "              mortgage_interest * revolve_credit_M, prime_interest * revolve_credit_M, 0]\n",
    "prediction = result4['model'].predict([query_list])[0][0]\n",
    "\n",
    "print(\"Linear model predicts {} houses\".format(round(prediction, 5)))\n",
    "print(\"With a 95% error bounds of {a} houses - {b} houses\".format(a=round(prediction - 1.96 * sd, 5),\n",
    "                                                                  b=round(prediction + 1.96 * sd, 5)))"
   ]
  },
  {
   "cell_type": "markdown",
   "metadata": {
    "pycharm": {
     "name": "#%% md\n"
    }
   },
   "source": [
    "Success! While rates are unrealistic, we've succeeded in hitting a new high value for the housing inventory for the month, 129,735! The most unrealistic parameters to this scenario, pragmatically, is the prime rate being 0 and the revolving credit being only 1 million. If banks were really extending free money to the customers (like the federal banking system has been doing for central banks since about April 2020 to Dec 2021), folks would likely be running up massive sums of interest free credit debt.[2]"
   ]
  },
  {
   "cell_type": "markdown",
   "metadata": {
    "pycharm": {
     "name": "#%% md\n"
    }
   },
   "source": [
    "## 4e Prediction 5\n",
    "\n",
    "For our final prediction, let's revise the situation from prediction 4 to reflect people running up massive debt. So, instead of 1 million of revolving credit, let's make it double the max of our highest observed credit or 1091988*2 = 2,183,976 millions. We would expect this to case the housing inventory to dip substantially over our prediction 4."
   ]
  },
  {
   "cell_type": "code",
   "execution_count": 26,
   "metadata": {
    "pycharm": {
     "name": "#%%\n"
    }
   },
   "outputs": [
    {
     "name": "stdout",
     "output_type": "stream",
     "text": [
      "Linear model predicts -115818.98456 houses\n",
      "With a 95% error bounds of -131848.68059 houses - -99789.28852 houses\n"
     ]
    }
   ],
   "source": [
    "permits, mortgage_interest, revolve_credit_M, prime_interest, = 5000, 0.05, 2183976, 0\n",
    "query_list = [1, permits, mortgage_interest, revolve_credit_M, prime_interest, mortgage_interest * prime_interest,\n",
    "              mortgage_interest * revolve_credit_M, prime_interest * revolve_credit_M, 0]\n",
    "prediction = result4['model'].predict([query_list])[0][0]\n",
    "\n",
    "print(\"Linear model predicts {} houses\".format(round(prediction, 5)))\n",
    "print(\"With a 95% error bounds of {a} houses - {b} houses\".format(a=round(prediction - 1.96 * sd, 5),\n",
    "                                                                  b=round(prediction + 1.96 * sd, 5)))"
   ]
  },
  {
   "cell_type": "markdown",
   "metadata": {
    "pycharm": {
     "name": "#%% md\n"
    }
   },
   "source": [
    "Well, that was a greater dip than expected! Deep into the negative territory. Practically, this is impossible; however, it does illustrate how consumer debt can dramatically influence the model. Interestingly, and first glance, the coefficient for credit, $beta_3$ is only -0.11; so, it might not immediately stand out as something that would dramatically influence the housing inventory. However, this value is millions aggregated across all households per month. In the United Sates, this is a massive multiplier; hence, revolving credit has a substantial influence on the overall housing inventory per month."
   ]
  },
  {
   "cell_type": "markdown",
   "metadata": {},
   "source": [
    "---\n",
    "[1] Balaban, J. (2018, August 27). When and How to use Weighted Least Squares (WLS) Models. Medium. Retrieved December 4, 2021, from https://towardsdatascience.com/when-and-how-to-use-weighted-least-squares-wls-models-a68808b1a89d\n",
    "\n",
    "[2]Federal Bank St. Louis. (2021, December 1). FRED Economic Data. FRED Economic Data. Retrieved December 6, 2021, from https://fred.stlouisfed.org/series/FEDFUNDS"
   ]
  }
 ],
 "metadata": {
  "kernelspec": {
   "display_name": "Python 3 (ipykernel)",
   "language": "python",
   "name": "python3"
  },
  "language_info": {
   "codemirror_mode": {
    "name": "ipython",
    "version": 3
   },
   "file_extension": ".py",
   "mimetype": "text/x-python",
   "name": "python",
   "nbconvert_exporter": "python",
   "pygments_lexer": "ipython3",
   "version": "3.9.6"
  }
 },
 "nbformat": 4,
 "nbformat_minor": 1
}
