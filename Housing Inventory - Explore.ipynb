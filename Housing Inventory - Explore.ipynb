{
 "cells": [
  {
   "cell_type": "code",
   "execution_count": 28,
   "metadata": {
    "collapsed": true
   },
   "outputs": [],
   "source": [
    "%matplotlib inline"
   ]
  },
  {
   "cell_type": "markdown",
   "metadata": {},
   "source": [
    "# Housing Inventory - Explore"
   ]
  },
  {
   "cell_type": "markdown",
   "metadata": {
    "pycharm": {
     "name": "#%% md\n"
    }
   },
   "source": [
    "Foremost, let's get the data staged in our dataframe."
   ]
  },
  {
   "cell_type": "code",
   "execution_count": 29,
   "metadata": {
    "pycharm": {
     "name": "#%%\n"
    }
   },
   "outputs": [],
   "source": [
    "import sqlite3\n",
    "import pandas as pd\n",
    "from tabulate import tabulate\n",
    "\n",
    "def create_connection(db_file: str) -> list:\n",
    "    \"\"\"\n",
    "    Create a database connection to the SQLite database specified by db_file\n",
    "    :param db_file: database file\n",
    "    :return: Connection object or None\n",
    "    \"\"\"\n",
    "    conn = None\n",
    "    cur = None\n",
    "    try:\n",
    "        conn = sqlite3.connect(db_file)\n",
    "        cur = conn.cursor()\n",
    "    except sqlite3.Error as e:\n",
    "        print(e)\n",
    "    return [conn, cur]\n",
    "\n",
    "\n",
    "def close_connection(db_conn: sqlite3.Connection) -> None:\n",
    "    return db_conn.close()\n",
    "\n",
    "\n",
    "db_file = 'housing_inventory.db'\n",
    "db_con, db_cur = create_connection(db_file)\n",
    "\n",
    "query = \"\"\"\n",
    "WITH mortgage_monthly(year_month, mortgage_rate) AS (\n",
    "    SELECT year_month, avg(mortgage_rate) from mortgage_rates\n",
    "    group by year_month\n",
    ")\n",
    "SELECT  hi.total_listing_count as 'housing_inventory', bp.total_units as 'housing_permits',\n",
    "        mm.mortgage_rate, pr.prime_rate, rc.credit, hi.cbsa_code, mm.year_month\n",
    "FROM housing_inventory as hi\n",
    "INNER JOIN building_permits bp\n",
    "    on hi.year_month = bp.year_month and hi.cbsa_code = bp.cbsa_code\n",
    "INNER JOIN mortgage_monthly mm\n",
    "    on hi.year_month = mm.year_month\n",
    "INNER JOIN prime_rates pr\n",
    "    on hi.year_month = pr.year_month\n",
    "INNER JOIN revolving_credit rc\n",
    "    on hi.year_month = rc.year_month\n",
    "\"\"\"\n",
    "result2 = list(db_con.execute(query))\n",
    "df = pd.read_sql_query(sql=query,con=db_con)\n",
    "close_connection(db_con)"
   ]
  },
  {
   "cell_type": "markdown",
   "metadata": {
    "pycharm": {
     "name": "#%% md\n"
    }
   },
   "source": [
    "Let's check the count of observations before we start looking at both single and paired variables analysis in-depth."
   ]
  },
  {
   "cell_type": "code",
   "execution_count": 30,
   "metadata": {
    "pycharm": {
     "name": "#%%\n"
    }
   },
   "outputs": [
    {
     "name": "stdout",
     "output_type": "stream",
     "text": [
      "We have 0 observations in our aggregate dataset.\n"
     ]
    }
   ],
   "source": [
    "print('We have {a} observations in our aggregate dataset.'.format(a=df.shape[0]))\n"
   ]
  },
  {
   "cell_type": "markdown",
   "metadata": {
    "pycharm": {
     "name": "#%% md\n"
    }
   },
   "source": [
    "**EDA helper functions**"
   ]
  },
  {
   "cell_type": "code",
   "execution_count": 31,
   "metadata": {
    "pycharm": {
     "name": "#%%\n"
    }
   },
   "outputs": [],
   "source": [
    "import math\n",
    "import matplotlib.pyplot as plt\n",
    "import scipy.stats as stats\n",
    "import pandas as pd\n",
    "import seaborn as sns\n",
    "sns.set(style=\"whitegrid\")\n",
    "\n",
    "def freeman_diaconis(data):\n",
    "    quartiles = stats.mstats.mquantiles( data, [0.25, 0.5, 0.75])\n",
    "    iqr = quartiles[2] - quartiles[ 0]\n",
    "    n = len( data)\n",
    "    h = 2.0 * (iqr/n**(1.0/3.0))\n",
    "    return int( h)\n",
    "\n",
    "def plot_hist_categorical(t_col: pd.Series, do_normalize: bool):\n",
    "    data = t_col.value_counts(normalize=do_normalize)\n",
    "    x = list(data.index.sort_values())\n",
    "    width = 1 / 1.5\n",
    "    figure = plt.figure(figsize=(8, 6))\n",
    "\n",
    "    axes = figure.add_subplot(1, 1, 1)\n",
    "    axes.bar(x, data, width, align=\"center\", color=\"darkslategray\")\n",
    "    axes.set_xticks(x)\n",
    "    axes.set_xticklabels(data.axes[0])\n",
    "    axes.set_title(' '.join(['Distribution of', t_col.name.title()]))\n",
    "    axes.set_xlabel(t_col.name.title())\n",
    "    axes.set_ylabel('Percent' if do_normalize else 'Count')\n",
    "    axes.xaxis.grid(False)\n",
    "\n",
    "    plt.show()\n",
    "    plt.close()\n",
    "    return\n",
    "\n",
    "def plot_hist_numeric(t_col: pd.Series, backup_step=2, multiplier_factor = 1):\n",
    "    mn = int(t_col.min())\n",
    "    mx = int(t_col.max())\n",
    "    h = freeman_diaconis(t_col) * multiplier_factor\n",
    "    if h == 0: h = backup_step\n",
    "    bins = [i for i in range(mn, mx, h)]\n",
    "\n",
    "    figure = plt.figure(figsize=(10, 6))\n",
    "    axes = figure.add_subplot(1, 1, 1)\n",
    "    axes.hist(t_col, bins=bins, color=\"darkslategray\")\n",
    "    axes.set_title(' '.join([t_col.name.title(), 'Distribution']))\n",
    "    axes.set_xlabel(t_col.name.title())\n",
    "\n",
    "    plt.show()\n",
    "    plt.close()\n",
    "    return\n",
    "\n",
    "def plot_hist_numeric_custom(t_col: pd.Series, bins: list):\n",
    "    figure = plt.figure(figsize=(10, 6))\n",
    "    axes = figure.add_subplot(1, 1, 1)\n",
    "    axes.hist(t_col, bins=bins, color=\"darkslategray\")\n",
    "    axes.set_title(' '.join([t_col.name.title(), 'Distribution']))\n",
    "    axes.set_xlabel(t_col.name.title())\n",
    "\n",
    "    plt.show()\n",
    "    plt.close()\n",
    "    return\n",
    "\n",
    "def get_correlations(df: pd.DataFrame, colA: str, colB: str) -> dict:\n",
    "    results = {}\n",
    "    results['pearson'] = stats.pearsonr(df[colA], df[colB])[0]\n",
    "    results['spearman'] = stats.spearmanr(df[colA], df[colB])[0]\n",
    "    return results\n",
    "\n",
    "def describe_by_category(my_data: pd.DataFrame, numeric: str, categorical: str, transpose=False):\n",
    "    t_grouped = my_data.groupby(categorical)\n",
    "    t_grouped_y = t_grouped[numeric].describe()\n",
    "    if transpose:\n",
    "        print(t_grouped_y.transpose())\n",
    "    else:\n",
    "        print(t_grouped_y)\n",
    "    return t_grouped\n",
    "\n",
    "def plot_scatter(my_data: pd.DataFrame, y_col: str, x_col: str):\n",
    "    figure = plt.figure(figsize=(8, 6))\n",
    "    axes = figure.add_subplot(1, 1, 1)\n",
    "    axes.scatter(y=my_data[y_col], x=my_data[x_col], marker='o', color='darkslategray')\n",
    "    axes.set_ylabel(y_col.title())\n",
    "    axes.set_xlabel(x_col.title())\n",
    "    axes.set_title(' '.join([y_col, 'vs.', x_col]))\n",
    "\n",
    "    plt.show()\n",
    "    plt.close()\n",
    "\n",
    "def plot_by_category(my_data: pd.DataFrame, response_col: str, explanatory_col: str, relative: bool):\n",
    "    n_cols = 3\n",
    "    h = freeman_diaconis(my_data[response_col])\n",
    "    grouped = my_data.groupby(explanatory_col)\n",
    "    figure = plt.figure(figsize=(20, 6))\n",
    "\n",
    "    n_rows = math.ceil(grouped.ngroups / n_cols)\n",
    "\n",
    "    for plot_index, k in enumerate(grouped.groups.keys()):\n",
    "        axes = figure.add_subplot(n_rows, n_cols, plot_index + 1)\n",
    "        axes.hist(grouped[response_col].get_group(k), bins=h, color=\"darkslategray\", density=relative, range=(0, 40))\n",
    "        axes.set_title(\n",
    "            ' '.join([str(k), explanatory_col.title(), '-', response_col.title(), '\\ndistribution - Freeman Diaconis']))\n",
    "        axes.set_xlabel(response_col)\n",
    "\n",
    "    figure.tight_layout()\n",
    "    plt.show()\n",
    "    plt.close()\n",
    "    return"
   ]
  },
  {
   "cell_type": "markdown",
   "metadata": {
    "pycharm": {
     "name": "#%% md\n"
    }
   },
   "source": [
    "# 1. Housing Inventory - EDA: Single Variable Analysis\n",
    "\n",
    "- [housing_inventory](#housing_inventory)\n",
    "- [housing_permits](#housing_permits)\n",
    "- [mortgage_rate](#mortgage_rate)\n",
    "- [credit](#credit)\n",
    "- [prime_rate](#prime_rate)\n",
    "- [cbsa_code](#cbsa_code)"
   ]
  },
  {
   "cell_type": "markdown",
   "metadata": {
    "pycharm": {
     "name": "#%% md\n"
    }
   },
   "source": [
    "<a id='housing_inventory'></a>\n",
    "\n",
    "## 1.1 housing_inventory\n",
    "\n",
    "First let's look at the housing inventory numbers. This is our explanatory variable, the total number of houses in inventory across CBSA codes for a year/month combination (note: we did use the month/year to associate records, but the time is irrelevant to the scope of this analysis and is, therefore, omitted). For purposes of this analysis, the housing inventory numbers come from the monthly 'total listing count' which the total of both active and pending (offers accepted by deal not closed) by month per geographic area. [1]"
   ]
  },
  {
   "cell_type": "code",
   "execution_count": 32,
   "metadata": {
    "pycharm": {
     "name": "#%%\n"
    }
   },
   "outputs": [
    {
     "data": {
      "text/plain": "count       0\nunique      0\ntop       NaN\nfreq      NaN\nName: housing_inventory, dtype: object"
     },
     "execution_count": 32,
     "metadata": {},
     "output_type": "execute_result"
    }
   ],
   "source": [
    "df['housing_inventory'].describe()"
   ]
  },
  {
   "cell_type": "markdown",
   "metadata": {
    "pycharm": {
     "name": "#%% md\n"
    }
   },
   "source": [
    "The mean is quite a bit to the right of the median; so, there is a strong positive/right skew to this data.\n"
   ]
  },
  {
   "cell_type": "code",
   "execution_count": 33,
   "metadata": {
    "pycharm": {
     "name": "#%%\n"
    }
   },
   "outputs": [
    {
     "ename": "ValueError",
     "evalue": "cannot convert float NaN to integer",
     "output_type": "error",
     "traceback": [
      "\u001B[0;31m---------------------------------------------------------------------------\u001B[0m",
      "\u001B[0;31mValueError\u001B[0m                                Traceback (most recent call last)",
      "\u001B[0;32m/var/folders/07/y1t6nqfn3tx5hzhm8y8z23lc0000gn/T/ipykernel_96583/2047948252.py\u001B[0m in \u001B[0;36m<module>\u001B[0;34m\u001B[0m\n\u001B[0;32m----> 1\u001B[0;31m \u001B[0mplot_hist_numeric\u001B[0m\u001B[0;34m(\u001B[0m\u001B[0mdf\u001B[0m\u001B[0;34m[\u001B[0m\u001B[0;34m'housing_inventory'\u001B[0m\u001B[0;34m]\u001B[0m\u001B[0;34m,\u001B[0m \u001B[0mmultiplier_factor\u001B[0m\u001B[0;34m=\u001B[0m\u001B[0;36m25\u001B[0m\u001B[0;34m)\u001B[0m\u001B[0;34m\u001B[0m\u001B[0;34m\u001B[0m\u001B[0m\n\u001B[0m",
      "\u001B[0;32m/var/folders/07/y1t6nqfn3tx5hzhm8y8z23lc0000gn/T/ipykernel_96583/3218644930.py\u001B[0m in \u001B[0;36mplot_hist_numeric\u001B[0;34m(t_col, backup_step, multiplier_factor)\u001B[0m\n\u001B[1;32m     33\u001B[0m \u001B[0;34m\u001B[0m\u001B[0m\n\u001B[1;32m     34\u001B[0m \u001B[0;32mdef\u001B[0m \u001B[0mplot_hist_numeric\u001B[0m\u001B[0;34m(\u001B[0m\u001B[0mt_col\u001B[0m\u001B[0;34m:\u001B[0m \u001B[0mpd\u001B[0m\u001B[0;34m.\u001B[0m\u001B[0mSeries\u001B[0m\u001B[0;34m,\u001B[0m \u001B[0mbackup_step\u001B[0m\u001B[0;34m=\u001B[0m\u001B[0;36m2\u001B[0m\u001B[0;34m,\u001B[0m \u001B[0mmultiplier_factor\u001B[0m \u001B[0;34m=\u001B[0m \u001B[0;36m1\u001B[0m\u001B[0;34m)\u001B[0m\u001B[0;34m:\u001B[0m\u001B[0;34m\u001B[0m\u001B[0;34m\u001B[0m\u001B[0m\n\u001B[0;32m---> 35\u001B[0;31m     \u001B[0mmn\u001B[0m \u001B[0;34m=\u001B[0m \u001B[0mint\u001B[0m\u001B[0;34m(\u001B[0m\u001B[0mt_col\u001B[0m\u001B[0;34m.\u001B[0m\u001B[0mmin\u001B[0m\u001B[0;34m(\u001B[0m\u001B[0;34m)\u001B[0m\u001B[0;34m)\u001B[0m\u001B[0;34m\u001B[0m\u001B[0;34m\u001B[0m\u001B[0m\n\u001B[0m\u001B[1;32m     36\u001B[0m     \u001B[0mmx\u001B[0m \u001B[0;34m=\u001B[0m \u001B[0mint\u001B[0m\u001B[0;34m(\u001B[0m\u001B[0mt_col\u001B[0m\u001B[0;34m.\u001B[0m\u001B[0mmax\u001B[0m\u001B[0;34m(\u001B[0m\u001B[0;34m)\u001B[0m\u001B[0;34m)\u001B[0m\u001B[0;34m\u001B[0m\u001B[0;34m\u001B[0m\u001B[0m\n\u001B[1;32m     37\u001B[0m     \u001B[0mh\u001B[0m \u001B[0;34m=\u001B[0m \u001B[0mfreeman_diaconis\u001B[0m\u001B[0;34m(\u001B[0m\u001B[0mt_col\u001B[0m\u001B[0;34m)\u001B[0m \u001B[0;34m*\u001B[0m \u001B[0mmultiplier_factor\u001B[0m\u001B[0;34m\u001B[0m\u001B[0;34m\u001B[0m\u001B[0m\n",
      "\u001B[0;31mValueError\u001B[0m: cannot convert float NaN to integer"
     ]
    }
   ],
   "source": [
    "plot_hist_numeric(df['housing_inventory'], multiplier_factor=25)"
   ]
  },
  {
   "cell_type": "markdown",
   "metadata": {
    "pycharm": {
     "name": "#%% md\n"
    }
   },
   "source": [
    "This is much heavier skewed to the right than the tabular data indicated. Looking across all geographic areas, we can we there are many months when there are well less than 1,000 units available to buy or to rent.\n"
   ]
  },
  {
   "cell_type": "markdown",
   "metadata": {
    "pycharm": {
     "name": "#%% md\n"
    }
   },
   "source": [
    "<a id='housing_permits'></a>\n",
    "\n",
    "## 1.2 housing_permits\n",
    "Housing permits the subset of building permits (the approval given by a local governing entity across the United States) to commence with new constructtion.[2] Essentially building permits are a check to ensure that licensed contractors are going to be performing the work aligned with zoning restrictions and building codes. Let's look at the housing_permits. This is the number of housing permits per time period per cbsa code (geeographic area)."
   ]
  },
  {
   "cell_type": "code",
   "execution_count": null,
   "metadata": {
    "pycharm": {
     "name": "#%%\n"
    }
   },
   "outputs": [],
   "source": [
    "df['housing_permits'].describe()"
   ]
  },
  {
   "cell_type": "markdown",
   "metadata": {
    "pycharm": {
     "name": "#%% md\n"
    }
   },
   "source": [
    "Again, the mean number of housing permits is quite a bit larger than the median, so we can expect this to strongly right-skewed again."
   ]
  },
  {
   "cell_type": "code",
   "execution_count": null,
   "metadata": {
    "pycharm": {
     "name": "#%%\n"
    }
   },
   "outputs": [],
   "source": [
    "plot_hist_numeric(df['housing_permits'], multiplier_factor=25)"
   ]
  },
  {
   "cell_type": "markdown",
   "metadata": {
    "pycharm": {
     "name": "#%% md\n"
    }
   },
   "source": [
    "This has a very similar shape to the housing_inventory variable, but it is important to note the housing permit numbers are an order of magnitude less than the housing inventory numbers."
   ]
  },
  {
   "cell_type": "markdown",
   "metadata": {
    "pycharm": {
     "name": "#%% md\n"
    }
   },
   "source": [
    "<a id='mortgage_rate'></a>\n",
    "\n",
    "## 1.3 mortgage_rate\n",
    "\n",
    "Mortgage rates are the loans individuals take out to purchase home. Federal Home Loan Mortgage Corporation (FHLMC), aka Freddie Mac, is a large, government-owned but publicly traded corporation that extends loans to many individuals. In addition to offering mortgage loans, they also do a weekly summary of mortgage rates of different types called the _Primary Mortgage Market Survey_.[3] For purposes of this analysis we focus on their aggregation and averaging of 30-year fixed rated mortgages."
   ]
  },
  {
   "cell_type": "code",
   "execution_count": null,
   "metadata": {
    "pycharm": {
     "name": "#%%\n"
    }
   },
   "outputs": [],
   "source": [
    "df['mortgage_rate'].describe()"
   ]
  },
  {
   "cell_type": "markdown",
   "metadata": {
    "pycharm": {
     "name": "#%% md\n"
    }
   },
   "source": [
    "For the mortgage rates, the mean is a little less than median, so we can expect this to have a slight negative skew."
   ]
  },
  {
   "cell_type": "code",
   "execution_count": null,
   "metadata": {
    "pycharm": {
     "name": "#%%\n"
    }
   },
   "outputs": [],
   "source": [
    "plot_hist_numeric_custom(df['mortgage_rate'],[2.0, 2.5, 3, 3.5, 4, 4.5, 5])"
   ]
  },
  {
   "cell_type": "markdown",
   "metadata": {
    "pycharm": {
     "name": "#%% md\n"
    }
   },
   "source": [
    "Looking at the visualization above, we can see that is the case as there is a slight negative skew with the most prevlant rate being between 3.5 and 4.0%.\n"
   ]
  },
  {
   "cell_type": "markdown",
   "metadata": {
    "pycharm": {
     "name": "#%% md\n"
    }
   },
   "source": [
    "<a id='prime_rate'></a>\n",
    "\n",
    "## 1.4 prime_rate\n",
    "\n",
    "The prime rate is an interest rate actually determined by individual banks and not the Federal Reserve itself; rather the Federal Reserve Board reports the 'prime rate' reported by the majority of the 25 largest banks. [4] Many of the other interest rates use the prime rate as their foundational rate on which to build."
   ]
  },
  {
   "cell_type": "code",
   "execution_count": null,
   "metadata": {
    "pycharm": {
     "name": "#%%\n"
    }
   },
   "outputs": [],
   "source": [
    "df['prime_rate'].describe()"
   ]
  },
  {
   "cell_type": "markdown",
   "metadata": {
    "pycharm": {
     "name": "#%% md\n"
    }
   },
   "source": [
    "The median and mean of the prime rate are really close around 4.1-4.2%; so, we might expect these rates to be normally distributed."
   ]
  },
  {
   "cell_type": "code",
   "execution_count": null,
   "metadata": {
    "pycharm": {
     "name": "#%%\n"
    }
   },
   "outputs": [],
   "source": [
    "#plot_hist_numeric(df['prime_rate'], backup_step=.25)\n",
    "plot_hist_numeric_custom(df['prime_rate'], [3, 3.5, 4, 4.5, 5, 5.5,6])"
   ]
  },
  {
   "cell_type": "markdown",
   "metadata": {
    "pycharm": {
     "name": "#%% md\n"
    }
   },
   "source": [
    "The visualization fo the prime rate is definitely not normally distributed; in fact is nearly appears to be bi-modal. Curiously the plot for the mortgage rate and the prime rates are not twin images as one might expect. Often 'folksy-wisdom' asserts that the mortgage rates always follow the prime rates; however, we can immediately see that the prime rates are actually greater than the mortgage rates."
   ]
  },
  {
   "cell_type": "markdown",
   "metadata": {},
   "source": [
    "<a id='credit'></a>\n",
    "\n",
    "## 1.5 credit\n",
    "\n",
    "The Federal Reserve defines consumer credit as \"... most credit extended to individuals, excluding loans secured by real estate; includes receivables carried on the balance sheet of the institution as well as outstanding balances of pools upon which securities have been issued.\"[5] In aggregate millions of dollars per month, this essentially reflects how much credit, in aggregate, the individuals are using each month. More credit used means more bills that will need to be paid and cannot be obligated to housing costs.\n"
   ]
  },
  {
   "cell_type": "code",
   "execution_count": null,
   "metadata": {
    "pycharm": {
     "name": "#%%\n"
    }
   },
   "outputs": [],
   "source": [
    "df['credit'].describe()"
   ]
  },
  {
   "cell_type": "markdown",
   "metadata": {},
   "source": [
    "Looking at the summary revolving credit information, the mean is larger than the median; so, we would expect some positive, right-skewness, to the plot.\n"
   ]
  },
  {
   "cell_type": "code",
   "execution_count": null,
   "metadata": {
    "pycharm": {
     "name": "#%%\n"
    }
   },
   "outputs": [],
   "source": [
    "#plot_hist_numeric(df['credit'])\n",
    "plot_hist_numeric_custom(df['credit'], [850000, 900000, 950000, 1000000, 1050000, 1100000])"
   ]
  },
  {
   "cell_type": "markdown",
   "metadata": {
    "pycharm": {
     "name": "#%% md\n"
    }
   },
   "source": [
    "Aligned with expectations, the visualization above is decidedly right-skewed.\n"
   ]
  },
  {
   "cell_type": "markdown",
   "metadata": {
    "pycharm": {
     "name": "#%% md\n"
    }
   },
   "source": [
    "<a id='cbsa_code'></a>\n",
    "\n",
    "## 1.6 cbsa_code\n",
    "\n",
    "The Core-Based Statistical Area codes are a set of metropolitan identifiers set by the Office of Management and Budget. [6] These are key to many of the macro-level economic calculations across the United States. For this analysis, these represent the geographic breakdowns of housing inventory data. While there also combined statistical areas (CSAs), this analysis leverages the CBSA codes as defined by OMB in 2015 (based on the 2010 Census). The total set of CBSA codes i s 935; so, let's see how many unique CBSA codes we have in our data set.[7]"
   ]
  },
  {
   "cell_type": "code",
   "execution_count": null,
   "metadata": {
    "pycharm": {
     "name": "#%%\n"
    }
   },
   "outputs": [],
   "source": [
    "print('Across this dataset, there are {a} unique CBSA codes'.format(a=df['cbsa_code'].nunique()))"
   ]
  },
  {
   "cell_type": "markdown",
   "source": [
    "It looks like we have 383 unique CBSA codes in our dataset. This is substantially less than the 935 total. Let's do a quick check against the CBSA codes in the raw housing inventory data."
   ],
   "metadata": {
    "collapsed": false,
    "pycharm": {
     "name": "#%% md\n"
    }
   }
  },
  {
   "cell_type": "code",
   "execution_count": null,
   "outputs": [],
   "source": [
    "db_file = 'housing_inventory.db'\n",
    "db_con, db_cur = create_connection(db_file)\n",
    "\n",
    "query = \"\"\"\n",
    "SELECT count(distinct(cbsa_code)) from housing_inventory\n",
    "\"\"\"\n",
    "result = list(db_con.execute(query))\n",
    "tabulate(result, headers=['Unique CBSA Codes'], tablefmt='html')"
   ],
   "metadata": {
    "collapsed": false,
    "pycharm": {
     "name": "#%%\n"
    }
   }
  },
  {
   "cell_type": "markdown",
   "source": [
    "Well 383 is definitely less than 917. This is probably do to the manner in which we inner-join across multiple tables to minimize missing data. In the future is would be good to re-analyze with meaningful approxiations/estimates instead of functionally dropping the entire observation.\n"
   ],
   "metadata": {
    "collapsed": false,
    "pycharm": {
     "name": "#%% md\n"
    }
   }
  },
  {
   "cell_type": "markdown",
   "source": [
    "Let's look at the number for each CBSA code we do have in our final aggregate dataset."
   ],
   "metadata": {
    "collapsed": false,
    "pycharm": {
     "name": "#%% md\n"
    }
   }
  },
  {
   "cell_type": "code",
   "execution_count": null,
   "outputs": [],
   "source": [
    "df['cbsa_code'].value_counts().sort_values(ascending=False)"
   ],
   "metadata": {
    "collapsed": false,
    "pycharm": {
     "name": "#%%\n"
    }
   }
  },
  {
   "cell_type": "markdown",
   "metadata": {
    "pycharm": {
     "name": "#%% md\n"
    }
   },
   "source": [
    "Looking at the counts, 49 is the expected number (12 months * 4 years + 1 extra month of data). 22 is interesting as is implies there are time-frames when certain areas did not provide data."
   ]
  },
  {
   "cell_type": "markdown",
   "metadata": {
    "pycharm": {
     "name": "#%% md\n"
    }
   },
   "source": [
    "# 2. Housing Inventory - EDA: Paired Variable Analysis\n",
    "\n",
    "Moving from the single variable analysis to the paired analysis, the relationships we are exploring to explain housing inventory across multiple datasets as expressed in the [Housing Inventory - Ask](Housing%20Inventory%20-%20Ask.ipynb) notebook, we should really look at correlations between each of the explanatory variables we've included\n",
    "\n",
    "- [housing_permits](#v_housing_permits)\n",
    "- [mortgage_rate](#v_mortgage_rate)\n",
    "- [credit](#v_credit)\n",
    "- [prime_rate](#v_prime_rate)\n",
    "- [cbsa_code](#v_cbsa_code)"
   ]
  },
  {
   "cell_type": "markdown",
   "source": [
    "<a id='v_housing_permits'></a>\n",
    "\n",
    "## 2.1 housing_inventory vs. housing_permits\n",
    "\n",
    "Realistically, there should be some lag between the number of housing permits and the number of houses available in inventory at any point in time. Depending on particular localities with respect to work force availability and building supplies, it could take anywhere from 3 weeks to 6 months from the time a building permit is awarded to the time it is available in inventory. This caveat aside, given the time-agnostic focus of this study, we might expect the there to be a noticeable trend between the number of building permits issued and a rise in housing inventory. Let's check the correlation coefficients."
   ],
   "metadata": {
    "collapsed": false,
    "pycharm": {
     "name": "#%% md\n"
    }
   }
  },
  {
   "cell_type": "code",
   "execution_count": null,
   "outputs": [],
   "source": [
    "corr = get_correlations(df=df, colA='housing_inventory', colB='housing_permits')\n",
    "print('Pearson\\'s correlation coefficient is {a}\\n\\t and Spearman\\'s rho is {b}'.format(a=round(corr['pearson'], 3),\n",
    "                                                                                        b=round(corr['spearman'], 3)))"
   ],
   "metadata": {
    "collapsed": false,
    "pycharm": {
     "name": "#%%\n"
    }
   }
  },
  {
   "cell_type": "markdown",
   "source": [
    "Both numeric measures indicate a strong positive correlation between housing inventory and housing permits. Let's check the scatter plot.\n"
   ],
   "metadata": {
    "collapsed": false,
    "pycharm": {
     "name": "#%% md\n"
    }
   }
  },
  {
   "cell_type": "code",
   "execution_count": null,
   "outputs": [],
   "source": [
    "plot_scatter(my_data=df, y_col='housing_inventory', x_col='housing_permits')"
   ],
   "metadata": {
    "collapsed": false,
    "pycharm": {
     "name": "#%%\n"
    }
   }
  },
  {
   "cell_type": "markdown",
   "source": [
    "While the plot is not the cleanest, there is still a clear positive correlation between the number of building permits issued and the number of houses in inventory."
   ],
   "metadata": {
    "collapsed": false,
    "pycharm": {
     "name": "#%% md\n"
    }
   }
  },
  {
   "cell_type": "markdown",
   "source": [
    "<a id='v_mortgage_rate'></a>\n",
    "\n",
    "## 2.2 housing_inventory vs. mortgage_rate\n",
    "\n",
    "Given that higher mortgage rates lead to fewer people being able to afford new home loans (and secondarily potentially causing landlords to raise rent), we would expect a positive correlation between mortgage rates and housing inventory. Restated, the higher the mortgage rates, the more housing inventory we should expect. Let's check the correlation coefficients."
   ],
   "metadata": {
    "collapsed": false
   }
  },
  {
   "cell_type": "code",
   "execution_count": null,
   "outputs": [],
   "source": [
    "corr = get_correlations(df=df, colA='housing_inventory', colB='mortgage_rate')\n",
    "print('Pearson\\'s correlation coefficient is {a}\\n\\t and Spearman\\'s rho is {b}'.format(a=round(corr['pearson'], 3),\n",
    "                                                                                        b=round(corr['spearman'], 3)))"
   ],
   "metadata": {
    "collapsed": false,
    "pycharm": {
     "name": "#%%\n"
    }
   }
  },
  {
   "cell_type": "markdown",
   "source": [
    "Mathematically, it looks like this is a very weak positive correlation. It is only weakly linear, and it is barely monotonic at that. Let's check the scatter plot."
   ],
   "metadata": {
    "collapsed": false,
    "pycharm": {
     "name": "#%% md\n"
    }
   }
  },
  {
   "cell_type": "code",
   "execution_count": null,
   "outputs": [],
   "source": [
    "plot_scatter(my_data=df, y_col='housing_inventory', x_col='mortgage_rate')"
   ],
   "metadata": {
    "collapsed": false,
    "pycharm": {
     "name": "#%%\n"
    }
   }
  },
  {
   "cell_type": "markdown",
   "source": [
    "This is interesting in that is illustrates there is almost no relationship between mortgage rates and housing inventory. While there are some outliers of high-inventory at low interest rates, on the whole, there is only a very small relationship between the mortgage rate and the available housing inventory.\n"
   ],
   "metadata": {
    "collapsed": false,
    "pycharm": {
     "name": "#%% md\n"
    }
   }
  },
  {
   "cell_type": "markdown",
   "source": [
    "<a id='v_credit'></a>\n",
    "\n",
    "## 2.3 housing_inventory vs. credit\n",
    "\n",
    "Outstanding revolving credit would be expected to have weak direct relation to an increase in housing inventory. If more people are taking on more debt (not associated with real estate), then that can be expected to correlate with fewer house purchases and a slight increase in housing inventory. Let's check the correlation coefficients."
   ],
   "metadata": {
    "collapsed": false
   }
  },
  {
   "cell_type": "code",
   "execution_count": null,
   "outputs": [],
   "source": [
    "corr = get_correlations(df=df, colA='housing_inventory', colB='credit')\n",
    "print('Pearson\\'s correlation coefficient is {a}\\n\\t and Spearman\\'s rho is {b}'.format(a=round(corr['pearson'], 3),\n",
    "                                                                                        b=round(corr['spearman'], 3)))"
   ],
   "metadata": {
    "collapsed": false,
    "pycharm": {
     "name": "#%%\n"
    }
   }
  },
  {
   "cell_type": "markdown",
   "source": [
    "Very interesting as there appears to be **very slight** negative correlation; this would imply there is actually a slight decrease in housing inventory when people accumulate credit card debt. Perhaps the builders and other potential seller anticipate a tightening of the market and don't build as many or put their own house on the market, respectively. Moreover, aligned with this, Spearman's $\\rho$ is also slightly negative; so, slightly monotonicly decreasing. Let's look at the scatter plot.\n"
   ],
   "metadata": {
    "collapsed": false,
    "pycharm": {
     "name": "#%% md\n"
    }
   }
  },
  {
   "cell_type": "code",
   "execution_count": null,
   "outputs": [],
   "source": [
    "plot_scatter(my_data=df, y_col='housing_inventory', x_col='credit')"
   ],
   "metadata": {
    "collapsed": false,
    "pycharm": {
     "name": "#%%\n"
    }
   }
  },
  {
   "cell_type": "markdown",
   "source": [
    "This plot is very similar in appearance to the housing inventory vs. mortgage rates visualization. There is no apparent correlation between the overall amount of outstanding credit (also, recall that each unit of credit is 1,000,000, to 1.1E6 on the graph is actually $1.1E12 across the population of the United States) and amount of housing inventory available."
   ],
   "metadata": {
    "collapsed": false,
    "pycharm": {
     "name": "#%% md\n"
    }
   }
  },
  {
   "cell_type": "markdown",
   "source": [
    "<a id='v_prime_rate'></a>\n",
    "\n",
    "## 2.4 housing_inventory vs. prime_rate\n",
    "\n",
    "Given the prime rate actually the average rate of what large banks use for lending money and given that mortgage interest is a substantial revenue stream for most banks and credit unions, one would expect the prime rate and mortgage rate to be correlated strongly. Resultantly, here, we would expect the prime rate to look very similar to the mortgage rate. Let's check the correlation coeffients."
   ],
   "metadata": {
    "collapsed": false
   }
  },
  {
   "cell_type": "code",
   "execution_count": null,
   "outputs": [],
   "source": [
    "corr = get_correlations(df=df, colA='housing_inventory', colB='prime_rate')\n",
    "print('Pearson\\'s correlation coefficient is {a}\\n\\t and Spearman\\'s rho is {b}'.format(a=round(corr['pearson'], 3),\n",
    "                                                                                        b=round(corr['spearman'], 3)))"
   ],
   "metadata": {
    "collapsed": false,
    "pycharm": {
     "name": "#%%\n"
    }
   }
  },
  {
   "cell_type": "markdown",
   "source": [
    "As expected, the prime rate has almost the exact correlation coefficient and Spearman's $\\rho$ as the prime rate. Let's check the scatter plot."
   ],
   "metadata": {
    "collapsed": false,
    "pycharm": {
     "name": "#%% md\n"
    }
   }
  },
  {
   "cell_type": "code",
   "execution_count": null,
   "outputs": [],
   "source": [
    "plot_scatter(my_data=df, y_col='housing_inventory', x_col='prime_rate')\n"
   ],
   "metadata": {
    "collapsed": false,
    "pycharm": {
     "name": "#%%\n"
    }
   }
  },
  {
   "cell_type": "markdown",
   "source": [
    "As expected, the shape of the prime rate visualization is very similar to the shape of the mortgage rate visualization against housing inventory as the response variable. The only real difference of note is that the mortgage rate is actually slightly **lower** than the prime rate. At the surface, this does not make great sense as many of the advertisements for lending (credit cards, in particular) talk in terms of the prime rate plus a percentage. This is due to mortgage rates for 30-year fixed rate mortgages (like we are working to explain in this analysis) are to the 10-year Treasury bond rate.[8]\n"
   ],
   "metadata": {
    "collapsed": false,
    "pycharm": {
     "name": "#%% md\n"
    }
   }
  },
  {
   "cell_type": "markdown",
   "source": [
    "<a id='v_cbsa_code'></a>\n",
    "\n",
    "## 2.5 housing_inventory vs. cbsa_code\n",
    "\n",
    "As we are using raw CBSA codes without additional area aggregation, there is no expectation to identify codes with surge or decline in housing inventory. This caveat aside, let's tabulate the housing inventory by cbsa code."
   ],
   "metadata": {
    "collapsed": false
   }
  },
  {
   "cell_type": "code",
   "execution_count": null,
   "outputs": [],
   "source": [
    "t_grouped = df.groupby('cbsa_code')\n",
    "t_grouped_y = t_grouped['housing_inventory'].describe().sort_values('max', ascending=False)\n",
    "tabulate(t_grouped_y, headers=['cbsa','count','mean', 'sd', 'min','Q1','Q2','Q3','max'], tablefmt='html')"
   ],
   "metadata": {
    "collapsed": false,
    "pycharm": {
     "name": "#%%\n"
    }
   }
  },
  {
   "cell_type": "markdown",
   "metadata": {
    "pycharm": {
     "name": "#%% md\n"
    }
   },
   "source": [
    "Let's lookup the top three to see where they are at:"
   ]
  },
  {
   "cell_type": "code",
   "execution_count": null,
   "outputs": [],
   "source": [
    "db_file = 'housing_inventory.db'\n",
    "db_con, db_cur = create_connection(db_file)\n",
    "\n",
    "query = \"\"\"\n",
    "SELECT distinct(cbsa_title)\n",
    "from housing_inventory\n",
    "WHERE cbsa_code = 35620\n",
    "   OR cbsa_code = 33100\n",
    "   OR cbsa_code = 16980\n",
    "\n",
    "\"\"\"\n",
    "result = list(db_con.execute(query))\n",
    "tabulate(result, headers=['CBSA Title'], tablefmt='html')"
   ],
   "metadata": {
    "collapsed": false,
    "pycharm": {
     "name": "#%%\n"
    }
   }
  },
  {
   "cell_type": "markdown",
   "source": [
    "Interesting the top areas in aggregate across the 49 time reporting periods are the composite metro areas across New York-Jersey City, Chicago-Naperville-Elgin, and Miami-Ft. Lauderdale-West Palm Beach areas. Intuitively, one might have thought that a Southern California area might break into the top three.\n",
    "\n",
    "---\n",
    "\n",
    "# References\n",
    "\n",
    "[1]  Realtor.com. (n.d.). Realtor.com Real Estate Data and Market Trends for Download. Realtor.Com Economic Research. Retrieved November 28, 2021, from https://www.realtor.com/research/data/\n",
    "\n",
    "[2] US Census Bureau (MCD): Cheryl Cornish, Stephen Cooper, Salima Jenkins. (n.d.). Building Permits Survey Definitions Page. Census Bureau. Retrieved November 28, 2021, from https://www.census.gov/construction/bps/definitions/#b\n",
    "\n",
    "[3] Freddie Mac. (2021, November 24). Mortgage Rates - Freddie Mac. Mortgage Rates. Retrieved November 28, 2021, from http://www.freddiemac.com/pmms/\n",
    "\n",
    "[4] Federal Reserve. (n.d.). The Fed - What is the prime rate, and does the Federal Reserve set the prime rate? Board of Governors of the Federal Reserve System. Retrieved November 28, 2021, from https://www.federalreserve.gov/faqs/credit_12846.htm\n",
    "\n",
    "[5] The Fed - Consumer Credit - G.19. (n.d.). Consumer Credit. Retrieved November 28, 2021, from https://www.federalreserve.gov/Releases/g19/current/\n",
    "\n",
    "[6] United States Federal Government. (n.d.). Core Based Statistical Areas (National) - CKAN. Data.Gov. Retrieved November 28, 2021, from https://catalog.data.gov/dataset/core-based-statistical-areas-national\n",
    "\n",
    "[7] Wikipedia contributors. (2021, July 14). Core-based statistical area. Wikipedia. Retrieved November 29, 2021, from https://en.wikipedia.org/wiki/Core-based_statistical_area\n",
    "\n",
    "[8] Ostrowski, J. (2021, September 23). How The Fed’s Rate Decisions Affect Mortgage Rates. Bankrate. Retrieved November 30, 2021, from https://www.bankrate.com/mortgages/federal-reserve-and-mortgage-rates/"
   ],
   "metadata": {
    "collapsed": false,
    "pycharm": {
     "name": "#%% md\n"
    }
   }
  }
 ],
 "metadata": {
  "kernelspec": {
   "display_name": "Python 3 (ipykernel)",
   "language": "python",
   "name": "python3"
  },
  "language_info": {
   "codemirror_mode": {
    "name": "ipython",
    "version": 3
   },
   "file_extension": ".py",
   "mimetype": "text/x-python",
   "name": "python",
   "nbconvert_exporter": "python",
   "pygments_lexer": "ipython3",
   "version": "3.9.6"
  }
 },
 "nbformat": 4,
 "nbformat_minor": 1
}