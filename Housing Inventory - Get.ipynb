{
 "cells": [
  {
   "cell_type": "code",
   "execution_count": 1,
   "outputs": [],
   "source": [
    "%matplotlib inline"
   ],
   "metadata": {
    "collapsed": false,
    "pycharm": {
     "name": "#%%\n"
    }
   }
  },
  {
   "cell_type": "markdown",
   "source": [
    "# Housing Inventory - Get\n",
    "\n",
    "This notebook creates the SQLite database and imports the data from the staged data sources bundled in the package.\n",
    "\n",
    "## 1. Database Construction\n",
    "\n",
    "The database can be constructed by running the DDL file as stdin to the database file as follows:\n",
    "\n",
    "```\n",
    "sqlite3 housing_inventory.db < create_db.sql\n",
    "\n",
    "```\n",
    "Alternatively, it can be created by running this cell:"
   ],
   "metadata": {
    "collapsed": false,
    "pycharm": {
     "name": "#%% md\n"
    }
   }
  },
  {
   "cell_type": "code",
   "execution_count": 2,
   "outputs": [
    {
     "data": {
      "text/plain": "0"
     },
     "execution_count": 2,
     "metadata": {},
     "output_type": "execute_result"
    }
   ],
   "source": [
    "import os\n",
    "os.system('sqlite3 housing_inventory.db < create_db.sql')"
   ],
   "metadata": {
    "collapsed": false,
    "pycharm": {
     "name": "#%%\n"
    }
   }
  },
  {
   "cell_type": "markdown",
   "source": [
    "This creates the various tables, populates the staging information, and then aggregates the data in a denormalized central table to facilitate analysis. This structure is illustrated below as:  ![db table layout](images/db%20table%20layout.jpg)\n",
    "\n",
    "\n",
    "## 2. Pre-Processing\n",
    "- Housing Inventory\n",
    "- Number of Building Permits\n",
    "- Mortgage Rates\n",
    "- Prime Interest Rates\n",
    "- Millions of Dollars in Revolving Credit\n",
    "\n",
    "\n",
    "## 3. Import Process\n",
    "\n",
    "First, let's stage some helper functions we will reuse."
   ],
   "metadata": {
    "collapsed": false,
    "pycharm": {
     "name": "#%% md\n"
    }
   }
  },
  {
   "cell_type": "code",
   "execution_count": 3,
   "outputs": [],
   "source": [
    "import openpyxl as op\n",
    "import pandas as pd\n",
    "import sqlite3\n",
    "from datetime import datetime\n",
    "\n",
    "def create_connection(db_file: str) -> dict:\n",
    "    \"\"\"\n",
    "    Create a database connection to the SQLite database specified by db_file\n",
    "    :param db_file: database file\n",
    "    :return: Connection object or None\n",
    "    \"\"\"\n",
    "    db={}\n",
    "    db['con'] = None\n",
    "    db['cur'] = None\n",
    "    try:\n",
    "        db['con'] = sqlite3.connect(db_file)\n",
    "        db['cur'] = db['con'].cursor()\n",
    "    except sqlite3.Error as e:\n",
    "        print(e)\n",
    "    return db\n",
    "\n",
    "\n",
    "def close_connection(db_conn: sqlite3.Connection) -> None:\n",
    "    return db_conn.close()\n",
    "\n",
    "\n",
    "db_file = 'housing_inventory.db'"
   ],
   "metadata": {
    "collapsed": false,
    "pycharm": {
     "name": "#%%\n"
    }
   }
  },
  {
   "cell_type": "markdown",
   "source": [
    "### 3.1 Import Housing Inventory"
   ],
   "metadata": {
    "collapsed": false,
    "pycharm": {
     "name": "#%% md\n"
    }
   }
  },
  {
   "cell_type": "code",
   "execution_count": 4,
   "outputs": [],
   "source": [
    "src_csv = 'src data/RDC_Inventory_Core_Metrics_Metro_History.csv'\n",
    "main_columns = ['month_date_yyyymm', 'cbsa_code', 'cbsa_title', 'total_listing_count']\n",
    "\n",
    "def get_info(t_file: str) -> pd.DataFrame:\n",
    "    \"\"\"\n",
    "    Get the info out of the csv file and handle the year month breakout\n",
    "    :param t_file:\n",
    "    :return:\n",
    "    \"\"\"\n",
    "    df = pd.read_csv(t_file, header=0)\n",
    "    df = df.loc[:, df.columns.isin(main_columns)]\n",
    "    return df\n",
    "\n",
    "\n",
    "def fill_db(t_df: pd.DataFrame, db: dict) -> None:\n",
    "    \"\"\"\n",
    "    Take the dictionary and fill the database\n",
    "    \"\"\"\n",
    "    con = db['con']\n",
    "    cur = db['cur']\n",
    "\n",
    "    entries = []\n",
    "    for index, row in t_df.iterrows():\n",
    "        entries.append([row.month_date_yyyymm, row.cbsa_code, row.cbsa_title, row.total_listing_count])\n",
    "    cur.executemany(\n",
    "        'INSERT into housing_inventory (year_month, cbsa_code, cbsa_title, total_listing_count) VALUES (?, ?, ?, ?)',\n",
    "        entries)\n",
    "    con.commit()\n",
    "    return\n",
    "\n",
    "def main(t_db_file=db_file):\n",
    "    housing_inventory_df = get_info(src_csv)\n",
    "    db_ref = create_connection(t_db_file)\n",
    "    fill_db(housing_inventory_df, db_ref)\n",
    "    close_connection(db_ref['con'])\n",
    "    return\n",
    "\n",
    "main()"
   ],
   "metadata": {
    "collapsed": false,
    "pycharm": {
     "name": "#%%\n"
    }
   }
  },
  {
   "cell_type": "markdown",
   "source": [
    "### 3.2 Import Building Permits\n",
    "\n",
    "Importing the building permits is a bit more involved. The data from 2016-2018 was in tabular text data while the 2019 and 2020 data was in Excel format. In the spirit of normalizing the import int the database, the textual files were manually converted to Microsoft Excel format."
   ],
   "metadata": {
    "collapsed": false,
    "pycharm": {
     "name": "#%% md\n"
    }
   }
  },
  {
   "cell_type": "code",
   "execution_count": 5,
   "outputs": [],
   "source": [
    "master_tab = 'MSA Units'\n",
    "\n",
    "excel_files = ['src data/building permits/2019 building permits.xlsx',\n",
    "               'src data/building permits/2020 building permits.xlsx',\n",
    "               'src data/building permits/2016 units.xlsx',\n",
    "               'src data/building permits/2017 units.xlsx',\n",
    "               'src data/building permits/2018 units.xlsx']\n",
    "def get_padded_months() -> list:\n",
    "    padded_months = [''.join(['0', str(x)]) for x in range(1, 10)]\n",
    "    padded_months.append('11')\n",
    "    padded_months.append('12')\n",
    "    return padded_months\n",
    "\n",
    "\n",
    "def get_spreadsheet_info(t_file: str, t_padded_months: list) -> list:\n",
    "    \"\"\"\n",
    "    Get the info out of the csv file and handle the year month breakout\n",
    "    :param t_file:\n",
    "    :return:\n",
    "    \"\"\"\n",
    "    if '2020' in t_file:\n",
    "        year = '2020'\n",
    "    elif '2019' in t_file:\n",
    "        year = '2019'\n",
    "    elif '2018' in t_file:\n",
    "        year = '2017'\n",
    "    elif '2017' in t_file:\n",
    "        year = '2017'\n",
    "    elif '2016' in t_file:\n",
    "        year = '2016'\n",
    "\n",
    "    wb = op.load_workbook(t_file)\n",
    "    results = []\n",
    "    master_sheet = wb[master_tab]\n",
    "    for cell_value in master_sheet.iter_rows(min_row=8, min_col=1, max_col=4, values_only=True):\n",
    "        if cell_value[0] is None: break\n",
    "        cbsa_code = cell_value[1]\n",
    "        monthly_est = int(cell_value[3]) / 12  # we have annual rollups, let's estimate via mean\n",
    "        month_entries = [[''.join([year, x]), cbsa_code, monthly_est] for x in t_padded_months]\n",
    "        [results.append(month) for month in month_entries]\n",
    "    return results\n",
    "\n",
    "\n",
    "def fill_db(t_entries: list, db: dict) -> None:\n",
    "    \"\"\"\n",
    "    Take the dictionary and fill the database\n",
    "    \"\"\"\n",
    "    con = db['con']\n",
    "    cur = db['cur']\n",
    "    cur.executemany(\n",
    "        'INSERT into building_permits(year_month, cbsa_code, total_units) VALUES (?, ?, ?)',\n",
    "        t_entries)\n",
    "    con.commit()\n",
    "    return\n",
    "\n",
    "\n",
    "def main(t_db_file = db_file):\n",
    "    padded_months = get_padded_months()\n",
    "    db_ref = create_connection(t_db_file)\n",
    "    for spreadsheet in excel_files:\n",
    "         permits = get_spreadsheet_info(spreadsheet, padded_months)\n",
    "         fill_db(permits, db_ref)\n",
    "    close_connection(db_ref['con'])\n",
    "    return\n",
    "\n",
    "\n",
    "main()\n",
    "\n"
   ],
   "metadata": {
    "collapsed": false,
    "pycharm": {
     "name": "#%%\n"
    }
   }
  },
  {
   "cell_type": "markdown",
   "source": [
    "### 3.3 Import Mortgage Rates"
   ],
   "metadata": {
    "collapsed": false,
    "pycharm": {
     "name": "#%% md\n"
    }
   }
  },
  {
   "cell_type": "code",
   "execution_count": 6,
   "outputs": [],
   "source": [
    "master_tab = 'Full History'\n",
    "src_file = 'src data/historical weekly mortgage data.xlsx'\n",
    "\n",
    "def get_info(t_file: str) -> list:\n",
    "    \"\"\"\n",
    "    Get the info out of the csv file and handle the year month breakout\n",
    "    :param t_file:\n",
    "    :return:\n",
    "    \"\"\"\n",
    "    wb = op.load_workbook(t_file)\n",
    "    results=[]\n",
    "    master_sheet = wb[master_tab]\n",
    "    for cell_value in master_sheet.iter_rows(min_row=8, min_col=0, max_col=2, values_only=True):\n",
    "        if cell_value[0] is None: break\n",
    "        t_date = cell_value[0]\n",
    "        new_date = datetime.strftime(t_date,'%Y%m')\n",
    "        # only retain the records after June 2016 for import into the db\n",
    "        if new_date > '201606':\n",
    "            results.append([new_date, cell_value[1]])\n",
    "    return results\n",
    "\n",
    "\n",
    "def fill_db(t_entries: list, db: dict) -> None:\n",
    "    \"\"\"\n",
    "    Take the dictionary and fill the database\n",
    "    \"\"\"\n",
    "    con = db['con']\n",
    "    cur = db['cur']\n",
    "\n",
    "    cur.executemany(\n",
    "        'INSERT into mortgage_rates (year_month, mortgage_rate) VALUES (?, ?)',\n",
    "        t_entries)\n",
    "    con.commit()\n",
    "    return\n",
    "\n",
    "\n",
    "def main(t_db_file = db_file):\n",
    "    mortgage_inventory = get_info(src_file)\n",
    "    db_ref = create_connection(t_db_file)\n",
    "    fill_db(mortgage_inventory, db_ref)\n",
    "    close_connection(db_ref['con'])\n",
    "    return\n",
    "\n",
    "main()"
   ],
   "metadata": {
    "collapsed": false,
    "pycharm": {
     "name": "#%%\n"
    }
   }
  },
  {
   "cell_type": "markdown",
   "source": [
    "### 3.5 Import Prime Rate"
   ],
   "metadata": {
    "collapsed": false,
    "pycharm": {
     "name": "#%% md\n"
    }
   }
  },
  {
   "cell_type": "code",
   "execution_count": 7,
   "outputs": [],
   "source": [
    "master_tab = 'Sheet1'\n",
    "src_file = 'src data/Prime Interest Rates.xlsx'\n",
    "\n",
    "\n",
    "def get_info(t_file: str) -> list:\n",
    "    \"\"\"\n",
    "    Get the info out of the csv file and handle the year month breakout\n",
    "    :param t_file:\n",
    "    :return:\n",
    "    \"\"\"\n",
    "    wb = op.load_workbook(t_file)\n",
    "    results=[]\n",
    "    master_sheet = wb[master_tab]\n",
    "    for cell_value in master_sheet.iter_rows(min_row=7, min_col=0, max_col=2, values_only=True):\n",
    "        if cell_value[0] is None: break\n",
    "        new_date = datetime.strptime(cell_value[0],'%Y-%m')\n",
    "        new_date = datetime.strftime(new_date, '%Y%m')\n",
    "        # only retain the records after June 2016 for import into the db\n",
    "        if new_date > '201606':\n",
    "            results.append([new_date, cell_value[1]])\n",
    "    return results\n",
    "\n",
    "\n",
    "def fill_db(t_entries: list, db: dict) -> None:\n",
    "    \"\"\"\n",
    "    Take the dictionary and fill the database\n",
    "    \"\"\"\n",
    "    con = db['con']\n",
    "    cur = db['cur']\n",
    "    cur.executemany(\n",
    "        'INSERT into prime_rates(year_month, prime_rate) VALUES (?, ?)',\n",
    "        t_entries)\n",
    "    con.commit()\n",
    "    return\n",
    "\n",
    "\n",
    "def main(t_db_file = db_file):\n",
    "    prime_rates= get_info(src_file)\n",
    "    db_ref = create_connection(t_db_file)\n",
    "    fill_db(prime_rates, db_ref)\n",
    "    close_connection(db_ref['con'])\n",
    "    return\n",
    "\n",
    "\n",
    "main()"
   ],
   "metadata": {
    "collapsed": false,
    "pycharm": {
     "name": "#%%\n"
    }
   }
  },
  {
   "cell_type": "markdown",
   "source": [
    "### 3.5 Import Revolving Credit"
   ],
   "metadata": {
    "collapsed": false,
    "pycharm": {
     "name": "#%% md\n"
    }
   }
  },
  {
   "cell_type": "code",
   "execution_count": 8,
   "outputs": [],
   "source": [
    "master_tab = 'FRB_G19'\n",
    "src_file = 'src data/Revolving Credit.xlsx'\n",
    "\n",
    "\n",
    "def get_info(t_file: str) -> list:\n",
    "    \"\"\"\n",
    "    Get the info out of the csv file and handle the year month breakout\n",
    "    :param t_file:\n",
    "    :return:\n",
    "    \"\"\"\n",
    "    wb = op.load_workbook(t_file)\n",
    "    results=[]\n",
    "    master_sheet = wb[master_tab]\n",
    "    for cell_value in master_sheet.iter_rows(min_row=7, min_col=0, max_col=2, values_only=True):\n",
    "        if cell_value[0] is None: break\n",
    "        new_date = datetime.strptime(cell_value[0],'%Y-%m')\n",
    "        new_date = datetime.strftime(new_date, '%Y%m')\n",
    "        # only retain the records after June 2016 for import into the db\n",
    "        if new_date > '201606':\n",
    "            results.append([new_date, cell_value[1]])\n",
    "    return results\n",
    "\n",
    "\n",
    "def fill_db(t_entries: list, db: dict) -> None:\n",
    "    \"\"\"\n",
    "    Take the dictionary and fill the database\n",
    "    \"\"\"\n",
    "    con = db['con']\n",
    "    cur = db['cur']\n",
    "    cur.executemany(\n",
    "        'INSERT into revolving_credit(year_month, credit) VALUES (?, ?)',\n",
    "        t_entries)\n",
    "    con.commit()\n",
    "    return\n",
    "\n",
    "\n",
    "def main(t_db_file = db_file):\n",
    "    credit = get_info(src_file)\n",
    "    db_ref = create_connection(t_db_file)\n",
    "    fill_db(credit, db_ref)\n",
    "    close_connection(db_ref['con'])\n",
    "    return\n",
    "\n",
    "main()"
   ],
   "metadata": {
    "collapsed": false,
    "pycharm": {
     "name": "#%%\n"
    }
   }
  }
 ],
 "metadata": {
  "kernelspec": {
   "display_name": "Python 3",
   "language": "python",
   "name": "python3"
  },
  "language_info": {
   "codemirror_mode": {
    "name": "ipython",
    "version": 2
   },
   "file_extension": ".py",
   "mimetype": "text/x-python",
   "name": "python",
   "nbconvert_exporter": "python",
   "pygments_lexer": "ipython2",
   "version": "2.7.6"
  }
 },
 "nbformat": 4,
 "nbformat_minor": 0
}