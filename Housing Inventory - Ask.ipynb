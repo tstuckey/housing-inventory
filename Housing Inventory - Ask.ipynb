{
 "cells": [
  {
   "cell_type": "markdown",
   "metadata": {
    "collapsed": true,
    "pycharm": {
     "name": "#%% md\n"
    }
   },
   "source": [
    "# Housing Inventory - Ask\n",
    "\n",
    "**Tom Stuckey**\n",
    "\n",
    "December 2021\n",
    "\n",
    "# 1 Introduction\n",
    "\n",
    "As the United States begins to rebound from the COVID-19 pandemic, there are many interesting happenings at both the macro-economic level and the micro-economic level that economists and econometrists will be likely researching for decades to come. On the micro-economics side, housing is interesting topic. Rocket mortgage explicitly identifies low-mortgage rates, additional remote work opportunities, and a lack of new construction. [1](#r_rocket) At time of this writing in late 2021, most metropolitan areas have been experiencing major increases in housing prices in a decidedly strong seller's market. This analysis aims to explain housing inventory as a function of several variables.\n",
    "\n",
    "# 2 Objective\n",
    "\n",
    "Housing inventory availability, as shelter, is at the foundation of Maslow's hierarchy of needs. [2](#r_maslow) As a foundational element of existence, it has many second and third order effects across the economy. While Rocket Mortgage identified some main drivers for the lack of housing inventory, there are many other variables involved. This analysis focuses on combining several data sources from 2016 to 2020 to develop a linear model that explains overall housing inventory.\n",
    "\n",
    "\n",
    "# 3 Explaining Housing Inventory\n",
    "\n",
    "Looking across several publicly available datasets from 2016 to 2020, would it be possible to  develop a linear model to explain the housing inventory. With all the variables that go into housing inventory, one would theoretically be able to accurately predict the number of available houses for sale or rent. Commercial entities could leverage this to tailor both product and service offerings, and government entities at the local, state, and federal levels could use the model to adjust policies, regulations, and tax rates. Of course, all potential variables across all time period across all areas is an intractable problem. This analysis focuses on a relatively narrow slice of available data. It is important to note this analysis is focused on explaining the housing inventory as a function of several variables, but time is not one of the included variables. While monthly data points are normalized across all data sets, the time component is expressly excluded from the analysis.\n",
    "\n",
    "To this end, what makes the most sense to include in this housing inventory analysis? Using the Rocket Mortgage recommendations (mortgage rates, remote work opportunities, and new construction) as a starting point and cross-referencing with domain knowledge and available data, five data sources are used in this analysis: housing inventory, building permits, mortgage rates, prime interest rates, and revolving credit.\n",
    "\n",
    "## 3.1 Housing Inventory\n",
    "\n",
    "The number of available houses for purchase or rent by month and CBSA (core based statistical area, a standard location code for metropolitan areas across the United States) plus a wide variety of variables is available from Realor.com. [4](#r_realtor) Essentially, the total number of available units per month is the response variable of interest for this analysis. This data was available as modestly sized ~14MB comma seperated value (CSV) file.\n",
    "\n",
    "## 3.2 Building Permits\n",
    "Building permits are the authorizations by the particular local governments for both new construction and for remodeling. They are good indicator of the upcoming housing units about to enter the housing inventory. Essentially building permits are a check to ensure that licensed contractors are going to be performing the work aligned with zoning restrictions and building codes. The data used in this analysis comes from the Census bureau that aggregates annual data according to CBSA code. Data is published by the Census Bureau with this information one year per data set. 2016-2018 are textual files and 2019 and 2020 are in Microsoft Excel xlsx format. [5](#r_census)\n",
    "\n",
    "## 3.3 Mortgage Rates\n",
    "\n",
    "Mortgage rates are a major driver influencing people's decision to buy vs rent. Low mortgage rates encourage people to buy houses which reduces inventory. Historical monthly mortgage rates are available many places; this analysis leverages those published by Freddie Mac. [6](#r_freddie) These historical rates are available as a single Microsoft Excel xlsx formatted spreadsheet.\n",
    "\n",
    "## 3.4 Prime Interest Rates\n",
    "\n",
    "Prime interest rate refers to the interest rate the commercial banks use to lend money to their most credit-worthy corporate customers, and it is derived from the foundational federal funds overnight rate. [7](#r_invest) It is principle driver in the formulation of the mortgage rates. Similar to mortgage rates, the historical prime rates are available from multiple sources. For this analysis, the prime rates from the Federal Reserve are used. [8](#r_fedres) The historical prime interest rates are available as a single Microsoft Excel xlsx formatted spreadsheet.\n",
    "\n",
    "## 3.5 Revolving Credit\n",
    "\n",
    "Revolving credit is a monthly measure aggregated across all households (excluding credit backed by real-estate) published by the Federal Reserve. [9](#r_revcred) It is an indicator of potential disposable income. Restated, if more money tied up in revolving credit means there is less money to invest in purchasing a house.\n",
    "\n",
    "# 4 Conclusion\n",
    "\n",
    "This is only a high-level summary of the problem focus and the data sources leveraged for the housing data analysis. The bulk of the analysis is contained in the packaged notebooks. [Housing Inventory - Presentation](Housing%20Inventory%20-%20Presentation.pdf) contains the final summary report and presentation.\n",
    "\n",
    "\n",
    "---\n",
    "\n",
    "**References**\n",
    "\n",
    "[1] <a id='r_rocket'></a>   Ayers, C. (2021, August 13). How A Low Housing Inventory Impacts The Real Estate Market. Rocket Mortgage. Retrieved October 15, 2021, from https://www.rocketmortgage.com/learn/low-housing-inventory\n",
    "\n",
    "[2] <a id='r_maslow'></a>  Mcleod, S. (2020, December 29). Maslow’s Hierarchy of Needs. Simply Psychology. Retrieved November 24, 2021, from https://www.simplypsychology.org/maslow.html\n",
    "\n",
    "[3] <a id='r_data_sci'></a> Pfister, H. P., Blitzstein, J. B., & Kaynig, V. K. (2015, December 5). CS109 Data Science. Https://Github.Com/Cs109/. Retrieved November 24, 2021, from https://github.com/cs109/2015/blob/master/Lectures/01-Introduction.pdf\n",
    "\n",
    "[4] <a id='r_realtor'></a> https://www.realtor.com/research/data/\n",
    "\n",
    "[5]<a id='r_census'></a> https://www.census.gov/construction/bps/msaannual.html\n",
    "\n",
    "[6] <a id='r_freddie'></a> http://www.freddiemac.com/pmms/\n",
    "\n",
    "[7] <a id='r_invest'></a> Investopedia. (2020, June 30). Prime Rate Definition. Retrieved November 25, 2021, from https://www.investopedia.com/terms/p/primerate.asp\n",
    "\n",
    "[8] <a id='r_fredres'></a> https://www.federalreserve.gov/datadownload/Download.aspx?rel=H15&series=6fa2b8138e0eafe0ad6cde24ba2307f5&from=01/01/2004&to=12/31/2020&lastObs=&filetype=spreadsheetml&label=include&layout=seriescolumn\n",
    "\n",
    "[9] <a id='r_revcred'></a> https://www.federalreserve.gov/datadownload/Download.aspx?rel=g19&series=3f01d9dcee01c5a0459b2ed2450bd7de&filetype=csv&label=include&layout=seriescolumn&from=01/01/2004&to=12/31/2020"
   ]
  },
  {
   "cell_type": "code",
   "execution_count": null,
   "outputs": [],
   "source": [],
   "metadata": {
    "collapsed": false,
    "pycharm": {
     "name": "#%%\n"
    }
   }
  }
 ],
 "metadata": {
  "kernelspec": {
   "display_name": "Python 3",
   "language": "python",
   "name": "python3"
  },
  "language_info": {
   "codemirror_mode": {
    "name": "ipython",
    "version": 2
   },
   "file_extension": ".py",
   "mimetype": "text/x-python",
   "name": "python",
   "nbconvert_exporter": "python",
   "pygments_lexer": "ipython2",
   "version": "2.7.6"
  }
 },
 "nbformat": 4,
 "nbformat_minor": 0
}